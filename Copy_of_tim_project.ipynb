{
  "cells": [
    {
      "cell_type": "code",
      "execution_count": null,
      "metadata": {
        "id": "pg4UFpSiFbqQ"
      },
      "outputs": [],
      "source": [
        "import json"
      ]
    },
    {
      "cell_type": "code",
      "execution_count": null,
      "metadata": {
        "id": "QVkCKukqQmuS"
      },
      "outputs": [],
      "source": [
        "netowrkName = \"RO\""
      ]
    },
    {
      "cell_type": "code",
      "execution_count": null,
      "metadata": {
        "id": "Vrsc4LKDGm3r"
      },
      "outputs": [],
      "source": [
        "with open('/content/'+netowrkName+'_genres.json', 'r') as myfile:\n",
        "    data=myfile.read()\n",
        "obj = json.loads(data)"
      ]
    },
    {
      "cell_type": "code",
      "execution_count": null,
      "metadata": {
        "id": "QnRxAaC2JlVS"
      },
      "outputs": [],
      "source": [
        "topicsHits = {}\n",
        "noTopics = 0\n",
        "for key in obj.keys():\n",
        "  if(len(obj.get(key))==0):\n",
        "    noTopics += 1\n",
        "  for category in obj.get(key):\n",
        "    if(category in topicsHits.keys()):\n",
        "      topicsHits[category] += 1\n",
        "    else:\n",
        "      topicsHits[category] = 0\n",
        "      topicsHits[category] += 1"
      ]
    },
    {
      "cell_type": "markdown",
      "metadata": {
        "id": "yojJB6YXSf8v"
      },
      "source": [
        "#Deezer"
      ]
    },
    {
      "cell_type": "code",
      "execution_count": null,
      "metadata": {
        "colab": {
          "base_uri": "https://localhost:8080/"
        },
        "id": "CWYxmJKrSQoY",
        "outputId": "e8362a98-7723-488b-ffe3-6a2475d407a3"
      },
      "outputs": [
        {
          "output_type": "stream",
          "name": "stdout",
          "text": [
            "nodes: 41773\n",
            "topics: 84\n",
            "nodes with no topics: 0\n"
          ]
        }
      ],
      "source": [
        "print(\"nodes:\", len(obj))\n",
        "print(\"topics:\", len(topicsHits))\n",
        "print(\"nodes with no topics:\", noTopics)"
      ]
    },
    {
      "cell_type": "markdown",
      "metadata": {
        "id": "lL_A2pIGaBrJ"
      },
      "source": [
        "topics"
      ]
    },
    {
      "cell_type": "code",
      "execution_count": null,
      "metadata": {
        "colab": {
          "base_uri": "https://localhost:8080/"
        },
        "id": "giLK_NZGMXuR",
        "outputId": "06a8fd56-5775-48ac-8b41-5421855c8cf2"
      },
      "outputs": [
        {
          "output_type": "execute_result",
          "data": {
            "text/plain": [
              "{'Films/Games': 7353,\n",
              " 'Dance': 21208,\n",
              " 'Pop': 33420,\n",
              " 'International Pop': 11620,\n",
              " 'Techno/House': 6811,\n",
              " 'R&B': 11933,\n",
              " 'Contemporary R&B': 6088,\n",
              " 'Film Scores': 6924,\n",
              " 'Electro': 16550,\n",
              " 'Reggae': 3042,\n",
              " 'Rap/Hip Hop': 18849,\n",
              " 'Metal': 4264,\n",
              " 'East Coast': 1780,\n",
              " 'Rock': 16630,\n",
              " 'Alternative': 14966,\n",
              " 'Hard Rock': 3189,\n",
              " 'Disco': 5841,\n",
              " 'Singer & Songwriter': 5520,\n",
              " 'Trance': 564,\n",
              " 'Latin Music': 5139,\n",
              " 'Indie Rock': 7365,\n",
              " 'Dancefloor': 3439,\n",
              " 'Indie Pop/Folk': 4999,\n",
              " 'Indie Rock/Rock pop': 2777,\n",
              " 'Dancehall/Ragga': 815,\n",
              " 'Indie Pop': 5470,\n",
              " 'Country': 1645,\n",
              " 'Rock & Roll/Rockabilly': 1319,\n",
              " 'Blues': 1767,\n",
              " 'Dubstep': 1922,\n",
              " 'Electro Hip Hop': 969,\n",
              " 'Kids': 1563,\n",
              " 'Chill Out/Trip-Hop/Lounge': 922,\n",
              " 'Electro Pop/Electro Rock': 234,\n",
              " 'Contemporary Soul': 922,\n",
              " 'Classical': 2119,\n",
              " 'Vocal jazz': 385,\n",
              " 'Jazz': 2292,\n",
              " 'Dub': 225,\n",
              " 'Soundtracks': 520,\n",
              " 'Comedy': 589,\n",
              " 'Alternative Country': 159,\n",
              " 'TV Soundtracks': 258,\n",
              " 'Musicals': 269,\n",
              " 'Folk': 1693,\n",
              " 'Grime': 64,\n",
              " 'Asian Music': 328,\n",
              " 'Oldschool R&B': 144,\n",
              " 'Brazilian Music': 511,\n",
              " 'Spirituality & Religion': 530,\n",
              " 'Old school soul': 207,\n",
              " 'Game Scores': 50,\n",
              " 'Dirty South': 672,\n",
              " 'Soul & Funk': 1436,\n",
              " 'Old School': 37,\n",
              " 'Modern': 22,\n",
              " 'West Coast': 90,\n",
              " 'Instrumental jazz': 349,\n",
              " 'Opera': 505,\n",
              " 'Urban Cowboy': 27,\n",
              " 'Sports': 78,\n",
              " 'Chicago Blues': 57,\n",
              " 'Bolero': 85,\n",
              " 'Baroque': 33,\n",
              " 'Electric Blues': 49,\n",
              " 'Ska': 57,\n",
              " 'Nursery Rhymes': 25,\n",
              " 'African Music': 123,\n",
              " 'Romantic': 11,\n",
              " 'Jazz Hip Hop': 86,\n",
              " 'Ranchera': 10,\n",
              " 'Indian Music': 50,\n",
              " 'Tropical': 45,\n",
              " 'Norteño': 1,\n",
              " 'Classical Period': 22,\n",
              " 'Bollywood': 73,\n",
              " 'Bluegrass': 7,\n",
              " 'Country Blues': 6,\n",
              " 'Corridos': 1,\n",
              " 'Classic Blues': 2,\n",
              " 'Acoustic Blues': 8,\n",
              " 'TV shows & movies': 1,\n",
              " 'Kids & Family': 1,\n",
              " 'Stories': 1}"
            ]
          },
          "metadata": {},
          "execution_count": 8
        }
      ],
      "source": [
        "  topicsHits"
      ]
    },
    {
      "cell_type": "code",
      "execution_count": null,
      "metadata": {
        "id": "w1s6RhT5KJD7"
      },
      "outputs": [],
      "source": [
        "import networkx as nx\n",
        "# G = nx.Graph()\n",
        "# G.add_node('2')"
      ]
    },
    {
      "cell_type": "code",
      "execution_count": null,
      "metadata": {
        "id": "--TCE1AkLBmh"
      },
      "outputs": [],
      "source": [
        "def readGraph(fileAddress):\n",
        "  G=nx.Graph()\n",
        "  with open(fileAddress) as f:\n",
        "    for line in f:\n",
        "        # print(line.strip())\n",
        "        lineInputs = line.strip().split()\n",
        "        # print(lineInputs)\n",
        "        # print(lineInputs.length)\n",
        "        # (a,b,t1,t2,t3,t4,t5) = (lineInputs[0],lineInputs[1],lineInputs[2],lineInputs[3],lineInputs[4],lineInputs[5],lineInputs[6])\n",
        "        # print(lineInputs[2],t1)\n",
        "        # if(G.has_node(a) and G.has_node(b)):\n",
        "        #   continue\n",
        "        # G.add_node(a)\n",
        "        # G.add_node(b)\n",
        "        G.add_edge(lineInputs[0],lineInputs[1])\n",
        "        # G.add_edges_from([  (a,b,{\"p1\":t1 , \"p2\":t2 , \"p3\":t3 , \"p4\":t4, \"p5\":t5})])\n",
        "  return G"
      ]
    },
    {
      "cell_type": "code",
      "execution_count": null,
      "metadata": {
        "id": "6ecKM1usKS7V"
      },
      "outputs": [],
      "source": [
        "graph = readGraph(\"/content/\"+netowrkName+\"_edges.txt\")\n",
        "# graph.remove_node('node_1')\n",
        "# graph.remove_node('node_2')"
      ]
    },
    {
      "cell_type": "code",
      "execution_count": null,
      "metadata": {
        "colab": {
          "base_uri": "https://localhost:8080/"
        },
        "id": "vm_SpNKeLhDH",
        "outputId": "c82d9c78-edb0-44fd-bcf4-87ae722ff203"
      },
      "outputs": [
        {
          "output_type": "stream",
          "name": "stdout",
          "text": [
            "edges: 125826\n",
            "nodes 41773\n"
          ]
        }
      ],
      "source": [
        "print(\"edges:\", graph.number_of_edges())\n",
        "print(\"nodes\", graph.number_of_nodes())"
      ]
    },
    {
      "cell_type": "code",
      "execution_count": null,
      "metadata": {
        "id": "7WIY6N_eJsqL"
      },
      "outputs": [],
      "source": [
        "with open('/content/'+netowrkName+'_genres.json', 'r') as myfile:\n",
        "    data=myfile.read()\n",
        "obj = json.loads(data)"
      ]
    },
    {
      "cell_type": "code",
      "execution_count": null,
      "metadata": {
        "colab": {
          "base_uri": "https://localhost:8080/"
        },
        "id": "qwOiIB_UN4n2",
        "outputId": "8a5e16e6-5522-49ef-cafc-d7790b00fa08"
      },
      "outputs": [
        {
          "output_type": "stream",
          "name": "stdout",
          "text": [
            "['Films/Games', 'Dance', 'Pop', 'International Pop', 'Techno/House', 'R&B', 'Contemporary R&B', 'Film Scores', 'Electro', 'Reggae', 'Rap/Hip Hop', 'Metal', 'East Coast', 'Rock', 'Alternative', 'Hard Rock', 'Disco', 'Singer & Songwriter', 'Trance', 'Latin Music', 'Indie Rock', 'Dancefloor', 'Indie Pop/Folk', 'Indie Rock/Rock pop', 'Dancehall/Ragga', 'Indie Pop', 'Country', 'Rock & Roll/Rockabilly', 'Blues', 'Dubstep', 'Electro Hip Hop', 'Kids', 'Chill Out/Trip-Hop/Lounge', 'Electro Pop/Electro Rock', 'Contemporary Soul', 'Classical', 'Vocal jazz', 'Jazz', 'Dub', 'Soundtracks', 'Comedy', 'Alternative Country', 'TV Soundtracks', 'Musicals', 'Folk', 'Grime', 'Asian Music', 'Oldschool R&B', 'Brazilian Music', 'Spirituality & Religion', 'Old school soul', 'Game Scores', 'Dirty South', 'Soul & Funk', 'Old School', 'Modern', 'West Coast', 'Instrumental jazz', 'Opera', 'Urban Cowboy', 'Sports', 'Chicago Blues', 'Bolero', 'Baroque', 'Electric Blues', 'Ska', 'Nursery Rhymes', 'African Music', 'Romantic', 'Jazz Hip Hop', 'Ranchera', 'Indian Music', 'Tropical', 'Norteño', 'Classical Period', 'Bollywood', 'Bluegrass', 'Country Blues', 'Corridos', 'Classic Blues', 'Acoustic Blues', 'TV shows & movies', 'Kids & Family', 'Stories']\n",
            "3\n"
          ]
        }
      ],
      "source": [
        "topics = list(topicsHits.keys())\n",
        "print(topics)\n",
        "print(topics.index('International Pop'))"
      ]
    },
    {
      "cell_type": "code",
      "execution_count": null,
      "metadata": {
        "id": "Xl6H9bzFOcKi"
      },
      "outputs": [],
      "source": [
        "import numpy as np\n"
      ]
    },
    {
      "cell_type": "code",
      "execution_count": null,
      "metadata": {
        "id": "fP9aAnbaJkeO"
      },
      "outputs": [],
      "source": [
        "for key in obj.keys():  #key is node name\n",
        "  topicPref = np.zeros(len(topics))\n",
        "  for category in obj.get(key):\n",
        "    topicPref[topics.index(category)] = 1\n",
        "  graph.nodes[key][\"topicsVec\"] = topicPref"
      ]
    },
    {
      "cell_type": "code",
      "execution_count": null,
      "metadata": {
        "colab": {
          "base_uri": "https://localhost:8080/"
        },
        "id": "3U8ADKwLSKCV",
        "outputId": "5c5fcfaa-3ac4-46bd-f500-29eacf56a1bc"
      },
      "outputs": [
        {
          "output_type": "stream",
          "name": "stdout",
          "text": [
            "[0. 0. 0. 0. 0. 0. 0. 0. 0. 0. 1. 1. 0. 0. 1. 0. 0. 0. 0. 0. 1. 0. 0. 0.\n",
            " 0. 0. 0. 0. 0. 0. 0. 0. 0. 0. 0. 0. 0. 0. 0. 0. 0. 0. 0. 0. 0. 0. 0. 0.\n",
            " 0. 0. 0. 0. 0. 0. 0. 0. 0. 0. 0. 0. 0. 0. 0. 0. 0. 0. 0. 0. 0. 0. 0. 0.\n",
            " 0. 0. 0. 0. 0. 0. 0. 0. 0. 0. 0. 0.]\n",
            "[0. 1. 1. 1. 1. 0. 0. 0. 1. 0. 0. 0. 0. 0. 0. 0. 0. 0. 1. 1. 0. 0. 0. 0.\n",
            " 0. 0. 0. 0. 0. 0. 0. 0. 0. 0. 0. 0. 0. 0. 0. 0. 0. 0. 0. 0. 0. 0. 0. 0.\n",
            " 0. 0. 0. 0. 0. 0. 0. 0. 0. 0. 0. 0. 0. 0. 0. 0. 0. 0. 0. 0. 0. 0. 0. 0.\n",
            " 0. 0. 0. 0. 0. 0. 0. 0. 0. 0. 0. 0.]\n"
          ]
        }
      ],
      "source": [
        "print(graph.nodes['14'][\"topicsVec\"])\n",
        "print(graph.nodes['12'][\"topicsVec\"])"
      ]
    },
    {
      "cell_type": "code",
      "execution_count": null,
      "metadata": {
        "id": "k8dylUHlRLyL"
      },
      "outputs": [],
      "source": [
        "def likeNess(pref1, pref2):\n",
        "  totalTopics = 0\n",
        "  totalSamePref = 0\n",
        "  for i in range(len(topics)):\n",
        "   if(pref1[i] or pref2[i]):\n",
        "     totalTopics += 1\n",
        "     totalSamePref += pref1[i] == pref2[i]\n",
        "  return totalSamePref/totalTopics\n",
        "def infProb(node, musicPref, network):\n",
        "  userPref = network.nodes[node][\"topicsVec\"]\n",
        "  totalTopics = 0\n",
        "  total = 0\n",
        "  max=0\n",
        "  for i in range(len(topics)):\n",
        "   if(userPref[i]):\n",
        "     if(max<musicPref[i]):\n",
        "       max = musicPref[i]\n",
        "    #  totalTopics += 1\n",
        "    #  total += musicPref[i]\n",
        "  # return (total)/(totalTopics)\n",
        "  return max\n",
        "def nodeLikeness(node1, node2, network):\n",
        "  return likeNess(network.nodes[node1][\"topicsVec\"], network.nodes[node2][\"topicsVec\"])\n",
        "def edgeWeight(edge, network):\n",
        "  (a,b) = edge\n",
        "  return likeNess(network.nodes[a][\"topicsVec\"], network.nodes[b][\"topicsVec\"])"
      ]
    },
    {
      "cell_type": "code",
      "execution_count": null,
      "metadata": {
        "colab": {
          "base_uri": "https://localhost:8080/"
        },
        "id": "Wr28vInVXqfe",
        "outputId": "f9a44b8a-4d84-402a-bb27-bc43daf8c93f"
      },
      "outputs": [
        {
          "output_type": "execute_result",
          "data": {
            "text/plain": [
              "0.8"
            ]
          },
          "metadata": {},
          "execution_count": 19
        }
      ],
      "source": [
        "musicPref = np.zeros(len(topics))\n",
        "musicPref[3] = 0.5\n",
        "musicPref[2] = 0.8\n",
        "infProb('10', musicPref, graph)"
      ]
    },
    {
      "cell_type": "code",
      "execution_count": null,
      "metadata": {
        "colab": {
          "base_uri": "https://localhost:8080/"
        },
        "id": "KsYPCE2jWkyx",
        "outputId": "d941b1dd-3447-4f4f-8577-a68814b3a3b4"
      },
      "outputs": [
        {
          "output_type": "execute_result",
          "data": {
            "text/plain": [
              "EdgeDataView([('10', '10338'), ('10', '26732'), ('10', '24103'), ('10', '31127'), ('10', '23917'), ('10', '20276'), ('10', '39527'), ('10', '15609'), ('10', '36093'), ('10', '5090'), ('10', '30778'), ('10', '8486'), ('10', '18950'), ('10', '30882'), ('10', '1991'), ('10', '29687'), ('10', '4360'), ('10', '10972'), ('10', '34750'), ('10', '31807'), ('10', '12657'), ('10', '7670'), ('10', '27741'), ('10', '32176'), ('10', '2821')])"
            ]
          },
          "metadata": {},
          "execution_count": 20
        }
      ],
      "source": [
        "graph.edges('10')"
      ]
    },
    {
      "cell_type": "markdown",
      "metadata": {
        "id": "6KwBD3yXykHe"
      },
      "source": [
        "set edge weights (according to likeness of nodes)"
      ]
    },
    {
      "cell_type": "code",
      "execution_count": null,
      "metadata": {
        "id": "h33AsfY3Qqyg"
      },
      "outputs": [],
      "source": [
        "for edge in graph.edges():\n",
        "  nx.set_edge_attributes(graph, {edge: {\"weight\": edgeWeight(edge,graph)}})"
      ]
    },
    {
      "cell_type": "code",
      "execution_count": null,
      "metadata": {
        "id": "MV_Nx_yAYYx_"
      },
      "outputs": [],
      "source": [
        "# print(graph.edges('10'))\n",
        "# graph.edges['10', '54274'][\"weight\"]"
      ]
    },
    {
      "cell_type": "code",
      "execution_count": null,
      "metadata": {
        "id": "OJ093esKWi2t"
      },
      "outputs": [],
      "source": [
        "# for edge in graph.edges('11'):\n",
        "#   print(graph.edges[edge[0],edge[1]][\"weight\"])"
      ]
    },
    {
      "cell_type": "markdown",
      "metadata": {
        "id": "2swulUsCbGQ3"
      },
      "source": [
        "# influence maximization"
      ]
    },
    {
      "cell_type": "code",
      "execution_count": null,
      "metadata": {
        "id": "2KWWeF_0x4HI"
      },
      "outputs": [],
      "source": [
        "from termcolor import colored\n",
        "class bcolors:\n",
        "    HEADER = '\\033[95m'\n",
        "    OKBLUE = '\\033[94m'\n",
        "    OKCYAN = '\\033[96m'\n",
        "    OKGREEN = '\\033[92m'\n",
        "    WARNING = '\\033[93m'\n",
        "    FAIL = '\\033[91m'\n",
        "    ENDC = '\\033[0m'\n",
        "    BOLD = '\\033[1m'\n",
        "    UNDERLINE = '\\033[4m'"
      ]
    },
    {
      "cell_type": "markdown",
      "metadata": {
        "id": "eFHYEIZ6DxXv"
      },
      "source": [
        "## Imports"
      ]
    },
    {
      "cell_type": "code",
      "execution_count": null,
      "metadata": {
        "id": "QdOVrI-dCy6-"
      },
      "outputs": [],
      "source": [
        "import networkx as nx\n",
        "from matplotlib import pyplot as plt\n",
        "\n",
        "%matplotlib inline"
      ]
    },
    {
      "cell_type": "code",
      "execution_count": null,
      "metadata": {
        "id": "C44LURdgDm5F"
      },
      "outputs": [],
      "source": [
        "# # connecting to google drive\n",
        "# from google.colab import drive\n",
        "# drive.mount('/content/drive')"
      ]
    },
    {
      "cell_type": "code",
      "execution_count": null,
      "metadata": {
        "id": "3QE7ASQwDpPt"
      },
      "outputs": [],
      "source": [
        "# #check gdrive mount state\n",
        "# !ls \"/content/drive/MyDrive\""
      ]
    },
    {
      "cell_type": "code",
      "execution_count": null,
      "metadata": {
        "id": "t8pZXJHKyNne"
      },
      "outputs": [],
      "source": [
        "# pip install stable-baselines3 #Encountered error while generating package metadata."
      ]
    },
    {
      "cell_type": "code",
      "execution_count": null,
      "metadata": {
        "id": "0z_RFxmcITFy"
      },
      "outputs": [],
      "source": [
        "# pip install stable-baselines3[extra] #Encountered error while generating package metadata."
      ]
    },
    {
      "cell_type": "code",
      "execution_count": null,
      "metadata": {
        "id": "FzZmrufJyWk0"
      },
      "outputs": [],
      "source": [
        "# !pip install stable_baselines3 #Encountered error while generating package metadata."
      ]
    },
    {
      "cell_type": "code",
      "execution_count": null,
      "metadata": {
        "colab": {
          "base_uri": "https://localhost:8080/"
        },
        "id": "FcfEE1YRQo14",
        "outputId": "6a29f0a2-dc59-48fe-cc27-14fa761d50ef"
      },
      "outputs": [
        {
          "output_type": "stream",
          "name": "stdout",
          "text": [
            "Collecting git+https://github.com/DLR-RM/stable-baselines3@feat/gymnasium-support\n",
            "  Cloning https://github.com/DLR-RM/stable-baselines3 (to revision feat/gymnasium-support) to /tmp/pip-req-build-m6trb1b8\n",
            "  Running command git clone --filter=blob:none --quiet https://github.com/DLR-RM/stable-baselines3 /tmp/pip-req-build-m6trb1b8\n",
            "\u001b[33m  WARNING: Did not find branch or tag 'feat/gymnasium-support', assuming revision or ref.\u001b[0m\u001b[33m\n",
            "\u001b[0m  Running command git checkout -q feat/gymnasium-support\n",
            "  error: pathspec 'feat/gymnasium-support' did not match any file(s) known to git\n",
            "  \u001b[1;31merror\u001b[0m: \u001b[1msubprocess-exited-with-error\u001b[0m\n",
            "  \n",
            "  \u001b[31m×\u001b[0m \u001b[32mgit checkout -q feat/gymnasium-support\u001b[0m did not run successfully.\n",
            "  \u001b[31m│\u001b[0m exit code: \u001b[1;36m1\u001b[0m\n",
            "  \u001b[31m╰─>\u001b[0m See above for output.\n",
            "  \n",
            "  \u001b[1;35mnote\u001b[0m: This error originates from a subprocess, and is likely not a problem with pip.\n",
            "\u001b[1;31merror\u001b[0m: \u001b[1msubprocess-exited-with-error\u001b[0m\n",
            "\n",
            "\u001b[31m×\u001b[0m \u001b[32mgit checkout -q feat/gymnasium-support\u001b[0m did not run successfully.\n",
            "\u001b[31m│\u001b[0m exit code: \u001b[1;36m1\u001b[0m\n",
            "\u001b[31m╰─>\u001b[0m See above for output.\n",
            "\n",
            "\u001b[1;35mnote\u001b[0m: This error originates from a subprocess, and is likely not a problem with pip.\n",
            "Collecting git+https://github.com/Stable-Baselines-Team/stable-baselines3-contrib@feat/gymnasium-support\n",
            "  Cloning https://github.com/Stable-Baselines-Team/stable-baselines3-contrib (to revision feat/gymnasium-support) to /tmp/pip-req-build-nxmtmmjx\n",
            "  Running command git clone --filter=blob:none --quiet https://github.com/Stable-Baselines-Team/stable-baselines3-contrib /tmp/pip-req-build-nxmtmmjx\n",
            "  Running command git checkout -b feat/gymnasium-support --track origin/feat/gymnasium-support\n",
            "  Switched to a new branch 'feat/gymnasium-support'\n",
            "  Branch 'feat/gymnasium-support' set up to track remote branch 'feat/gymnasium-support' from 'origin'.\n",
            "  Resolved https://github.com/Stable-Baselines-Team/stable-baselines3-contrib to commit d93ca7f1a734436cee59d642fa7d3eb8b4ed0253\n",
            "  Installing build dependencies ... \u001b[?25l\u001b[?25hdone\n",
            "  Getting requirements to build wheel ... \u001b[?25l\u001b[?25hdone\n",
            "  Preparing metadata (pyproject.toml) ... \u001b[?25l\u001b[?25hdone\n",
            "Collecting stable-baselines3>=2.0.0a4 (from sb3-contrib==2.0.0a4)\n",
            "  Downloading stable_baselines3-2.0.0-py3-none-any.whl (178 kB)\n",
            "\u001b[2K     \u001b[90m━━━━━━━━━━━━━━━━━━━━━━━━━━━━━━━━━━━━━━━\u001b[0m \u001b[32m178.4/178.4 kB\u001b[0m \u001b[31m6.8 MB/s\u001b[0m eta \u001b[36m0:00:00\u001b[0m\n",
            "\u001b[?25hCollecting gymnasium==0.28.1 (from stable-baselines3>=2.0.0a4->sb3-contrib==2.0.0a4)\n",
            "  Downloading gymnasium-0.28.1-py3-none-any.whl (925 kB)\n",
            "\u001b[2K     \u001b[90m━━━━━━━━━━━━━━━━━━━━━━━━━━━━━━━━━━━━━━\u001b[0m \u001b[32m925.5/925.5 kB\u001b[0m \u001b[31m35.5 MB/s\u001b[0m eta \u001b[36m0:00:00\u001b[0m\n",
            "\u001b[?25hRequirement already satisfied: numpy>=1.20 in /usr/local/lib/python3.10/dist-packages (from stable-baselines3>=2.0.0a4->sb3-contrib==2.0.0a4) (1.22.4)\n",
            "Requirement already satisfied: torch>=1.11 in /usr/local/lib/python3.10/dist-packages (from stable-baselines3>=2.0.0a4->sb3-contrib==2.0.0a4) (2.0.1+cu118)\n",
            "Requirement already satisfied: cloudpickle in /usr/local/lib/python3.10/dist-packages (from stable-baselines3>=2.0.0a4->sb3-contrib==2.0.0a4) (2.2.1)\n",
            "Requirement already satisfied: pandas in /usr/local/lib/python3.10/dist-packages (from stable-baselines3>=2.0.0a4->sb3-contrib==2.0.0a4) (1.5.3)\n",
            "Requirement already satisfied: matplotlib in /usr/local/lib/python3.10/dist-packages (from stable-baselines3>=2.0.0a4->sb3-contrib==2.0.0a4) (3.7.1)\n",
            "Collecting jax-jumpy>=1.0.0 (from gymnasium==0.28.1->stable-baselines3>=2.0.0a4->sb3-contrib==2.0.0a4)\n",
            "  Downloading jax_jumpy-1.0.0-py3-none-any.whl (20 kB)\n",
            "Requirement already satisfied: typing-extensions>=4.3.0 in /usr/local/lib/python3.10/dist-packages (from gymnasium==0.28.1->stable-baselines3>=2.0.0a4->sb3-contrib==2.0.0a4) (4.6.3)\n",
            "Collecting farama-notifications>=0.0.1 (from gymnasium==0.28.1->stable-baselines3>=2.0.0a4->sb3-contrib==2.0.0a4)\n",
            "  Downloading Farama_Notifications-0.0.4-py3-none-any.whl (2.5 kB)\n",
            "Requirement already satisfied: filelock in /usr/local/lib/python3.10/dist-packages (from torch>=1.11->stable-baselines3>=2.0.0a4->sb3-contrib==2.0.0a4) (3.12.2)\n",
            "Requirement already satisfied: sympy in /usr/local/lib/python3.10/dist-packages (from torch>=1.11->stable-baselines3>=2.0.0a4->sb3-contrib==2.0.0a4) (1.11.1)\n",
            "Requirement already satisfied: networkx in /usr/local/lib/python3.10/dist-packages (from torch>=1.11->stable-baselines3>=2.0.0a4->sb3-contrib==2.0.0a4) (3.1)\n",
            "Requirement already satisfied: jinja2 in /usr/local/lib/python3.10/dist-packages (from torch>=1.11->stable-baselines3>=2.0.0a4->sb3-contrib==2.0.0a4) (3.1.2)\n",
            "Requirement already satisfied: triton==2.0.0 in /usr/local/lib/python3.10/dist-packages (from torch>=1.11->stable-baselines3>=2.0.0a4->sb3-contrib==2.0.0a4) (2.0.0)\n",
            "Requirement already satisfied: cmake in /usr/local/lib/python3.10/dist-packages (from triton==2.0.0->torch>=1.11->stable-baselines3>=2.0.0a4->sb3-contrib==2.0.0a4) (3.25.2)\n",
            "Requirement already satisfied: lit in /usr/local/lib/python3.10/dist-packages (from triton==2.0.0->torch>=1.11->stable-baselines3>=2.0.0a4->sb3-contrib==2.0.0a4) (16.0.6)\n",
            "Requirement already satisfied: contourpy>=1.0.1 in /usr/local/lib/python3.10/dist-packages (from matplotlib->stable-baselines3>=2.0.0a4->sb3-contrib==2.0.0a4) (1.1.0)\n",
            "Requirement already satisfied: cycler>=0.10 in /usr/local/lib/python3.10/dist-packages (from matplotlib->stable-baselines3>=2.0.0a4->sb3-contrib==2.0.0a4) (0.11.0)\n",
            "Requirement already satisfied: fonttools>=4.22.0 in /usr/local/lib/python3.10/dist-packages (from matplotlib->stable-baselines3>=2.0.0a4->sb3-contrib==2.0.0a4) (4.40.0)\n",
            "Requirement already satisfied: kiwisolver>=1.0.1 in /usr/local/lib/python3.10/dist-packages (from matplotlib->stable-baselines3>=2.0.0a4->sb3-contrib==2.0.0a4) (1.4.4)\n",
            "Requirement already satisfied: packaging>=20.0 in /usr/local/lib/python3.10/dist-packages (from matplotlib->stable-baselines3>=2.0.0a4->sb3-contrib==2.0.0a4) (23.1)\n",
            "Requirement already satisfied: pillow>=6.2.0 in /usr/local/lib/python3.10/dist-packages (from matplotlib->stable-baselines3>=2.0.0a4->sb3-contrib==2.0.0a4) (8.4.0)\n",
            "Requirement already satisfied: pyparsing>=2.3.1 in /usr/local/lib/python3.10/dist-packages (from matplotlib->stable-baselines3>=2.0.0a4->sb3-contrib==2.0.0a4) (3.1.0)\n",
            "Requirement already satisfied: python-dateutil>=2.7 in /usr/local/lib/python3.10/dist-packages (from matplotlib->stable-baselines3>=2.0.0a4->sb3-contrib==2.0.0a4) (2.8.2)\n",
            "Requirement already satisfied: pytz>=2020.1 in /usr/local/lib/python3.10/dist-packages (from pandas->stable-baselines3>=2.0.0a4->sb3-contrib==2.0.0a4) (2022.7.1)\n",
            "Requirement already satisfied: six>=1.5 in /usr/local/lib/python3.10/dist-packages (from python-dateutil>=2.7->matplotlib->stable-baselines3>=2.0.0a4->sb3-contrib==2.0.0a4) (1.16.0)\n",
            "Requirement already satisfied: MarkupSafe>=2.0 in /usr/local/lib/python3.10/dist-packages (from jinja2->torch>=1.11->stable-baselines3>=2.0.0a4->sb3-contrib==2.0.0a4) (2.1.3)\n",
            "Requirement already satisfied: mpmath>=0.19 in /usr/local/lib/python3.10/dist-packages (from sympy->torch>=1.11->stable-baselines3>=2.0.0a4->sb3-contrib==2.0.0a4) (1.3.0)\n",
            "Building wheels for collected packages: sb3-contrib\n",
            "  Building wheel for sb3-contrib (pyproject.toml) ... \u001b[?25l\u001b[?25hdone\n",
            "  Created wheel for sb3-contrib: filename=sb3_contrib-2.0.0a4-py3-none-any.whl size=80152 sha256=b00863f57e5153ca2c15b84fdd052630eff81e69392f1c1e92bf8524aa5bbe3a\n",
            "  Stored in directory: /tmp/pip-ephem-wheel-cache-wxcfr1h6/wheels/33/dc/48/f1ae1ed19b0e847f127ea69381540e2abd60990bfa3fa51d8e\n",
            "Successfully built sb3-contrib\n",
            "Installing collected packages: farama-notifications, jax-jumpy, gymnasium, stable-baselines3, sb3-contrib\n",
            "Successfully installed farama-notifications-0.0.4 gymnasium-0.28.1 jax-jumpy-1.0.0 sb3-contrib-2.0.0a4 stable-baselines3-2.0.0\n"
          ]
        }
      ],
      "source": [
        "!pip install git+https://github.com/DLR-RM/stable-baselines3@feat/gymnasium-support\n",
        "!pip install git+https://github.com/Stable-Baselines-Team/stable-baselines3-contrib@feat/gymnasium-support"
      ]
    },
    {
      "cell_type": "code",
      "execution_count": null,
      "metadata": {
        "id": "57CZkHt2bfx1"
      },
      "outputs": [],
      "source": [
        "from stable_baselines3.common.env_checker import check_env"
      ]
    },
    {
      "cell_type": "markdown",
      "metadata": {
        "id": "p5hU77F2bm01"
      },
      "source": [
        "##Environment"
      ]
    },
    {
      "cell_type": "code",
      "execution_count": null,
      "metadata": {
        "id": "2Mt_h7ktbp3f",
        "colab": {
          "base_uri": "https://localhost:8080/"
        },
        "outputId": "6433a95a-856b-415b-e81c-b670ccecce0f"
      },
      "outputs": [
        {
          "output_type": "stream",
          "name": "stderr",
          "text": [
            "/usr/local/lib/python3.10/dist-packages/ipykernel/ipkernel.py:283: DeprecationWarning: `should_run_async` will not call `transform_cell` automatically in the future. Please pass the result to `transformed_cell` argument and any exception that happen during thetransform in `preprocessing_exc_tuple` in IPython 7.17 and above.\n",
            "  and should_run_async(code)\n"
          ]
        }
      ],
      "source": [
        "import gym\n",
        "from gym import Env\n",
        "from gym.spaces import Discrete, Box\n",
        "import numpy as np\n",
        "import random\n",
        "import gym as gym\n",
        "import pickle      #to load dumped dictionaries"
      ]
    },
    {
      "cell_type": "markdown",
      "metadata": {
        "id": "kgwOmnlubxeH"
      },
      "source": [
        "network"
      ]
    },
    {
      "cell_type": "code",
      "execution_count": null,
      "metadata": {
        "id": "BUKuORhUTxoC"
      },
      "outputs": [],
      "source": [
        "class CoreNetwork ():\n",
        "  def __init__(self,graph, ct1, ct2, ct3, ct4, solCount, musicPrefs):\n",
        "\n",
        "    self.musicPrefs = musicPrefs\n",
        "    self.solutionCount = solCount\n",
        "    self.influenceThreshold = 80\n",
        "    self.network = graph.copy()\n",
        "    # self.influencedNodes = []\n",
        "    # print(\"############>\",len(self.network.nodes['10']['topicsVec']))\n",
        "#     self.scoresDegree = nx.algorithms.degree_centrality(self.network)#sorted(env.network.degree, key=lambda x: x[1], reverse=False)\n",
        "    # print(self.scoresDegree)\n",
        "#     self.scoresCloseness = nx.algorithms.closeness_centrality(self.network)\n",
        "    # print(self.scoresCloseness)\n",
        "#     self.scoreBetweenness= nx.algorithms.betweenness_centrality(self.network)\n",
        "    # print(self.scoreBetweenness)\n",
        "#     self.scoreEigenvector= nx.algorithms.eigenvector_centrality(self.network,max_iter=1500)\n",
        "    # print(self.scoreEigenvector)\n",
        "    with open('/content/'+netowrkName+'_degreeCentralityData', 'rb') as fileHandle:\n",
        "        self.scoresDegree = pickle.load(fileHandle)\n",
        "    with open('/content/'+netowrkName+'_scoresClosenessData', 'rb') as fileHandle:\n",
        "        self.scoresCloseness = pickle.load(fileHandle)\n",
        "    with open('/content/'+netowrkName+'_scoreBetweennessData', 'rb') as fileHandle:\n",
        "        self.scoreBetweenness = pickle.load(fileHandle)\n",
        "    with open('/content/'+netowrkName+'_scoreEigenvectorData', 'rb') as fileHandle:\n",
        "        self.scoreEigenvector = pickle.load(fileHandle)\n",
        "\n",
        "    self.scoresDegree = self.injectPred(self.scoresDegree)\n",
        "    self.scoresCloseness = self.injectPred(self.scoresCloseness)\n",
        "    self.scoreBetweenness = self.injectPred(self.scoreBetweenness)\n",
        "    self.scoreEigenvector = self.injectPred(self.scoreEigenvector)\n",
        "\n",
        "\n",
        "    self.normalizeScoreVectors()\n",
        "\n",
        "    self.t1 = ct1\n",
        "    self.t2 = ct2\n",
        "    self.t3 = ct3\n",
        "    self.t4 = ct4\n",
        "    self.setWeghts(1,1,1,1)\n",
        "    self.infectedNodesList = []\n",
        "    self.dumpedNodesList = []\n",
        "    self.infectedNodes = self.IC()\n",
        "\n",
        "\n",
        "\n",
        "\n",
        "    self.wDegree = 1\n",
        "    self.wCloseness = 1\n",
        "    self.wBetweenness = 1\n",
        "    self.wEigenvector = 1\n",
        "  def injectPred(self, arr):\n",
        "    for node in arr:\n",
        "      arr[node[0]] = arr[node[0]]*infProb(node[0],self.musicPrefs, graph)\n",
        "    return arr\n",
        "  def normalizeArr(self, arr, t_min, t_max):\n",
        "    maxItem = sorted(arr.items(), key=lambda x: x[1], reverse=True)[0]\n",
        "    # arr = [int(value) for value in sarr]\n",
        "    # norm_arr = [] 40\n",
        "    # print(maxItem)\n",
        "    diff = t_max - t_min\n",
        "    diff_arr = maxItem[1] - 0\n",
        "    for nodeName in self.network.nodes:\n",
        "        temp = (((arr[nodeName])*diff)/diff_arr) + t_min\n",
        "        # norm_arr.append(temp)\n",
        "        arr[nodeName] = temp\n",
        "    # string_arr = [str(number) for number in norm_arr]\n",
        "    return arr#norm_arr\n",
        "  def normalizeScoreVectors(self):\n",
        "    self.scoresDegree = self.normalizeArr(self.scoresDegree,0,2)\n",
        "    self.scoresCloseness = self.normalizeArr(self.scoresCloseness,0,2)\n",
        "    self.scoreBetweenness = self.normalizeArr(self.scoreBetweenness,0,2)\n",
        "    self.scoreEigenvector = self.normalizeArr(self.scoreEigenvector,0,2)\n",
        "    # print(\"Normalized scores\")\n",
        "    # print(self.scoresDegree)\n",
        "    # print(self.scoresCloseness)\n",
        "    # print(self.scoreBetweenness)\n",
        "    # print(self.scoreEigenvector)\n",
        "  def getWeights(self):\n",
        "    return [self.wDegree , self.wCloseness, self.wBetweenness, self.wEigenvector]\n",
        "  def modifyWeghts(self, wd, wc, wb, we):\n",
        "    self.wDegree += wd\n",
        "    self.wCloseness += wc\n",
        "    self.wBetweenness += wb\n",
        "    self.wEigenvector += we\n",
        "\n",
        "    self.wDegree = max(self.wDegree ,0)\n",
        "    self.wCloseness = max(self.wCloseness ,0)\n",
        "    self.wBetweenness = max(self.wBetweenness ,0)\n",
        "    self.wEigenvector = max(self.wEigenvector ,0)\n",
        "\n",
        "    self.wDegree = min(self.wDegree ,99)\n",
        "    self.wCloseness = min(self.wCloseness ,99)\n",
        "    self.wBetweenness = min(self.wBetweenness ,99)\n",
        "    self.wEigenvector = min(self.wEigenvector ,99)\n",
        "    mergedScores={nodeName:self.wDegree*self.scoresDegree[nodeName] + self.wCloseness*self.scoresCloseness[nodeName] + self.wBetweenness*self.scoreBetweenness[nodeName] + self.wEigenvector*self.scoreEigenvector[nodeName]  for nodeName in self.network.nodes}\n",
        "    self.sortedNodesList = sorted(mergedScores.items(), key = lambda item:item[1],reverse=True)\n",
        "  def setWeghts(self, wd, wc, wb, we):\n",
        "    self.wDegree = wd\n",
        "    self.wCloseness = wc\n",
        "    self.wBetweenness = wb\n",
        "    self.wEigenvector = we\n",
        "    mergedScores={nodeName:self.wDegree*self.scoresDegree[nodeName] + self.wCloseness*self.scoresCloseness[nodeName] + self.wBetweenness*self.scoreBetweenness[nodeName] + self.wEigenvector*self.scoreEigenvector[nodeName]  for nodeName in self.network.nodes}\n",
        "    self.sortedNodesList = sorted(mergedScores.items(), key = lambda item:item[1],reverse=True)\n",
        "  def reset(self):\n",
        "    self.setWeghts(1,1,1,1)\n",
        "    self.infectedNodesList = []\n",
        "    self.dumpedNodesList = []\n",
        "    self.infectedNodes = self.IC()\n",
        "\n",
        "  # def readGraph(self, fileAddress):\n",
        "  #   G=nx.Graph()\n",
        "  #   with open(fileAddress) as f:\n",
        "  #     for line in f:\n",
        "  #         # print(line.strip())\n",
        "  #         lineInputs = line.strip().split()\n",
        "  #         # print(lineInputs)\n",
        "  #         # print(lineInputs.length)\n",
        "  #         (a,b,t1,t2,t3,t4,t5) = (lineInputs[0],lineInputs[1],lineInputs[2],lineInputs[3],lineInputs[4],lineInputs[5],lineInputs[6])\n",
        "  #         # print(lineInputs[2],t1)\n",
        "  #         if(G.has_node(a) and G.has_node(b)):\n",
        "  #           continue\n",
        "  #         G.add_node(a)\n",
        "  #         G.add_node(b)\n",
        "  #         G.add_edges_from([  (a,b,{\"p1\":t1 , \"p2\":t2 , \"p3\":t3 , \"p4\":t4, \"p5\":t5})])\n",
        "\n",
        "  #   return G\n",
        "  def propagate(self, new_active):\n",
        "      targets = []\n",
        "      for node in new_active:\n",
        "          targets += self.network.neighbors(node)\n",
        "\n",
        "      return(list(set(targets)))\n",
        "  def IC(self,mc=1,randomSelection = False):\n",
        "      it = self.influenceThreshold\n",
        "      solutionCount = self.solutionCount\n",
        "      \"\"\"\n",
        "      Inputs:\n",
        "                  - Networkx object\n",
        "                  - E x 2 Pandas dataframe of directed edges. Columns: ['source','target']\n",
        "                  - dictionary with key=source node & values=out-neighbors\n",
        "              S:  List of seed nodes\n",
        "              mc: Number of Monte-Carlo simulations,\n",
        "      Output: Average number of nodes influenced by seed nodes in S\n",
        "      \"\"\"\n",
        "\n",
        "      # Loop over the Monte-Carlo Simulations\n",
        "      spread = []\n",
        "\n",
        "      # Simulate propagation process\n",
        "      new_active, A = self.getTopNodes(solutionCount),[]#S[:], S[:]\n",
        "      # new_active, A = self.getTopNodes(1),self.infectedNodesList#S[:], S[:] #choose one new node\n",
        "      self.infectedNodesList = list(set( self.infectedNodesList + new_active))\n",
        "      if randomSelection:\n",
        "        new_active = random.sample(self.network.nodes, 3)\n",
        "      # new_active=S\n",
        "      # A=S\n",
        "      while new_active:\n",
        "\n",
        "          # 1. Find out-neighbors for each newly active node\n",
        "          targets = self.propagate(new_active)\n",
        "\n",
        "          # 2. Determine newly activated neighbors\n",
        "          new_ones = list()\n",
        "          for influencer in new_active:\n",
        "            neighbors =  self.network.neighbors(influencer)\n",
        "            # print(list(neighbors))\n",
        "            for neighbor in list(neighbors):\n",
        "              topicPs = self.network.get_edge_data(influencer,neighbor)\n",
        "              ### the method below is ok for base=line solution reconstruciton\n",
        "              # influenceSuccessT5 = np.random.uniform(0,10000) < (int(self.network[influencer][neighbor][\"p5\"])*self.t5)\n",
        "              # (100-it)\n",
        "              influenceSuccess = np.random.uniform(0,100) < 0.25*100*(self.network[influencer][neighbor][\"weight\"]*infProb(str(influencer), self.musicPrefs, self.network))\n",
        "              # print(influenceSuccess)\n",
        "              # print(100*(self.network[influencer][neighbor][\"weight\"]*infProb(str(influencer), self.musicPrefs, self.network)))\n",
        "              if(influenceSuccess):\n",
        "                new_ones.append(neighbor)\n",
        "\n",
        "          # 3. Find newly activated nodes and add to the set of activated nodes\n",
        "\n",
        "          new_active = list(set(new_ones) - set(A))\n",
        "          A = list(set(A + new_ones))\n",
        "          # self.dumpedNodesList = list(set( self.dumpedNodesList + self.propagate(new_ones)))\n",
        "\n",
        "      spread.append(len(A))\n",
        "      # self.infectedNodesList = list(set( self.infectedNodesList + A))\n",
        "      # self.dumpedNodesList = list(set(self.dumpedNodesList + self.infectedNodesList))\n",
        "      # print(self.infectedNodesList)\n",
        "      # print(new_ones)\n",
        "      return np.mean(spread)\n",
        "      # return(np.mean(spread),A)\n",
        "\n",
        "  def getTopNodes(self, count):\n",
        "    #combine all 4 scores for each node\n",
        "    # print(self.sortedNodesList)\n",
        "    #sort the nodes with newly calculated scores\n",
        "    result = []\n",
        "    i = 0\n",
        "    for (node,score) in self.sortedNodesList:\n",
        "      if(i>=count):\n",
        "        break\n",
        "      if(node not in self.dumpedNodesList):\n",
        "        result.append(node)\n",
        "        i += 1\n",
        "    # print(self.sortedNodesList)\n",
        "    # print(result)\n",
        "    if(len(result)==0):\n",
        "      print(\"bad top node\", count)\n",
        "    return result\n",
        "  def spreadInfluence(self):\n",
        "    previousInfection = len(self.infectedNodesList)\n",
        "    self.IC()\n",
        "    # self.infectedNodes = self.IC()\n",
        "    return len(self.infectedNodesList) - previousInfection   #amount of increase in infected nodes\n",
        "  def resetWeights(self):\n",
        "    self.setWeghts(1,1,1,1)\n"
      ]
    },
    {
      "cell_type": "code",
      "execution_count": null,
      "metadata": {
        "id": "IZTglMz5cAM3"
      },
      "outputs": [],
      "source": [
        "musicPref = np.zeros(len(topics))\n",
        "musicPref[3] = 0.5\n",
        "musicPref[2] = 0.8\n",
        "# musicPref[5] = 0.2\n",
        "# musicPref[7] = 0.5\n",
        "coreNetwork = CoreNetwork(graph, 50,50,50,0, 50,musicPref)"
      ]
    },
    {
      "cell_type": "markdown",
      "metadata": {
        "id": "hry4-kw9cI79"
      },
      "source": [
        "envClass"
      ]
    },
    {
      "cell_type": "code",
      "execution_count": null,
      "metadata": {
        "id": "Os7l5SQPlBz_"
      },
      "outputs": [],
      "source": [
        "import numpy as np\n",
        "import gym\n",
        "from gym import spaces\n",
        "\n",
        "class EnvClass(gym.Env):\n",
        "    \"\"\"Custom Environment that follows gym interface\"\"\"\n",
        "    metadata = {'render.modes': ['human']}\n",
        "\n",
        "    def __init__(self, graph, tw1, tw2, tw3, tw4, type, count, musicPref):\n",
        "        # super(CustomEnv, self).__init__()\n",
        "        self.stepSizeBase = 12\n",
        "        self.baseCount = count\n",
        "        self.itterations = 100\n",
        "        self.coreNetwork = CoreNetwork(graph, tw1, tw2, tw3, tw4, count, musicPref)\n",
        "        self.baseScore = self.coreNetwork.IC()\n",
        "        self.currentScore = 0\n",
        "        self.bestScore = 0\n",
        "        self.bestSol = self.getSolution()\n",
        "        # self.setTopicWeights(tw1, tw2, tw3, tw4)\n",
        "        self.setWeghts(25,25,25,25)\n",
        "        self.bestReward=0\n",
        "        self.itCountWithNoSigReward = 0\n",
        "        self.lastItReward = 0\n",
        "\n",
        "        self.count = self.itterations\n",
        "        # Define action and observation space\n",
        "        # They must be gym.spaces objects\n",
        "        # Example when using discrete actions:\n",
        "        # self.n_actions = (5, 5, 5, 5)\n",
        "        self.n_actions = (100, 100, 100, 100)\n",
        "        # 0 -> -10\n",
        "        # 1 -> -5\n",
        "        # 2 -> 0\n",
        "        # 3 -> +5\n",
        "        # 4 -> + 10\n",
        "        # if(type == \"single\"):\n",
        "        self.action_space =  gym.spaces.MultiDiscrete([ 4, 5 ])\n",
        "        # else:\n",
        "        # self.action_space =  gym.spaces.MultiDiscrete([ 5, 5, 5, 5 ])\n",
        "        print(colored(\"action space:\",\"yellow\"), colored(self.action_space,\"yellow\"))\n",
        "        # self.action_space = spaces.Discrete(1)#N_DISCRETE_ACTIONS\n",
        "        # Example for using image as input (channel-first; channel-last also works):\n",
        "        self.observation_space = gym.spaces.MultiDiscrete(self.n_actions)#spaces.Box(low=0, high=10, shape=(1,), dtype=np.float32)#N_CHANNELS, HEIGHT, WIDTH\n",
        "\n",
        "    def step(self, action):\n",
        "      ### method 1 ([4,5])\n",
        "        # self.stepSizeBase = 12\n",
        "        delta = (action[1] - 2)*self.stepSizeBase/2\n",
        "        if(action[0] == 0):\n",
        "          self.coreNetwork.modifyWeghts(delta, -delta/3, -delta/3, -delta/3)\n",
        "        if(action[0] == 1):\n",
        "          self.coreNetwork.modifyWeghts(-delta/3, delta, -delta/3, -delta/3)\n",
        "        if(action[0] == 2):\n",
        "          self.coreNetwork.modifyWeghts(-delta/3, -delta/3, delta, -delta/3)\n",
        "        if(action[0] == 3):\n",
        "          self.coreNetwork.modifyWeghts(-delta/3, -delta/3, -delta/3, delta)\n",
        "\n",
        "        ### method 2 ([5,5,5,5])\n",
        "        # m1 = action[0]\n",
        "        # m2 = action[1]\n",
        "        # m3 = action[2]\n",
        "        # m4 = action[3]\n",
        "        # self.coreNetwork.modifyWeghts(m1*5 - 10, m2*5 - 10, m3*5 - 10, m4*5 -10)\n",
        "\n",
        "  ##################################\n",
        "        observation = self.getCurrentObs()\n",
        "\n",
        "        reward = self.coreNetwork.spreadInfluence()\n",
        "        self.currentScore += reward\n",
        "        if(self.currentScore > self.bestScore):\n",
        "          self.bestSol = self.getSolution()\n",
        "          self.bestScore = self.currentScore\n",
        "        self.bestReward = max(reward,self.bestReward)\n",
        "        self.count -=1\n",
        "        done = self.count < 0\n",
        "\n",
        "\n",
        "        if(abs(reward - self.lastItReward) < 30):\n",
        "          self.itCountWithNoSigReward += 1\n",
        "          if(self.itCountWithNoSigReward > 10):\n",
        "            done = True\n",
        "        else:\n",
        "          self.itCountWithNoSigReward = 0\n",
        "        info = {}\n",
        "        return observation, reward, done, info\n",
        "    def getCurrentObs(self):\n",
        "        return np.array(self.coreNetwork.getWeights())\n",
        "    def reset(self):\n",
        "        self.count = self.itterations\n",
        "        self.coreNetwork.reset()\n",
        "        self.setWeghts(25,25,25,25)\n",
        "        self.bestReward = 0\n",
        "        self.bestScore = 0\n",
        "        self.currentScore = 0\n",
        "        self.itCountWithNoSigReward = 0\n",
        "        self.lastItReward = 0\n",
        "        observation =  self.getCurrentObs()#spaces.MultiDiscrete.sample(self.observation_space)#np.array([8]).astype(np.float32)\n",
        "        # ...\n",
        "        return observation  # reward, done, info can't be included\n",
        "    def render(self, mode='human'):\n",
        "        print(self.getCurrentObs(), self.bestReward)\n",
        "        pass\n",
        "    def close (self):\n",
        "        # ...\n",
        "        pass\n",
        "    def getSolution(self):\n",
        "      return self.coreNetwork.getTopNodes(self.baseCount)\n",
        "    def getBestInfluence(self):\n",
        "      return self.baseScore + self.bestScore\n",
        "    def getAnswer(self):\n",
        "      return self.bestSol\n",
        "    def setWeghts(self, wd, wc, wb, we):\n",
        "      self.currentWeghts = [wd,wc,wb,we]\n",
        "      self.coreNetwork.setWeghts(wd,wc,wb,we)\n",
        "      # self.wDegree = wd\n",
        "      # self.wCloseness = wc\n",
        "      # self.wBetweenness = wb\n",
        "      # self.wEigenvector = we\n",
        "    def setTopicWeights(self, tw1, tw2, tw3, tw4):\n",
        "      pass\n",
        "      # self.tw1 = tw1\n",
        "      # self.tw2 = tw2\n",
        "      # self.tw3 = tw3\n",
        "      # self.tw4 = tw4"
      ]
    },
    {
      "cell_type": "code",
      "execution_count": null,
      "metadata": {
        "id": "J6MvbTumtLKl"
      },
      "outputs": [],
      "source": [
        "# musicPref = np.zeros(len(topics))\n",
        "# musicPref[3] = 0.5\n",
        "# musicPref[2] = 0.8\n",
        "\n"
      ]
    },
    {
      "cell_type": "code",
      "execution_count": null,
      "metadata": {
        "id": "CmEu_OKAR6zN",
        "colab": {
          "base_uri": "https://localhost:8080/"
        },
        "outputId": "65ed6f4a-cec7-4b7a-b22f-7f94090613bd"
      },
      "outputs": [
        {
          "output_type": "stream",
          "name": "stdout",
          "text": [
            "Collecting shimmy>=0.2.1\n",
            "  Downloading Shimmy-1.1.0-py3-none-any.whl (37 kB)\n",
            "Requirement already satisfied: numpy>=1.18.0 in /usr/local/lib/python3.10/dist-packages (from shimmy>=0.2.1) (1.22.4)\n",
            "Requirement already satisfied: gymnasium>=0.27.0 in /usr/local/lib/python3.10/dist-packages (from shimmy>=0.2.1) (0.28.1)\n",
            "Requirement already satisfied: jax-jumpy>=1.0.0 in /usr/local/lib/python3.10/dist-packages (from gymnasium>=0.27.0->shimmy>=0.2.1) (1.0.0)\n",
            "Requirement already satisfied: cloudpickle>=1.2.0 in /usr/local/lib/python3.10/dist-packages (from gymnasium>=0.27.0->shimmy>=0.2.1) (2.2.1)\n",
            "Requirement already satisfied: typing-extensions>=4.3.0 in /usr/local/lib/python3.10/dist-packages (from gymnasium>=0.27.0->shimmy>=0.2.1) (4.6.3)\n",
            "Requirement already satisfied: farama-notifications>=0.0.1 in /usr/local/lib/python3.10/dist-packages (from gymnasium>=0.27.0->shimmy>=0.2.1) (0.0.4)\n",
            "Installing collected packages: shimmy\n",
            "Successfully installed shimmy-1.1.0\n"
          ]
        }
      ],
      "source": [
        "!pip install 'shimmy>=0.2.1'"
      ]
    },
    {
      "cell_type": "code",
      "execution_count": null,
      "metadata": {
        "colab": {
          "background_save": true
        },
        "id": "A9xtb4akzUnq"
      },
      "outputs": [],
      "source": [
        "# !pip install git+https://github.com/carlosluis/stable-baselines3@fix_tests"
      ]
    },
    {
      "cell_type": "code",
      "source": [
        "solCount = 20"
      ],
      "metadata": {
        "colab": {
          "base_uri": "https://localhost:8080/"
        },
        "id": "jIc45EBq4k52",
        "outputId": "b4dbd449-dc98-46ff-8958-90218c57b76e"
      },
      "execution_count": null,
      "outputs": [
        {
          "output_type": "stream",
          "name": "stderr",
          "text": [
            "/usr/local/lib/python3.10/dist-packages/ipykernel/ipkernel.py:283: DeprecationWarning: `should_run_async` will not call `transform_cell` automatically in the future. Please pass the result to `transformed_cell` argument and any exception that happen during thetransform in `preprocessing_exc_tuple` in IPython 7.17 and above.\n",
            "  and should_run_async(code)\n"
          ]
        }
      ]
    },
    {
      "cell_type": "code",
      "execution_count": null,
      "metadata": {
        "id": "na2DANPhcPHe",
        "colab": {
          "base_uri": "https://localhost:8080/"
        },
        "outputId": "e172dc20-b78f-4112-e7cf-0116c3d103ae"
      },
      "outputs": [
        {
          "output_type": "stream",
          "name": "stdout",
          "text": [
            "action space: MultiDiscrete([4 5])\n"
          ]
        }
      ],
      "source": [
        "env = EnvClass(graph,25,25,25,25,\"single\", 10, musicPref)"
      ]
    },
    {
      "cell_type": "code",
      "source": [
        "env = EnvClass(graph,25,25,25,25,\"single\", 20, musicPref)"
      ],
      "metadata": {
        "id": "Pxhu0pNdDWVi",
        "colab": {
          "base_uri": "https://localhost:8080/"
        },
        "outputId": "bdaed30e-f86a-45c7-b035-9cd8cf14f311"
      },
      "execution_count": null,
      "outputs": [
        {
          "output_type": "stream",
          "name": "stdout",
          "text": [
            "action space: MultiDiscrete([4 5])\n"
          ]
        }
      ]
    },
    {
      "cell_type": "code",
      "execution_count": null,
      "metadata": {
        "colab": {
          "background_save": true
        },
        "id": "8DICLSJAa_tY",
        "outputId": "01c767b1-b29c-46fa-d7b8-debc0cb35908"
      },
      "outputs": [
        {
          "ename": "AssertionError",
          "evalue": "ignored",
          "output_type": "error",
          "traceback": [
            "\u001b[0;31m---------------------------------------------------------------------------\u001b[0m",
            "\u001b[0;31mAssertionError\u001b[0m                            Traceback (most recent call last)",
            "\u001b[0;32m<ipython-input-40-0f6792f977ee>\u001b[0m in \u001b[0;36m<cell line: 1>\u001b[0;34m()\u001b[0m\n\u001b[0;32m----> 1\u001b[0;31m \u001b[0mcheck_env\u001b[0m\u001b[0;34m(\u001b[0m\u001b[0menv\u001b[0m\u001b[0;34m)\u001b[0m\u001b[0;34m\u001b[0m\u001b[0;34m\u001b[0m\u001b[0m\n\u001b[0m",
            "\u001b[0;32m/usr/local/lib/python3.10/dist-packages/stable_baselines3/common/env_checker.py\u001b[0m in \u001b[0;36mcheck_env\u001b[0;34m(env, warn, skip_render_check)\u001b[0m\n\u001b[1;32m    388\u001b[0m         \u001b[0;32mTrue\u001b[0m \u001b[0mby\u001b[0m \u001b[0mdefault\u001b[0m \u001b[0;34m(\u001b[0m\u001b[0museful\u001b[0m \u001b[0;32mfor\u001b[0m \u001b[0mthe\u001b[0m \u001b[0mCI\u001b[0m\u001b[0;34m)\u001b[0m\u001b[0;34m\u001b[0m\u001b[0;34m\u001b[0m\u001b[0m\n\u001b[1;32m    389\u001b[0m     \"\"\"\n\u001b[0;32m--> 390\u001b[0;31m     assert isinstance(\n\u001b[0m\u001b[1;32m    391\u001b[0m         \u001b[0menv\u001b[0m\u001b[0;34m,\u001b[0m \u001b[0mgym\u001b[0m\u001b[0;34m.\u001b[0m\u001b[0mEnv\u001b[0m\u001b[0;34m\u001b[0m\u001b[0;34m\u001b[0m\u001b[0m\n\u001b[1;32m    392\u001b[0m     ), \"Your environment must inherit from the gym.Env class cf https://github.com/openai/gym/blob/master/gym/core.py\"\n",
            "\u001b[0;31mAssertionError\u001b[0m: Your environment must inherit from the gym.Env class cf https://github.com/openai/gym/blob/master/gym/core.py"
          ]
        }
      ],
      "source": [
        "check_env(env)"
      ]
    },
    {
      "cell_type": "code",
      "execution_count": null,
      "metadata": {
        "id": "A4pSsu_TcSPg",
        "colab": {
          "base_uri": "https://localhost:8080/",
          "height": 104,
          "referenced_widgets": [
            "7605b5bf2abb41f5ba6e82a66c628145",
            "3e8dcef6ea8a4ad4af433ee8a04dabe7"
          ]
        },
        "outputId": "d7a34818-f9aa-4de3-85be-fbb40a22f9fe"
      },
      "outputs": [
        {
          "output_type": "stream",
          "name": "stderr",
          "text": [
            "/usr/local/lib/python3.10/dist-packages/stable_baselines3/common/vec_env/patch_gym.py:49: UserWarning: You provided an OpenAI Gym environment. We strongly recommend transitioning to Gymnasium environments. Stable-Baselines3 is automatically wrapping your environments in a compatibility layer, which could potentially cause issues.\n",
            "  warnings.warn(\n"
          ]
        },
        {
          "output_type": "display_data",
          "data": {
            "text/plain": [
              "Output()"
            ],
            "application/vnd.jupyter.widget-view+json": {
              "version_major": 2,
              "version_minor": 0,
              "model_id": "7605b5bf2abb41f5ba6e82a66c628145"
            }
          },
          "metadata": {}
        },
        {
          "output_type": "display_data",
          "data": {
            "text/plain": [],
            "text/html": [
              "<pre style=\"white-space:pre;overflow-x:auto;line-height:normal;font-family:Menlo,'DejaVu Sans Mono',consolas,'Courier New',monospace\"></pre>\n"
            ]
          },
          "metadata": {}
        },
        {
          "output_type": "display_data",
          "data": {
            "text/plain": [
              "\n"
            ],
            "text/html": [
              "<pre style=\"white-space:pre;overflow-x:auto;line-height:normal;font-family:Menlo,'DejaVu Sans Mono',consolas,'Courier New',monospace\">\n",
              "</pre>\n"
            ]
          },
          "metadata": {}
        }
      ],
      "source": [
        "from stable_baselines3 import A2C\n",
        "from stable_baselines3.a2c import MlpPolicy\n",
        "# from stable_baselines3.common.cmd_util import make_vec_env\n",
        "# Define and Train the agent\n",
        "model = A2C('MlpPolicy', env, learning_rate = 0.003, gamma = 0.9).learn(total_timesteps=1000, progress_bar = True)"
      ]
    },
    {
      "cell_type": "code",
      "source": [
        "model.save(\"a2c_RO_003LR_9G_1000IT_10K\")"
      ],
      "metadata": {
        "id": "LfZf2E2AT7vF"
      },
      "execution_count": null,
      "outputs": []
    },
    {
      "cell_type": "code",
      "execution_count": null,
      "metadata": {
        "colab": {
          "background_save": true
        },
        "id": "1V7IyVuMzj1q"
      },
      "outputs": [],
      "source": [
        "model1 = model"
      ]
    },
    {
      "cell_type": "code",
      "execution_count": null,
      "metadata": {
        "colab": {
          "background_save": true
        },
        "id": "692ICCQv5ANH"
      },
      "outputs": [],
      "source": [
        "model2 = model"
      ]
    },
    {
      "cell_type": "code",
      "execution_count": null,
      "metadata": {
        "id": "NjR8jJKocUrz",
        "colab": {
          "base_uri": "https://localhost:8080/"
        },
        "outputId": "745f9be1-e1c0-4656-c90a-da74461b3de2"
      },
      "outputs": [
        {
          "output_type": "stream",
          "name": "stdout",
          "text": [
            "starting for solution length: 10\n",
            "answer solution ['17205', '2003', '5112', '10426', '5434', '30318', '9815', '16544', '37289', '38564']\n",
            "attempt# 0 influence 233.0\n",
            "[0, 0, 99, 0]\n",
            "answer solution ['17205', '2003', '5112', '10426', '5434', '30318', '9815', '16544', '37289', '38564']\n",
            "attempt# 1 influence 233.0\n",
            "[0, 0, 99, 0]\n",
            "answer solution ['17205', '2003', '5112', '10426', '5434', '30318', '9815', '16544', '37289', '38564']\n",
            "attempt# 2 influence 233.0\n",
            "[0, 0, 99, 0]\n",
            "answer solution ['17205', '2003', '5112', '10426', '5434', '30318', '9815', '16544', '37289', '38564']\n",
            "attempt# 3 influence 233.0\n",
            "[0, 0, 99, 0]\n",
            "answer solution ['17205', '2003', '5112', '10426', '5434', '30318', '9815', '16544', '37289', '38564']\n",
            "attempt# 4 influence 233.0\n",
            "[0, 0, 99, 0]\n",
            "answer solution ['17205', '2003', '5112', '10426', '5434', '30318', '9815', '16544', '37289', '38564']\n",
            "attempt# 5 influence 233.0\n",
            "[0, 0, 99, 0]\n",
            "answer solution ['17205', '2003', '5112', '10426', '5434', '30318', '9815', '16544', '37289', '38564']\n",
            "attempt# 6 influence 233.0\n",
            "[0, 0, 99, 0]\n",
            "answer solution ['17205', '2003', '5112', '10426', '5434', '30318', '9815', '16544', '37289', '38564']\n",
            "attempt# 7 influence 233.0\n",
            "[0, 0, 99, 0]\n",
            "answer solution ['17205', '2003', '5112', '10426', '5434', '30318', '9815', '16544', '37289', '38564']\n",
            "attempt# 8 influence 233.0\n",
            "[0, 0, 99, 0]\n",
            "answer solution ['17205', '2003', '5112', '10426', '5434', '30318', '9815', '16544', '37289', '38564']\n",
            "attempt# 9 influence 233.0\n",
            "[0, 0, 99, 0]\n",
            "avg result( 10 atempts) 233.0\n",
            "solution length: 10\n"
          ]
        }
      ],
      "source": [
        "# model.learn(total_timesteps=1000)\n",
        "result = 0\n",
        "count = 10\n",
        "print(\"starting for solution length:\",env.baseCount)\n",
        "for atempt in range(count):\n",
        "  obs = env.reset()\n",
        "  i=0\n",
        "  done = False\n",
        "  while i<300:#env.itterations:\n",
        "  # while not done:\n",
        "      i+=1\n",
        "      action, _states = model.predict(obs)\n",
        "\n",
        "      obs, rewards, done, info = env.step(action)\n",
        "      # env.render()\n",
        "  print(\"answer solution\",env.getAnswer())\n",
        "  print(\"attempt#\",atempt,\"influence\",env.getBestInfluence())\n",
        "  print(env.coreNetwork.getWeights())\n",
        "  result += env.getBestInfluence()\n",
        "print(\"avg result(\",count,\"atempts)\", result/count)\n",
        "print(\"solution length:\",env.baseCount)"
      ]
    },
    {
      "cell_type": "code",
      "execution_count": null,
      "metadata": {
        "colab": {
          "base_uri": "https://localhost:8080/",
          "height": 748
        },
        "id": "5rCGBJyGSGYI",
        "outputId": "fe660eea-0ae4-493e-de39-d034d8f20525"
      },
      "outputs": [
        {
          "output_type": "stream",
          "name": "stdout",
          "text": [
            "answer solution ['42470', '12907', '14900', '15851', '31974', '47048', '18632', '8641', '40491', '43585', '5293', '4338', '19533', '32941', '7425', '8323', '24218', '33131', '14597', '38301']\n",
            "attempt# 0 influence 93.0\n",
            "[29.0, 29.0, 29.0, 24.0]\n"
          ]
        },
        {
          "output_type": "stream",
          "name": "stderr",
          "text": [
            "Exception ignored in: <function _xla_gc_callback at 0x7fa53209bbe0>\n",
            "Traceback (most recent call last):\n",
            "  File \"/usr/local/lib/python3.10/dist-packages/jax/_src/lib/__init__.py\", line 103, in _xla_gc_callback\n",
            "    def _xla_gc_callback(*args):\n",
            "KeyboardInterrupt: \n"
          ]
        },
        {
          "output_type": "stream",
          "name": "stdout",
          "text": [
            "answer solution ['42470', '12907', '31974', '15851', '14900', '47048', '18632', '8641', '5293', '43585', '19533', '32941', '8323', '40491', '7425', '4338', '33131', '9893', '1114', '24218']\n",
            "attempt# 1 influence 94.0\n",
            "[29.0, 29.0, 29.0, 13.0]\n",
            "answer solution ['14900', '40491', '24218', '14597', '38301', '15724', '7471', '19081', '45838', '42899', '40956', '15851', '14082', '25336', '24061', '33363', '4338', '18877', '32792', '43585']\n",
            "attempt# 2 influence 89.0\n",
            "[29.0, 29.0, 29.0, 13.0]\n",
            "answer solution ['14900', '40491', '24218', '14597', '38301', '15724', '7471', '19081', '45838', '42899', '40956', '15851', '14082', '25336', '24061', '33363', '4338', '18877', '32792', '43585']\n",
            "attempt# 3 influence 98.0\n",
            "[29.0, 29.0, 29.0, 13.0]\n"
          ]
        },
        {
          "output_type": "error",
          "ename": "KeyboardInterrupt",
          "evalue": "ignored",
          "traceback": [
            "\u001b[0;31m---------------------------------------------------------------------------\u001b[0m",
            "\u001b[0;31mKeyboardInterrupt\u001b[0m                         Traceback (most recent call last)",
            "\u001b[0;32m<ipython-input-55-07b2a1405947>\u001b[0m in \u001b[0;36m<cell line: 5>\u001b[0;34m()\u001b[0m\n\u001b[1;32m     12\u001b[0m       \u001b[0maction\u001b[0m\u001b[0;34m,\u001b[0m \u001b[0m_states\u001b[0m \u001b[0;34m=\u001b[0m \u001b[0mmodel\u001b[0m\u001b[0;34m.\u001b[0m\u001b[0mpredict\u001b[0m\u001b[0;34m(\u001b[0m\u001b[0mobs\u001b[0m\u001b[0;34m)\u001b[0m\u001b[0;34m\u001b[0m\u001b[0;34m\u001b[0m\u001b[0m\n\u001b[1;32m     13\u001b[0m \u001b[0;34m\u001b[0m\u001b[0m\n\u001b[0;32m---> 14\u001b[0;31m       \u001b[0mobs\u001b[0m\u001b[0;34m,\u001b[0m \u001b[0mrewards\u001b[0m\u001b[0;34m,\u001b[0m \u001b[0mdone\u001b[0m\u001b[0;34m,\u001b[0m \u001b[0minfo\u001b[0m \u001b[0;34m=\u001b[0m \u001b[0menv\u001b[0m\u001b[0;34m.\u001b[0m\u001b[0mstep\u001b[0m\u001b[0;34m(\u001b[0m\u001b[0maction\u001b[0m\u001b[0;34m)\u001b[0m\u001b[0;34m\u001b[0m\u001b[0;34m\u001b[0m\u001b[0m\n\u001b[0m\u001b[1;32m     15\u001b[0m       \u001b[0;31m# env.render()\u001b[0m\u001b[0;34m\u001b[0m\u001b[0;34m\u001b[0m\u001b[0m\n\u001b[1;32m     16\u001b[0m   \u001b[0mprint\u001b[0m\u001b[0;34m(\u001b[0m\u001b[0;34m\"answer solution\"\u001b[0m\u001b[0;34m,\u001b[0m\u001b[0menv\u001b[0m\u001b[0;34m.\u001b[0m\u001b[0mgetAnswer\u001b[0m\u001b[0;34m(\u001b[0m\u001b[0;34m)\u001b[0m\u001b[0;34m)\u001b[0m\u001b[0;34m\u001b[0m\u001b[0;34m\u001b[0m\u001b[0m\n",
            "\u001b[0;32m<ipython-input-27-08e70ce460cd>\u001b[0m in \u001b[0;36mstep\u001b[0;34m(self, action)\u001b[0m\n\u001b[1;32m     54\u001b[0m           \u001b[0mself\u001b[0m\u001b[0;34m.\u001b[0m\u001b[0mcoreNetwork\u001b[0m\u001b[0;34m.\u001b[0m\u001b[0mmodifyWeghts\u001b[0m\u001b[0;34m(\u001b[0m\u001b[0;34m-\u001b[0m\u001b[0mdelta\u001b[0m\u001b[0;34m/\u001b[0m\u001b[0;36m3\u001b[0m\u001b[0;34m,\u001b[0m \u001b[0;34m-\u001b[0m\u001b[0mdelta\u001b[0m\u001b[0;34m/\u001b[0m\u001b[0;36m3\u001b[0m\u001b[0;34m,\u001b[0m \u001b[0mdelta\u001b[0m\u001b[0;34m,\u001b[0m \u001b[0;34m-\u001b[0m\u001b[0mdelta\u001b[0m\u001b[0;34m/\u001b[0m\u001b[0;36m3\u001b[0m\u001b[0;34m)\u001b[0m\u001b[0;34m\u001b[0m\u001b[0;34m\u001b[0m\u001b[0m\n\u001b[1;32m     55\u001b[0m         \u001b[0;32mif\u001b[0m\u001b[0;34m(\u001b[0m\u001b[0maction\u001b[0m\u001b[0;34m[\u001b[0m\u001b[0;36m0\u001b[0m\u001b[0;34m]\u001b[0m \u001b[0;34m==\u001b[0m \u001b[0;36m3\u001b[0m\u001b[0;34m)\u001b[0m\u001b[0;34m:\u001b[0m\u001b[0;34m\u001b[0m\u001b[0;34m\u001b[0m\u001b[0m\n\u001b[0;32m---> 56\u001b[0;31m           \u001b[0mself\u001b[0m\u001b[0;34m.\u001b[0m\u001b[0mcoreNetwork\u001b[0m\u001b[0;34m.\u001b[0m\u001b[0mmodifyWeghts\u001b[0m\u001b[0;34m(\u001b[0m\u001b[0;34m-\u001b[0m\u001b[0mdelta\u001b[0m\u001b[0;34m/\u001b[0m\u001b[0;36m3\u001b[0m\u001b[0;34m,\u001b[0m \u001b[0;34m-\u001b[0m\u001b[0mdelta\u001b[0m\u001b[0;34m/\u001b[0m\u001b[0;36m3\u001b[0m\u001b[0;34m,\u001b[0m \u001b[0;34m-\u001b[0m\u001b[0mdelta\u001b[0m\u001b[0;34m/\u001b[0m\u001b[0;36m3\u001b[0m\u001b[0;34m,\u001b[0m \u001b[0mdelta\u001b[0m\u001b[0;34m)\u001b[0m\u001b[0;34m\u001b[0m\u001b[0;34m\u001b[0m\u001b[0m\n\u001b[0m\u001b[1;32m     57\u001b[0m \u001b[0;34m\u001b[0m\u001b[0m\n\u001b[1;32m     58\u001b[0m         \u001b[0;31m### method 2 ([5,5,5,5])\u001b[0m\u001b[0;34m\u001b[0m\u001b[0;34m\u001b[0m\u001b[0m\n",
            "\u001b[0;32m<ipython-input-25-b48f634a0ec1>\u001b[0m in \u001b[0;36mmodifyWeghts\u001b[0;34m(self, wd, wc, wb, we)\u001b[0m\n\u001b[1;32m     93\u001b[0m     \u001b[0mself\u001b[0m\u001b[0;34m.\u001b[0m\u001b[0mwBetweenness\u001b[0m \u001b[0;34m=\u001b[0m \u001b[0mmin\u001b[0m\u001b[0;34m(\u001b[0m\u001b[0mself\u001b[0m\u001b[0;34m.\u001b[0m\u001b[0mwBetweenness\u001b[0m \u001b[0;34m,\u001b[0m\u001b[0;36m99\u001b[0m\u001b[0;34m)\u001b[0m\u001b[0;34m\u001b[0m\u001b[0;34m\u001b[0m\u001b[0m\n\u001b[1;32m     94\u001b[0m     \u001b[0mself\u001b[0m\u001b[0;34m.\u001b[0m\u001b[0mwEigenvector\u001b[0m \u001b[0;34m=\u001b[0m \u001b[0mmin\u001b[0m\u001b[0;34m(\u001b[0m\u001b[0mself\u001b[0m\u001b[0;34m.\u001b[0m\u001b[0mwEigenvector\u001b[0m \u001b[0;34m,\u001b[0m\u001b[0;36m99\u001b[0m\u001b[0;34m)\u001b[0m\u001b[0;34m\u001b[0m\u001b[0;34m\u001b[0m\u001b[0m\n\u001b[0;32m---> 95\u001b[0;31m     \u001b[0mmergedScores\u001b[0m\u001b[0;34m=\u001b[0m\u001b[0;34m{\u001b[0m\u001b[0mnodeName\u001b[0m\u001b[0;34m:\u001b[0m\u001b[0mself\u001b[0m\u001b[0;34m.\u001b[0m\u001b[0mwDegree\u001b[0m\u001b[0;34m*\u001b[0m\u001b[0mself\u001b[0m\u001b[0;34m.\u001b[0m\u001b[0mscoresDegree\u001b[0m\u001b[0;34m[\u001b[0m\u001b[0mnodeName\u001b[0m\u001b[0;34m]\u001b[0m \u001b[0;34m+\u001b[0m \u001b[0mself\u001b[0m\u001b[0;34m.\u001b[0m\u001b[0mwCloseness\u001b[0m\u001b[0;34m*\u001b[0m\u001b[0mself\u001b[0m\u001b[0;34m.\u001b[0m\u001b[0mscoresCloseness\u001b[0m\u001b[0;34m[\u001b[0m\u001b[0mnodeName\u001b[0m\u001b[0;34m]\u001b[0m \u001b[0;34m+\u001b[0m \u001b[0mself\u001b[0m\u001b[0;34m.\u001b[0m\u001b[0mwBetweenness\u001b[0m\u001b[0;34m*\u001b[0m\u001b[0mself\u001b[0m\u001b[0;34m.\u001b[0m\u001b[0mscoreBetweenness\u001b[0m\u001b[0;34m[\u001b[0m\u001b[0mnodeName\u001b[0m\u001b[0;34m]\u001b[0m \u001b[0;34m+\u001b[0m \u001b[0mself\u001b[0m\u001b[0;34m.\u001b[0m\u001b[0mwEigenvector\u001b[0m\u001b[0;34m*\u001b[0m\u001b[0mself\u001b[0m\u001b[0;34m.\u001b[0m\u001b[0mscoreEigenvector\u001b[0m\u001b[0;34m[\u001b[0m\u001b[0mnodeName\u001b[0m\u001b[0;34m]\u001b[0m  \u001b[0;32mfor\u001b[0m \u001b[0mnodeName\u001b[0m \u001b[0;32min\u001b[0m \u001b[0mself\u001b[0m\u001b[0;34m.\u001b[0m\u001b[0mnetwork\u001b[0m\u001b[0;34m.\u001b[0m\u001b[0mnodes\u001b[0m\u001b[0;34m}\u001b[0m\u001b[0;34m\u001b[0m\u001b[0;34m\u001b[0m\u001b[0m\n\u001b[0m\u001b[1;32m     96\u001b[0m     \u001b[0mself\u001b[0m\u001b[0;34m.\u001b[0m\u001b[0msortedNodesList\u001b[0m \u001b[0;34m=\u001b[0m \u001b[0msorted\u001b[0m\u001b[0;34m(\u001b[0m\u001b[0mmergedScores\u001b[0m\u001b[0;34m.\u001b[0m\u001b[0mitems\u001b[0m\u001b[0;34m(\u001b[0m\u001b[0;34m)\u001b[0m\u001b[0;34m,\u001b[0m \u001b[0mkey\u001b[0m \u001b[0;34m=\u001b[0m \u001b[0;32mlambda\u001b[0m \u001b[0mitem\u001b[0m\u001b[0;34m:\u001b[0m\u001b[0mitem\u001b[0m\u001b[0;34m[\u001b[0m\u001b[0;36m1\u001b[0m\u001b[0;34m]\u001b[0m\u001b[0;34m,\u001b[0m\u001b[0mreverse\u001b[0m\u001b[0;34m=\u001b[0m\u001b[0;32mTrue\u001b[0m\u001b[0;34m)\u001b[0m\u001b[0;34m\u001b[0m\u001b[0;34m\u001b[0m\u001b[0m\n\u001b[1;32m     97\u001b[0m   \u001b[0;32mdef\u001b[0m \u001b[0msetWeghts\u001b[0m\u001b[0;34m(\u001b[0m\u001b[0mself\u001b[0m\u001b[0;34m,\u001b[0m \u001b[0mwd\u001b[0m\u001b[0;34m,\u001b[0m \u001b[0mwc\u001b[0m\u001b[0;34m,\u001b[0m \u001b[0mwb\u001b[0m\u001b[0;34m,\u001b[0m \u001b[0mwe\u001b[0m\u001b[0;34m)\u001b[0m\u001b[0;34m:\u001b[0m\u001b[0;34m\u001b[0m\u001b[0;34m\u001b[0m\u001b[0m\n",
            "\u001b[0;32m<ipython-input-25-b48f634a0ec1>\u001b[0m in \u001b[0;36m<dictcomp>\u001b[0;34m(.0)\u001b[0m\n\u001b[1;32m     93\u001b[0m     \u001b[0mself\u001b[0m\u001b[0;34m.\u001b[0m\u001b[0mwBetweenness\u001b[0m \u001b[0;34m=\u001b[0m \u001b[0mmin\u001b[0m\u001b[0;34m(\u001b[0m\u001b[0mself\u001b[0m\u001b[0;34m.\u001b[0m\u001b[0mwBetweenness\u001b[0m \u001b[0;34m,\u001b[0m\u001b[0;36m99\u001b[0m\u001b[0;34m)\u001b[0m\u001b[0;34m\u001b[0m\u001b[0;34m\u001b[0m\u001b[0m\n\u001b[1;32m     94\u001b[0m     \u001b[0mself\u001b[0m\u001b[0;34m.\u001b[0m\u001b[0mwEigenvector\u001b[0m \u001b[0;34m=\u001b[0m \u001b[0mmin\u001b[0m\u001b[0;34m(\u001b[0m\u001b[0mself\u001b[0m\u001b[0;34m.\u001b[0m\u001b[0mwEigenvector\u001b[0m \u001b[0;34m,\u001b[0m\u001b[0;36m99\u001b[0m\u001b[0;34m)\u001b[0m\u001b[0;34m\u001b[0m\u001b[0;34m\u001b[0m\u001b[0m\n\u001b[0;32m---> 95\u001b[0;31m     \u001b[0mmergedScores\u001b[0m\u001b[0;34m=\u001b[0m\u001b[0;34m{\u001b[0m\u001b[0mnodeName\u001b[0m\u001b[0;34m:\u001b[0m\u001b[0mself\u001b[0m\u001b[0;34m.\u001b[0m\u001b[0mwDegree\u001b[0m\u001b[0;34m*\u001b[0m\u001b[0mself\u001b[0m\u001b[0;34m.\u001b[0m\u001b[0mscoresDegree\u001b[0m\u001b[0;34m[\u001b[0m\u001b[0mnodeName\u001b[0m\u001b[0;34m]\u001b[0m \u001b[0;34m+\u001b[0m \u001b[0mself\u001b[0m\u001b[0;34m.\u001b[0m\u001b[0mwCloseness\u001b[0m\u001b[0;34m*\u001b[0m\u001b[0mself\u001b[0m\u001b[0;34m.\u001b[0m\u001b[0mscoresCloseness\u001b[0m\u001b[0;34m[\u001b[0m\u001b[0mnodeName\u001b[0m\u001b[0;34m]\u001b[0m \u001b[0;34m+\u001b[0m \u001b[0mself\u001b[0m\u001b[0;34m.\u001b[0m\u001b[0mwBetweenness\u001b[0m\u001b[0;34m*\u001b[0m\u001b[0mself\u001b[0m\u001b[0;34m.\u001b[0m\u001b[0mscoreBetweenness\u001b[0m\u001b[0;34m[\u001b[0m\u001b[0mnodeName\u001b[0m\u001b[0;34m]\u001b[0m \u001b[0;34m+\u001b[0m \u001b[0mself\u001b[0m\u001b[0;34m.\u001b[0m\u001b[0mwEigenvector\u001b[0m\u001b[0;34m*\u001b[0m\u001b[0mself\u001b[0m\u001b[0;34m.\u001b[0m\u001b[0mscoreEigenvector\u001b[0m\u001b[0;34m[\u001b[0m\u001b[0mnodeName\u001b[0m\u001b[0;34m]\u001b[0m  \u001b[0;32mfor\u001b[0m \u001b[0mnodeName\u001b[0m \u001b[0;32min\u001b[0m \u001b[0mself\u001b[0m\u001b[0;34m.\u001b[0m\u001b[0mnetwork\u001b[0m\u001b[0;34m.\u001b[0m\u001b[0mnodes\u001b[0m\u001b[0;34m}\u001b[0m\u001b[0;34m\u001b[0m\u001b[0;34m\u001b[0m\u001b[0m\n\u001b[0m\u001b[1;32m     96\u001b[0m     \u001b[0mself\u001b[0m\u001b[0;34m.\u001b[0m\u001b[0msortedNodesList\u001b[0m \u001b[0;34m=\u001b[0m \u001b[0msorted\u001b[0m\u001b[0;34m(\u001b[0m\u001b[0mmergedScores\u001b[0m\u001b[0;34m.\u001b[0m\u001b[0mitems\u001b[0m\u001b[0;34m(\u001b[0m\u001b[0;34m)\u001b[0m\u001b[0;34m,\u001b[0m \u001b[0mkey\u001b[0m \u001b[0;34m=\u001b[0m \u001b[0;32mlambda\u001b[0m \u001b[0mitem\u001b[0m\u001b[0;34m:\u001b[0m\u001b[0mitem\u001b[0m\u001b[0;34m[\u001b[0m\u001b[0;36m1\u001b[0m\u001b[0;34m]\u001b[0m\u001b[0;34m,\u001b[0m\u001b[0mreverse\u001b[0m\u001b[0;34m=\u001b[0m\u001b[0;32mTrue\u001b[0m\u001b[0;34m)\u001b[0m\u001b[0;34m\u001b[0m\u001b[0;34m\u001b[0m\u001b[0m\n\u001b[1;32m     97\u001b[0m   \u001b[0;32mdef\u001b[0m \u001b[0msetWeghts\u001b[0m\u001b[0;34m(\u001b[0m\u001b[0mself\u001b[0m\u001b[0;34m,\u001b[0m \u001b[0mwd\u001b[0m\u001b[0;34m,\u001b[0m \u001b[0mwc\u001b[0m\u001b[0;34m,\u001b[0m \u001b[0mwb\u001b[0m\u001b[0;34m,\u001b[0m \u001b[0mwe\u001b[0m\u001b[0;34m)\u001b[0m\u001b[0;34m:\u001b[0m\u001b[0;34m\u001b[0m\u001b[0;34m\u001b[0m\u001b[0m\n",
            "\u001b[0;31mKeyboardInterrupt\u001b[0m: "
          ]
        }
      ],
      "source": [
        "# model.learn(total_timesteps=1000)\n",
        "result = 0\n",
        "count = 10\n",
        "\n",
        "for atempt in range(count):\n",
        "  obs = env.reset()\n",
        "  i=0\n",
        "  done = False\n",
        "  # while i<100:#env.itterations:\n",
        "  while not done: #bad idea\n",
        "      i+=1\n",
        "      action, _states = model.predict(obs)\n",
        "\n",
        "      obs, rewards, done, info = env.step(action)\n",
        "      # env.render()\n",
        "  print(\"answer solution\",env.getAnswer())\n",
        "  print(\"attempt#\",atempt,\"influence\",env.getBestInfluence())\n",
        "  print(env.coreNetwork.getWeights())\n",
        "  result += env.getBestInfluence()\n",
        "print(\"avg result(\",count,\"atempts)\", result/count)\n",
        "print(\"solution length:\",env.baseCount)"
      ]
    },
    {
      "cell_type": "code",
      "execution_count": null,
      "metadata": {
        "colab": {
          "background_save": true
        },
        "id": "ruzpOJg8TUDe"
      },
      "outputs": [],
      "source": [
        "# get heuristic result\n"
      ]
    },
    {
      "cell_type": "code",
      "execution_count": null,
      "metadata": {
        "colab": {
          "background_save": true
        },
        "id": "6kSLan8JcXvi"
      },
      "outputs": [],
      "source": [
        "# model.learn(total_timesteps=1000)\n",
        "avg = 0\n",
        "for j in range(10):\n",
        "  obs = env.reset()\n",
        "  i=0\n",
        "  done = False\n",
        "\n",
        "  while i<50:\n",
        "      i+=1\n",
        "      action, _states = model.predict(obs)\n",
        "\n",
        "      obs, rewards, done, info = env.step(action)\n",
        "      # print(colored(\"==================================================================\",\"blue\"))\n",
        "      # print(colored(\"step#\",\"green\"),colored(i,\"green\"),\"action:\",action,\"reward\",colored(rewards,\"red\"))\n",
        "      # print(env.coreNetwork.IC())\n",
        "\n",
        "      # print(colored(\"sol\",\"yellow\"),colored(env.getSolution(),\"yellow\"))\n",
        "      env.render()\n",
        "  print(\"attempt #\",j+1)\n",
        "  print(\"answer solution\",env.getAnswer())\n",
        "  answ = env.getBestInfluence()\n",
        "  avg += answ\n",
        "  print(\"influence\",answ)\n",
        "print(colored(\"==================================================================\",\"blue\"))\n",
        "print(\"avg result\", avg/10)"
      ]
    },
    {
      "cell_type": "markdown",
      "metadata": {
        "id": "pm-sizMPcuVY"
      },
      "source": [
        "##huristics"
      ]
    },
    {
      "cell_type": "code",
      "execution_count": null,
      "metadata": {
        "id": "hlP0qXKlPo-z"
      },
      "outputs": [],
      "source": [
        "def getHeuristicResultsBackUp(mode, verbose = False):\n",
        "  env.reset()\n",
        "  avg = 0\n",
        "  for j in range(10):\n",
        "    obs = env.reset()\n",
        "    if(mode ==0):\n",
        "      env.coreNetwork.setWeghts(100,0,0,0)\n",
        "    if(mode ==1):\n",
        "      env.coreNetwork.setWeghts(0,100,0,0)\n",
        "    if(mode ==2):\n",
        "      env.coreNetwork.setWeghts(0,0,100,0)\n",
        "    if(mode ==3):\n",
        "      env.coreNetwork.setWeghts(0,0,0,100)\n",
        "    env.step([2,2])\n",
        "    answ = env.baseScore+env.currentScore\n",
        "    if(verbose):\n",
        "      print(\"answer solution\",env.getSolution())\n",
        "      print(\"influence (#\",j,\")\",answ)\n",
        "    avg += answ\n",
        "  print(\"====================MODE:\",mode)\n",
        "  print(\"avg influence:\", avg/10)"
      ]
    },
    {
      "cell_type": "code",
      "execution_count": null,
      "metadata": {
        "colab": {
          "base_uri": "https://localhost:8080/"
        },
        "id": "jUssiD8FTqkZ",
        "outputId": "a986e690-fac5-4c17-f16a-770ed8d88f06"
      },
      "outputs": [
        {
          "name": "stderr",
          "output_type": "stream",
          "text": [
            "/usr/local/lib/python3.10/dist-packages/ipykernel/ipkernel.py:283: DeprecationWarning: `should_run_async` will not call `transform_cell` automatically in the future. Please pass the result to `transformed_cell` argument and any exception that happen during thetransform in `preprocessing_exc_tuple` in IPython 7.17 and above.\n",
            "  and should_run_async(code)\n"
          ]
        }
      ],
      "source": [
        "def getHeuristicResults(mode, verbose = False):\n",
        "  env.reset()\n",
        "  avg = 0\n",
        "  for j in range(10):\n",
        "    obs = env.reset()\n",
        "    if(mode ==0):\n",
        "      env.coreNetwork.setWeghts(100,0,0,0)\n",
        "    if(mode ==1):\n",
        "      env.coreNetwork.setWeghts(0,100,0,0)\n",
        "    if(mode ==2):\n",
        "      env.coreNetwork.setWeghts(0,0,100,0)\n",
        "    if(mode ==3):\n",
        "      env.coreNetwork.setWeghts(0,0,0,100)\n",
        "    answ = env.coreNetwork.IC()\n",
        "    # env.step([2,2])\n",
        "    # answ = env.baseScore+env.currentScore\n",
        "    if(verbose):\n",
        "      print(\"answer solution\",env.getSolution())\n",
        "      print(\"influence (#\",j,\")\",answ)\n",
        "    avg += answ\n",
        "  print(\"====================MODE:\",mode)\n",
        "  print(\"avg influence:\", avg/10)"
      ]
    },
    {
      "cell_type": "code",
      "execution_count": null,
      "metadata": {
        "id": "Kxc9-2DJf3sU"
      },
      "outputs": [],
      "source": [
        "#wd, wc, wb, we"
      ]
    },
    {
      "cell_type": "code",
      "execution_count": null,
      "metadata": {
        "id": "OmS8UQ19WkN1"
      },
      "outputs": [],
      "source": [
        "getHeuristicResults(0)\n",
        "print(\":::::::::::::::::::::::::::::::::::::::::\")\n",
        "getHeuristicResults(1)\n",
        "print(\":::::::::::::::::::::::::::::::::::::::::\")\n",
        "getHeuristicResults(2)\n",
        "print(\":::::::::::::::::::::::::::::::::::::::::\")\n",
        "getHeuristicResults(3)"
      ]
    },
    {
      "cell_type": "code",
      "execution_count": null,
      "metadata": {
        "id": "Z1rYQgBTgpmp"
      },
      "outputs": [],
      "source": [
        "def getHeuResults(title):\n",
        "  print(\"[[[:::::::::::::]]]\"+title+\"[[[[::::::::::::::::::]]]]\")\n",
        "  getHeuristicResults(0)\n",
        "  print(\":::::::::::::::::::::::::::::::::::::::::\")\n",
        "  getHeuristicResults(1)\n",
        "  print(\":::::::::::::::::::::::::::::::::::::::::\")\n",
        "  getHeuristicResults(2)\n",
        "  print(\":::::::::::::::::::::::::::::::::::::::::\")\n",
        "  getHeuristicResults(3)"
      ]
    },
    {
      "cell_type": "code",
      "execution_count": null,
      "metadata": {
        "colab": {
          "base_uri": "https://localhost:8080/"
        },
        "id": "g42ou8nfgmOM",
        "outputId": "f66facb0-06d5-47cb-efe7-a6f6b132acef"
      },
      "outputs": [
        {
          "name": "stdout",
          "output_type": "stream",
          "text": [
            "action space: MultiDiscrete([4 5])\n",
            "[[[:::::::::::::]]]sol length 5[[[[::::::::::::::::::]]]]\n",
            "====================MODE: 0\n",
            "avg influence: 158.1\n",
            ":::::::::::::::::::::::::::::::::::::::::\n",
            "====================MODE: 1\n",
            "avg influence: 126.7\n",
            ":::::::::::::::::::::::::::::::::::::::::\n",
            "====================MODE: 2\n",
            "avg influence: 112.9\n",
            ":::::::::::::::::::::::::::::::::::::::::\n",
            "====================MODE: 3\n",
            "avg influence: 110.1\n",
            "action space: MultiDiscrete([4 5])\n",
            "[[[:::::::::::::]]]sol length 10[[[[::::::::::::::::::]]]]\n",
            "====================MODE: 0\n",
            "avg influence: 154.4\n",
            ":::::::::::::::::::::::::::::::::::::::::\n",
            "====================MODE: 1\n",
            "avg influence: 142.3\n",
            ":::::::::::::::::::::::::::::::::::::::::\n",
            "====================MODE: 2\n",
            "avg influence: 115.5\n",
            ":::::::::::::::::::::::::::::::::::::::::\n",
            "====================MODE: 3\n",
            "avg influence: 124.5\n",
            "action space: MultiDiscrete([4 5])\n",
            "[[[:::::::::::::]]]sol length 15[[[[::::::::::::::::::]]]]\n",
            "====================MODE: 0\n",
            "avg influence: 204.4\n",
            ":::::::::::::::::::::::::::::::::::::::::\n",
            "====================MODE: 1\n",
            "avg influence: 189.3\n",
            ":::::::::::::::::::::::::::::::::::::::::\n",
            "====================MODE: 2\n",
            "avg influence: 190.6\n",
            ":::::::::::::::::::::::::::::::::::::::::\n",
            "====================MODE: 3\n",
            "avg influence: 163.1\n",
            "action space: MultiDiscrete([4 5])\n",
            "[[[:::::::::::::]]]sol length 20[[[[::::::::::::::::::]]]]\n",
            "====================MODE: 0\n",
            "avg influence: 220.0\n",
            ":::::::::::::::::::::::::::::::::::::::::\n",
            "====================MODE: 1\n",
            "avg influence: 251.4\n",
            ":::::::::::::::::::::::::::::::::::::::::\n",
            "====================MODE: 2\n",
            "avg influence: 187.8\n",
            ":::::::::::::::::::::::::::::::::::::::::\n",
            "====================MODE: 3\n",
            "avg influence: 178.5\n",
            "action space: MultiDiscrete([4 5])\n",
            "[[[:::::::::::::]]]sol length 25[[[[::::::::::::::::::]]]]\n",
            "====================MODE: 0\n",
            "avg influence: 249.8\n",
            ":::::::::::::::::::::::::::::::::::::::::\n",
            "====================MODE: 1\n",
            "avg influence: 246.7\n",
            ":::::::::::::::::::::::::::::::::::::::::\n",
            "====================MODE: 2\n",
            "avg influence: 208.1\n",
            ":::::::::::::::::::::::::::::::::::::::::\n",
            "====================MODE: 3\n",
            "avg influence: 206.2\n",
            "action space: MultiDiscrete([4 5])\n",
            "[[[:::::::::::::]]]sol length 30[[[[::::::::::::::::::]]]]\n",
            "====================MODE: 0\n",
            "avg influence: 260.4\n",
            ":::::::::::::::::::::::::::::::::::::::::\n",
            "====================MODE: 1\n",
            "avg influence: 247.4\n",
            ":::::::::::::::::::::::::::::::::::::::::\n",
            "====================MODE: 2\n",
            "avg influence: 253.2\n",
            ":::::::::::::::::::::::::::::::::::::::::\n",
            "====================MODE: 3\n",
            "avg influence: 209.0\n",
            "action space: MultiDiscrete([4 5])\n",
            "[[[:::::::::::::]]]sol length 40[[[[::::::::::::::::::]]]]\n",
            "====================MODE: 0\n",
            "avg influence: 356.1\n",
            ":::::::::::::::::::::::::::::::::::::::::\n",
            "====================MODE: 1\n",
            "avg influence: 281.7\n",
            ":::::::::::::::::::::::::::::::::::::::::\n",
            "====================MODE: 2\n",
            "avg influence: 301.7\n",
            ":::::::::::::::::::::::::::::::::::::::::\n",
            "====================MODE: 3\n",
            "avg influence: 218.1\n",
            "action space: MultiDiscrete([4 5])\n",
            "[[[:::::::::::::]]]sol length 50[[[[::::::::::::::::::]]]]\n",
            "====================MODE: 0\n",
            "avg influence: 391.6\n",
            ":::::::::::::::::::::::::::::::::::::::::\n",
            "====================MODE: 1\n",
            "avg influence: 359.6\n",
            ":::::::::::::::::::::::::::::::::::::::::\n",
            "====================MODE: 2\n",
            "avg influence: 315.0\n",
            ":::::::::::::::::::::::::::::::::::::::::\n",
            "====================MODE: 3\n",
            "avg influence: 228.6\n",
            "action space: MultiDiscrete([4 5])\n",
            "[[[:::::::::::::]]]sol length 100[[[[::::::::::::::::::]]]]\n",
            "====================MODE: 0\n",
            "avg influence: 544.4\n",
            ":::::::::::::::::::::::::::::::::::::::::\n",
            "====================MODE: 1\n",
            "avg influence: 506.1\n",
            ":::::::::::::::::::::::::::::::::::::::::\n",
            "====================MODE: 2\n",
            "avg influence: 528.9\n",
            ":::::::::::::::::::::::::::::::::::::::::\n",
            "====================MODE: 3\n",
            "avg influence: 312.9\n"
          ]
        }
      ],
      "source": [
        "env = EnvClass(graph,50,50,0,0,\"single\", 5, musicPref)\n",
        "getHeuResults(\"sol length 5\")\n",
        "env = EnvClass(graph,50,50,0,0,\"single\", 10, musicPref)\n",
        "getHeuResults(\"sol length 10\")\n",
        "env = EnvClass(graph,50,50,0,0,\"single\", 15, musicPref)\n",
        "getHeuResults(\"sol length 15\")\n",
        "env = EnvClass(graph,50,50,0,0,\"single\", 20, musicPref)\n",
        "getHeuResults(\"sol length 20\")\n",
        "env = EnvClass(graph,50,50,0,0,\"single\", 25, musicPref)\n",
        "getHeuResults(\"sol length 25\")\n",
        "env = EnvClass(graph,50,50,0,0,\"single\", 30, musicPref)\n",
        "getHeuResults(\"sol length 30\")\n",
        "env = EnvClass(graph,50,50,0,0,\"single\", 40, musicPref)\n",
        "getHeuResults(\"sol length 40\")\n",
        "env = EnvClass(graph,50,50,0,0,\"single\", 50, musicPref)\n",
        "getHeuResults(\"sol length 50\")\n",
        "env = EnvClass(graph,50,50,0,0,\"single\", 100, musicPref)\n",
        "getHeuResults(\"sol length 100\")\n"
      ]
    },
    {
      "cell_type": "code",
      "execution_count": null,
      "metadata": {
        "colab": {
          "background_save": true
        },
        "id": "WT7RfuEzaht8"
      },
      "outputs": [],
      "source": [
        "env.baseCount = 40\n",
        "env.reset()"
      ]
    },
    {
      "cell_type": "code",
      "execution_count": null,
      "metadata": {
        "colab": {
          "background_save": true
        },
        "id": "_RPVm9XlXkza"
      },
      "outputs": [],
      "source": [
        "# result = 0\n",
        "# count = 10\n",
        "# for i in range(count):\n",
        "#   obs = env.reset()\n",
        "#   env.coreNetwork.setWeghts(100,0,0,0)\n",
        "#   env.step([2,2])\n",
        "#   result += env.baseScore+env.currentScore\n",
        "# print(\"influence(avg of\",count,\"):\",env.baseScore+env.currentScore)"
      ]
    },
    {
      "cell_type": "code",
      "execution_count": null,
      "metadata": {
        "colab": {
          "background_save": true
        },
        "id": "3XrEGyddQMVS"
      },
      "outputs": [],
      "source": [
        "avg = 0\n",
        "for j in range(10):\n",
        "  obs = env.reset()\n",
        "  env.coreNetwork.setWeghts(100,0,0,0)\n",
        "  for z in range(50):\n",
        "    env.step([2,2])\n",
        "  i=0\n",
        "  done = False\n",
        "  answ = env.baseScore+env.currentScore\n",
        "  print(\"answer solution\",env.getSolution())\n",
        "  print(\"influence (#\",j,\")\",answ)\n",
        "  avg += answ\n",
        "print(\"====================\")\n",
        "print(\"avg influence:\", avg/10)"
      ]
    },
    {
      "cell_type": "code",
      "execution_count": null,
      "metadata": {
        "colab": {
          "background_save": true
        },
        "id": "bB9ghjjmQZKU"
      },
      "outputs": [],
      "source": [
        "avg = 0\n",
        "for j in range(10):\n",
        "  obs = env.reset()\n",
        "  env.coreNetwork.setWeghts(0,100,0,0)\n",
        "  for z in range(50):\n",
        "    env.step([2,2])\n",
        "  i=0\n",
        "  done = False\n",
        "  answ = env.baseScore+env.currentScore\n",
        "  print(\"answer solution\",env.getSolution())\n",
        "  print(\"influence (#\",j,\")\",answ)\n",
        "  avg += answ\n",
        "print(\"====================\")\n",
        "print(\"avg influence:\", avg/10)"
      ]
    },
    {
      "cell_type": "code",
      "execution_count": null,
      "metadata": {
        "colab": {
          "background_save": true
        },
        "id": "qNTmm8J4Qdbe"
      },
      "outputs": [],
      "source": [
        "avg = 0\n",
        "for j in range(10):\n",
        "  obs = env.reset()\n",
        "  env.coreNetwork.setWeghts(0,0,100,0)\n",
        "  for z in range(50):\n",
        "    env.step([2,2])\n",
        "  i=0\n",
        "  done = False\n",
        "  answ = env.baseScore+env.currentScore\n",
        "  print(\"answer solution\",env.getSolution())\n",
        "  print(\"influence (#\",j,\")\",answ)\n",
        "  avg += answ\n",
        "print(\"====================\")\n",
        "print(\"avg influence:\", avg/10)"
      ]
    },
    {
      "cell_type": "code",
      "execution_count": null,
      "metadata": {
        "colab": {
          "background_save": true
        },
        "id": "-KW8p0h2Qf3s"
      },
      "outputs": [],
      "source": [
        "avg = 0\n",
        "for j in range(10):\n",
        "  obs = env.reset()\n",
        "  env.coreNetwork.setWeghts(0,0,0,100)\n",
        "  for z in range(50):\n",
        "    env.step([2,2])\n",
        "  i=0\n",
        "  done = False\n",
        "  answ = env.baseScore+env.currentScore\n",
        "  print(\"answer solution\",env.getSolution())\n",
        "  print(\"influence (#\",j,\")\",answ)\n",
        "  avg += answ\n",
        "print(\"====================\")\n",
        "print(\"avg influence:\", avg/10)"
      ]
    },
    {
      "cell_type": "code",
      "execution_count": null,
      "metadata": {
        "colab": {
          "background_save": true
        },
        "id": "AWmiV0s8ghCs"
      },
      "outputs": [],
      "source": [
        "G = readGraph(fileAddress)\n",
        "nx.info(G)"
      ]
    },
    {
      "cell_type": "code",
      "execution_count": null,
      "metadata": {
        "colab": {
          "background_save": true
        },
        "id": "wKJ8lpZniMO6"
      },
      "outputs": [],
      "source": [
        "env.reset()\n",
        "print(\"solution\",env.getSolution())\n",
        "print(\"influence\",env.getBestInfluence())"
      ]
    },
    {
      "cell_type": "code",
      "execution_count": null,
      "metadata": {
        "colab": {
          "background_save": true
        },
        "id": "_iyKLeEx0Ugf"
      },
      "outputs": [],
      "source": [
        "codeSol = env.bestSol\n",
        "env.reset()\n",
        "defSol = env.getSolution()\n",
        "print(set(codeSol) - set(defSol))"
      ]
    },
    {
      "cell_type": "markdown",
      "metadata": {
        "id": "x1BQPRvsUYEj"
      },
      "source": [
        "#Random"
      ]
    },
    {
      "cell_type": "code",
      "execution_count": null,
      "metadata": {
        "id": "O1iQUXPlVcZd"
      },
      "outputs": [],
      "source": [
        "from random import sample"
      ]
    },
    {
      "cell_type": "code",
      "execution_count": null,
      "metadata": {
        "id": "dNaXoFUjUaVr"
      },
      "outputs": [],
      "source": [
        "class CoreNetworkRand ():\n",
        "  def __init__(self,graph, ct1, ct2, ct3, ct4, solCount, musicPrefs):\n",
        "\n",
        "    self.musicPrefs = musicPrefs\n",
        "    self.solutionCount = solCount\n",
        "    self.influenceThreshold = 80\n",
        "    self.network = graph.copy()\n",
        "    # print(\"############>\",len(self.network.nodes['10']['topicsVec']))\n",
        "#     self.scoresDegree = nx.algorithms.degree_centrality(self.network)#sorted(env.network.degree, key=lambda x: x[1], reverse=False)\n",
        "    # print(self.scoresDegree)\n",
        "#     self.scoresCloseness = nx.algorithms.closeness_centrality(self.network)\n",
        "    # print(self.scoresCloseness)\n",
        "#     self.scoreBetweenness= nx.algorithms.betweenness_centrality(self.network)\n",
        "    # print(self.scoreBetweenness)\n",
        "#     self.scoreEigenvector= nx.algorithms.eigenvector_centrality(self.network,max_iter=1500)\n",
        "    # print(self.scoreEigenvector)\n",
        "    with open('/content/'+netowrkName+'_degreeCentralityData', 'rb') as fileHandle:\n",
        "        self.scoresDegree = pickle.load(fileHandle)\n",
        "    with open('/content/'+netowrkName+'_scoresClosenessData', 'rb') as fileHandle:\n",
        "        self.scoresCloseness = pickle.load(fileHandle)\n",
        "    with open('/content/'+netowrkName+'_scoreBetweennessData', 'rb') as fileHandle:\n",
        "        self.scoreBetweenness = pickle.load(fileHandle)\n",
        "    with open('/content/'+netowrkName+'_scoreEigenvectorData', 'rb') as fileHandle:\n",
        "        self.scoreEigenvector = pickle.load(fileHandle)\n",
        "    self.normalizeScoreVectors()\n",
        "\n",
        "    self.t1 = ct1\n",
        "    self.t2 = ct2\n",
        "    self.t3 = ct3\n",
        "    self.t4 = ct4\n",
        "    self.setWeghts(1,1,1,1)\n",
        "    self.infectedNodes = self.IC()\n",
        "\n",
        "\n",
        "    self.wDegree = 1\n",
        "    self.wCloseness = 1\n",
        "    self.wBetweenness = 1\n",
        "    self.wEigenvector = 1\n",
        "  def normalizeArr(self, arr, t_min, t_max):\n",
        "    maxItem = sorted(arr.items(), key=lambda x: x[1], reverse=True)[0]\n",
        "    # arr = [int(value) for value in sarr]\n",
        "    # norm_arr = [] 40\n",
        "    # print(maxItem)\n",
        "    diff = t_max - t_min\n",
        "    diff_arr = maxItem[1] - 0\n",
        "    for nodeName in self.network.nodes:\n",
        "        temp = (((arr[nodeName])*diff)/diff_arr) + t_min\n",
        "        # norm_arr.append(temp)\n",
        "        arr[nodeName] = temp\n",
        "    # string_arr = [str(number) for number in norm_arr]\n",
        "    return arr#norm_arr\n",
        "  def normalizeScoreVectors(self):\n",
        "    self.scoresDegree = self.normalizeArr(self.scoresDegree,0,2)\n",
        "    self.scoresCloseness = self.normalizeArr(self.scoresCloseness,0,2)\n",
        "    self.scoreBetweenness = self.normalizeArr(self.scoreBetweenness,0,2)\n",
        "    self.scoreEigenvector = self.normalizeArr(self.scoreEigenvector,0,2)\n",
        "    # print(\"Normalized scores\")\n",
        "    # print(self.scoresDegree)\n",
        "    # print(self.scoresCloseness)\n",
        "    # print(self.scoreBetweenness)\n",
        "    # print(self.scoreEigenvector)\n",
        "  def getWeights(self):\n",
        "    return [self.wDegree , self.wCloseness, self.wBetweenness, self.wEigenvector]\n",
        "  def modifyWeghts(self, wd, wc, wb, we):\n",
        "    self.wDegree += wd\n",
        "    self.wCloseness += wc\n",
        "    self.wBetweenness += wb\n",
        "    self.wEigenvector += we\n",
        "\n",
        "    self.wDegree = max(self.wDegree ,0)\n",
        "    self.wCloseness = max(self.wCloseness ,0)\n",
        "    self.wBetweenness = max(self.wBetweenness ,0)\n",
        "    self.wEigenvector = max(self.wEigenvector ,0)\n",
        "\n",
        "    self.wDegree = min(self.wDegree ,99)\n",
        "    self.wCloseness = min(self.wCloseness ,99)\n",
        "    self.wBetweenness = min(self.wBetweenness ,99)\n",
        "    self.wEigenvector = min(self.wEigenvector ,99)\n",
        "    mergedScores={nodeName:self.wDegree*self.scoresDegree[nodeName] + self.wCloseness*self.scoresCloseness[nodeName] + self.wBetweenness*self.scoreBetweenness[nodeName] + self.wEigenvector*self.scoreEigenvector[nodeName]  for nodeName in self.network.nodes}\n",
        "    self.sortedNodesList = sorted(mergedScores.items(), key = lambda item:item[1],reverse=True)\n",
        "  def setWeghts(self, wd, wc, wb, we):\n",
        "    self.wDegree = wd\n",
        "    self.wCloseness = wc\n",
        "    self.wBetweenness = wb\n",
        "    self.wEigenvector = we\n",
        "    mergedScores={nodeName:self.wDegree*self.scoresDegree[nodeName] + self.wCloseness*self.scoresCloseness[nodeName] + self.wBetweenness*self.scoreBetweenness[nodeName] + self.wEigenvector*self.scoreEigenvector[nodeName]  for nodeName in self.network.nodes}\n",
        "    self.sortedNodesList = sorted(mergedScores.items(), key = lambda item:item[1],reverse=True)\n",
        "  def reset(self):\n",
        "    self.setWeghts(1,1,1,1)\n",
        "    self.infectedNodes = self.IC()\n",
        "  # def readGraph(self, fileAddress):\n",
        "  #   G=nx.Graph()\n",
        "  #   with open(fileAddress) as f:\n",
        "  #     for line in f:\n",
        "  #         # print(line.strip())\n",
        "  #         lineInputs = line.strip().split()\n",
        "  #         # print(lineInputs)\n",
        "  #         # print(lineInputs.length)\n",
        "  #         (a,b,t1,t2,t3,t4,t5) = (lineInputs[0],lineInputs[1],lineInputs[2],lineInputs[3],lineInputs[4],lineInputs[5],lineInputs[6])\n",
        "  #         # print(lineInputs[2],t1)\n",
        "  #         if(G.has_node(a) and G.has_node(b)):\n",
        "  #           continue\n",
        "  #         G.add_node(a)\n",
        "  #         G.add_node(b)\n",
        "  #         G.add_edges_from([  (a,b,{\"p1\":t1 , \"p2\":t2 , \"p3\":t3 , \"p4\":t4, \"p5\":t5})])\n",
        "\n",
        "  #   return G\n",
        "  def propagate(self, new_active):\n",
        "      targets = []\n",
        "      for node in new_active:\n",
        "          targets += self.network.neighbors(node)\n",
        "\n",
        "      return(targets)\n",
        "  def IC(self,mc=1,randomSelection = False):\n",
        "      it = self.influenceThreshold\n",
        "      solutionCount = self.solutionCount\n",
        "      \"\"\"\n",
        "      Inputs:\n",
        "                  - Networkx object\n",
        "                  - E x 2 Pandas dataframe of directed edges. Columns: ['source','target']\n",
        "                  - dictionary with key=source node & values=out-neighbors\n",
        "              S:  List of seed nodes\n",
        "              mc: Number of Monte-Carlo simulations,\n",
        "      Output: Average number of nodes influenced by seed nodes in S\n",
        "      \"\"\"\n",
        "\n",
        "      # Loop over the Monte-Carlo Simulations\n",
        "      spread = []\n",
        "\n",
        "      # Simulate propagation process\n",
        "      A = []\n",
        "      new_active = self.getTopNodes(solutionCount)#S[:], S[:]\n",
        "      if randomSelection:\n",
        "        new_active = random.sample(self.network.nodes, solutionCount)\n",
        "      # new_active=S\n",
        "      # A=S\n",
        "      while new_active:\n",
        "\n",
        "          # 1. Find out-neighbors for each newly active node\n",
        "          targets = self.propagate(new_active)\n",
        "\n",
        "          # 2. Determine newly activated neighbors\n",
        "          new_ones = list()\n",
        "          for influencer in new_active:\n",
        "            neighbors =  self.network.neighbors(influencer)\n",
        "            # print(list(neighbors))\n",
        "            for neighbor in list(neighbors):\n",
        "              topicPs = self.network.get_edge_data(influencer,neighbor)\n",
        "              ### the method below is ok for base=line solution reconstruciton\n",
        "              # influenceSuccessT5 = np.random.uniform(0,10000) < (int(self.network[influencer][neighbor][\"p5\"])*self.t5)\n",
        "              # (100-it)\n",
        "              influenceSuccess = np.random.uniform(0,100) < 0.25*100*(self.network[influencer][neighbor][\"weight\"]*infProb(str(influencer), self.musicPrefs, self.network))\n",
        "              # print(influenceSuccess)\n",
        "              # print(100*(self.network[influencer][neighbor][\"weight\"]*infProb(str(influencer), self.musicPrefs, self.network)))\n",
        "              if(influenceSuccess):\n",
        "                new_ones.append(neighbor)\n",
        "\n",
        "          # 3. Find newly activated nodes and add to the set of activated nodes\n",
        "          new_active = list(set(new_ones) - set(A))\n",
        "          A += new_active\n",
        "\n",
        "      spread.append(len(A))\n",
        "      # print(new_ones)\n",
        "      return np.mean(spread)\n",
        "      # return(np.mean(spread),A)\n",
        "\n",
        "  def getTopNodes(self, count):\n",
        "    #combine all 4 scores for each node\n",
        "    # print(self.sortedNodesList)\n",
        "    #sort the nodes with newly calculated scores\n",
        "    result = []\n",
        "    i = 0\n",
        "    for (node,score) in self.sortedNodesList:\n",
        "      if(i>=count):\n",
        "        break\n",
        "      result.append(node)\n",
        "      i += 1\n",
        "    # print(self.sortedNodesList)\n",
        "    # print(result)\n",
        "    return result\n",
        "  def spreadInfluence(self):\n",
        "    previousInfection = self.infectedNodes\n",
        "    self.infectedNodes = self.IC()\n",
        "    return self.infectedNodes - previousInfection   #amount of increase in infected nodes\n",
        "  def resetWeights(self):\n",
        "    self.setWeghts(1,1,1,1)"
      ]
    },
    {
      "cell_type": "code",
      "execution_count": null,
      "metadata": {
        "id": "OFSZNcBLUsdm"
      },
      "outputs": [],
      "source": [
        "# musicPref = np.zeros(len(topics))\n",
        "# musicPref[3] = 0.5\n",
        "# musicPref[2] = 0.8\n",
        "coreNetworkRand = CoreNetworkRand(graph, 50,50,50,0, 100,musicPref)"
      ]
    },
    {
      "cell_type": "code",
      "execution_count": null,
      "metadata": {
        "colab": {
          "base_uri": "https://localhost:8080/"
        },
        "id": "YfD-iFh9kuOF",
        "outputId": "cd52fdde-dfa7-4ef7-f6fa-4fcacfb50da8"
      },
      "outputs": [
        {
          "name": "stderr",
          "output_type": "stream",
          "text": [
            "/usr/local/lib/python3.10/dist-packages/ipykernel/ipkernel.py:283: DeprecationWarning: `should_run_async` will not call `transform_cell` automatically in the future. Please pass the result to `transformed_cell` argument and any exception that happen during thetransform in `preprocessing_exc_tuple` in IPython 7.17 and above.\n",
            "  and should_run_async(code)\n"
          ]
        }
      ],
      "source": [
        "def getRandomSelectionResults(count,verbose = False):\n",
        "  coreNetworkRand = CoreNetworkRand(graph, 50,50,50,0, count ,musicPref)\n",
        "  print(\"-------- random#\", count, \" ----------\")\n",
        "  sum = 0\n",
        "  for i in range(10):\n",
        "    current = coreNetworkRand.IC(randomSelection=True)\n",
        "    sum += current\n",
        "    coreNetworkRand.reset()\n",
        "    if(verbose):\n",
        "      print(current)\n",
        "  if(verbose):\n",
        "    print(\"==========================\")\n",
        "  print(sum/10)"
      ]
    },
    {
      "cell_type": "code",
      "execution_count": null,
      "metadata": {
        "colab": {
          "base_uri": "https://localhost:8080/"
        },
        "id": "CMmN4J52bznx",
        "outputId": "187bd1a9-659b-41c5-88f2-b24bf0e10390"
      },
      "outputs": [
        {
          "name": "stdout",
          "output_type": "stream",
          "text": [
            "-------- random# 5  ----------\n"
          ]
        },
        {
          "name": "stderr",
          "output_type": "stream",
          "text": [
            "<ipython-input-75-2de22252824b>:134: DeprecationWarning: Sampling from a set deprecated\n",
            "since Python 3.9 and will be removed in a subsequent version.\n",
            "  new_active = random.sample(self.network.nodes, solutionCount)\n"
          ]
        },
        {
          "name": "stdout",
          "output_type": "stream",
          "text": [
            "2.9\n",
            "-------- random# 10  ----------\n",
            "6.3\n",
            "-------- random# 15  ----------\n",
            "4.4\n",
            "-------- random# 20  ----------\n",
            "9.0\n",
            "-------- random# 25  ----------\n",
            "10.5\n",
            "-------- random# 30  ----------\n",
            "13.7\n",
            "-------- random# 40  ----------\n",
            "23.0\n",
            "-------- random# 50  ----------\n",
            "20.6\n",
            "-------- random# 100  ----------\n",
            "50.5\n"
          ]
        }
      ],
      "source": [
        "getRandomSelectionResults(5)\n",
        "getRandomSelectionResults(10)\n",
        "getRandomSelectionResults(15)\n",
        "getRandomSelectionResults(20)\n",
        "getRandomSelectionResults(25)\n",
        "getRandomSelectionResults(30)\n",
        "getRandomSelectionResults(40)\n",
        "getRandomSelectionResults(50)\n",
        "getRandomSelectionResults(100)"
      ]
    },
    {
      "cell_type": "markdown",
      "metadata": {
        "id": "8oLzimiI4jfy"
      },
      "source": [
        "setWeghts(self, wd, wc, wb, we)"
      ]
    },
    {
      "cell_type": "code",
      "execution_count": null,
      "metadata": {
        "colab": {
          "background_save": true
        },
        "id": "bEAOB3vDZSJ_"
      },
      "outputs": [],
      "source": [
        "sum = 0\n",
        "for i in range(10):\n",
        "  coreNetworkRand.setWeghts(100,0,0,0)\n",
        "  current = coreNetworkRand.IC()\n",
        "  sum += current\n",
        "  coreNetworkRand.reset()\n",
        "  print(current)\n",
        "print(\"==========================\")\n",
        "print(sum/10)"
      ]
    },
    {
      "cell_type": "code",
      "execution_count": null,
      "metadata": {
        "colab": {
          "background_save": true
        },
        "id": "t5C_ZX5u5WVH"
      },
      "outputs": [],
      "source": [
        "sum = 0\n",
        "for i in range(10):\n",
        "  coreNetworkRand.setWeghts(0,100,0,0)\n",
        "  current = coreNetworkRand.IC()\n",
        "  sum += current\n",
        "  coreNetworkRand.reset()\n",
        "  print(current)\n",
        "print(\"==========================\")\n",
        "print(sum/10)"
      ]
    },
    {
      "cell_type": "code",
      "execution_count": null,
      "metadata": {
        "colab": {
          "background_save": true
        },
        "id": "_C7MIaaP5Xn6"
      },
      "outputs": [],
      "source": [
        "sum = 0\n",
        "for i in range(10):\n",
        "  coreNetworkRand.setWeghts(0,0,100,0)\n",
        "  current = coreNetworkRand.IC()\n",
        "  sum += current\n",
        "  coreNetworkRand.reset()\n",
        "  print(current)\n",
        "print(\"==========================\")\n",
        "print(sum/10)"
      ]
    },
    {
      "cell_type": "code",
      "execution_count": null,
      "metadata": {
        "colab": {
          "background_save": true
        },
        "id": "FzElwLPT5ZX5"
      },
      "outputs": [],
      "source": [
        "sum = 0\n",
        "for i in range(10):\n",
        "  coreNetworkRand.setWeghts(0,0,0,100)\n",
        "  current = coreNetworkRand.IC()\n",
        "  sum += current\n",
        "  coreNetworkRand.reset()\n",
        "  print(current)\n",
        "print(\"==========================\")\n",
        "print(sum/10)"
      ]
    },
    {
      "cell_type": "code",
      "execution_count": null,
      "metadata": {
        "colab": {
          "background_save": true
        },
        "id": "54mgdbydWa7y"
      },
      "outputs": [],
      "source": [
        "sum = 0\n",
        "for i in range(10):\n",
        "  current = coreNetworkRand.IC(randomSelection=True)\n",
        "  sum += current\n",
        "  coreNetworkRand.reset()\n",
        "  print(current)\n",
        "print(\"==========================\")\n",
        "print(sum/10)"
      ]
    },
    {
      "cell_type": "code",
      "execution_count": null,
      "metadata": {
        "colab": {
          "background_save": true
        },
        "id": "_tpf0SEwVwfP"
      },
      "outputs": [],
      "source": [
        "print(coreNetworkRand.IC(randomSelection=True))"
      ]
    }
  ],
  "metadata": {
    "colab": {
      "provenance": []
    },
    "gpuClass": "standard",
    "kernelspec": {
      "display_name": "Python 3 (ipykernel)",
      "language": "python",
      "name": "python3"
    },
    "language_info": {
      "codemirror_mode": {
        "name": "ipython",
        "version": 3
      },
      "file_extension": ".py",
      "mimetype": "text/x-python",
      "name": "python",
      "nbconvert_exporter": "python",
      "pygments_lexer": "ipython3",
      "version": "3.9.12"
    },
    "widgets": {
      "application/vnd.jupyter.widget-state+json": {
        "7605b5bf2abb41f5ba6e82a66c628145": {
          "model_module": "@jupyter-widgets/output",
          "model_name": "OutputModel",
          "model_module_version": "1.0.0",
          "state": {
            "_dom_classes": [],
            "_model_module": "@jupyter-widgets/output",
            "_model_module_version": "1.0.0",
            "_model_name": "OutputModel",
            "_view_count": null,
            "_view_module": "@jupyter-widgets/output",
            "_view_module_version": "1.0.0",
            "_view_name": "OutputView",
            "layout": "IPY_MODEL_3e8dcef6ea8a4ad4af433ee8a04dabe7",
            "msg_id": "",
            "outputs": [
              {
                "output_type": "display_data",
                "data": {
                  "text/plain": "\u001b[35m 100%\u001b[0m \u001b[38;2;249;38;114m━━━━━━━━━━━━━━━━━━━━━━━━━━━━━━━━━━━━━━━━━━━━━━━━━━━━━━━━━━━━━━━━━━\u001b[0m\u001b[38;2;249;38;114m╸\u001b[0m \u001b[32m999/1,000 \u001b[0m [ \u001b[33m0:05:04\u001b[0m < \u001b[36m0:00:01\u001b[0m , \u001b[31m4 it/s\u001b[0m ]\n",
                  "text/html": "<pre style=\"white-space:pre;overflow-x:auto;line-height:normal;font-family:Menlo,'DejaVu Sans Mono',consolas,'Courier New',monospace\"><span style=\"color: #800080; text-decoration-color: #800080\"> 100%</span> <span style=\"color: #f92672; text-decoration-color: #f92672\">━━━━━━━━━━━━━━━━━━━━━━━━━━━━━━━━━━━━━━━━━━━━━━━━━━━━━━━━━━━━━━━━━━╸</span> <span style=\"color: #008000; text-decoration-color: #008000\">999/1,000 </span> [ <span style=\"color: #808000; text-decoration-color: #808000\">0:05:04</span> &lt; <span style=\"color: #008080; text-decoration-color: #008080\">0:00:01</span> , <span style=\"color: #800000; text-decoration-color: #800000\">4 it/s</span> ]\n</pre>\n"
                },
                "metadata": {}
              }
            ]
          }
        },
        "3e8dcef6ea8a4ad4af433ee8a04dabe7": {
          "model_module": "@jupyter-widgets/base",
          "model_name": "LayoutModel",
          "model_module_version": "1.2.0",
          "state": {
            "_model_module": "@jupyter-widgets/base",
            "_model_module_version": "1.2.0",
            "_model_name": "LayoutModel",
            "_view_count": null,
            "_view_module": "@jupyter-widgets/base",
            "_view_module_version": "1.2.0",
            "_view_name": "LayoutView",
            "align_content": null,
            "align_items": null,
            "align_self": null,
            "border": null,
            "bottom": null,
            "display": null,
            "flex": null,
            "flex_flow": null,
            "grid_area": null,
            "grid_auto_columns": null,
            "grid_auto_flow": null,
            "grid_auto_rows": null,
            "grid_column": null,
            "grid_gap": null,
            "grid_row": null,
            "grid_template_areas": null,
            "grid_template_columns": null,
            "grid_template_rows": null,
            "height": null,
            "justify_content": null,
            "justify_items": null,
            "left": null,
            "margin": null,
            "max_height": null,
            "max_width": null,
            "min_height": null,
            "min_width": null,
            "object_fit": null,
            "object_position": null,
            "order": null,
            "overflow": null,
            "overflow_x": null,
            "overflow_y": null,
            "padding": null,
            "right": null,
            "top": null,
            "visibility": null,
            "width": null
          }
        }
      }
    }
  },
  "nbformat": 4,
  "nbformat_minor": 0
}