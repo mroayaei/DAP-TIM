{
  "cells": [
    {
      "cell_type": "code",
      "execution_count": null,
      "metadata": {
        "id": "pg4UFpSiFbqQ"
      },
      "outputs": [],
      "source": [
        "import json"
      ]
    },
    {
      "cell_type": "code",
      "execution_count": null,
      "metadata": {
        "id": "QVkCKukqQmuS"
      },
      "outputs": [],
      "source": [
        "netowrkName = \"pl-90k\""
      ]
    },
    {
      "cell_type": "code",
      "execution_count": null,
      "metadata": {
        "id": "Vrsc4LKDGm3r"
      },
      "outputs": [],
      "source": [
        "with open('/content/'+netowrkName+'_genres.json', 'r') as myfile:\n",
        "    data=myfile.read()\n",
        "obj = json.loads(data)"
      ]
    },
    {
      "cell_type": "code",
      "execution_count": null,
      "metadata": {
        "id": "QnRxAaC2JlVS"
      },
      "outputs": [],
      "source": [
        "topicsHits = {}\n",
        "noTopics = 0\n",
        "for key in obj.keys():\n",
        "  if(len(obj.get(key))==0):\n",
        "    noTopics += 1\n",
        "  for category in obj.get(key):\n",
        "    if(category in topicsHits.keys()):\n",
        "      topicsHits[category] += 1\n",
        "    else:\n",
        "      topicsHits[category] = 0\n",
        "      topicsHits[category] += 1"
      ]
    },
    {
      "cell_type": "markdown",
      "metadata": {
        "id": "yojJB6YXSf8v"
      },
      "source": [
        "#Deezer"
      ]
    },
    {
      "cell_type": "code",
      "execution_count": null,
      "metadata": {
        "colab": {
          "base_uri": "https://localhost:8080/"
        },
        "id": "CWYxmJKrSQoY",
        "outputId": "660f6052-3337-47ff-d1f9-5f8256490dc1"
      },
      "outputs": [
        {
          "name": "stdout",
          "output_type": "stream",
          "text": [
            "nodes: 54573\n",
            "topics: 84\n",
            "nodes with no topics: 0\n"
          ]
        }
      ],
      "source": [
        "print(\"nodes:\", len(obj))\n",
        "print(\"topics:\", len(topicsHits))\n",
        "print(\"nodes with no topics:\", noTopics)"
      ]
    },
    {
      "cell_type": "markdown",
      "metadata": {
        "id": "zxTXFpgG3F8z"
      },
      "source": []
    },
    {
      "cell_type": "markdown",
      "metadata": {
        "id": "lL_A2pIGaBrJ"
      },
      "source": [
        "topics"
      ]
    },
    {
      "cell_type": "code",
      "execution_count": null,
      "metadata": {
        "colab": {
          "base_uri": "https://localhost:8080/"
        },
        "id": "giLK_NZGMXuR",
        "outputId": "813677c7-c6f2-45b6-98b3-1497d89a7d21"
      },
      "outputs": [
        {
          "data": {
            "text/plain": [
              "{'Pop': 47303,\n",
              " 'Indie Rock': 12111,\n",
              " 'Indie Pop/Folk': 12030,\n",
              " 'International Pop': 13723,\n",
              " 'Rap/Hip Hop': 21142,\n",
              " 'Rock': 25998,\n",
              " 'Indie Pop': 8778,\n",
              " 'Alternative': 20707,\n",
              " 'Dance': 27101,\n",
              " 'Jazz': 2721,\n",
              " 'Techno/House': 10436,\n",
              " 'Electro': 19654,\n",
              " 'Singer & Songwriter': 10270,\n",
              " 'Films/Games': 9435,\n",
              " 'Contemporary R&B': 7192,\n",
              " 'R&B': 15164,\n",
              " 'Film Scores': 8926,\n",
              " 'Reggae': 3797,\n",
              " 'Folk': 9999,\n",
              " 'Disco': 3029,\n",
              " 'Metal': 5333,\n",
              " 'Vocal jazz': 374,\n",
              " 'Latin Music': 6906,\n",
              " 'Old school soul': 445,\n",
              " 'Dirty South': 531,\n",
              " 'Dancefloor': 4947,\n",
              " 'Hard Rock': 5031,\n",
              " 'Kids': 2123,\n",
              " 'Rock & Roll/Rockabilly': 2605,\n",
              " 'Blues': 2969,\n",
              " 'Comedy': 1200,\n",
              " 'Dubstep': 1399,\n",
              " 'Electro Pop/Electro Rock': 440,\n",
              " 'Jazz Hip Hop': 189,\n",
              " 'Soul & Funk': 1840,\n",
              " 'Classical': 1766,\n",
              " 'Country': 2682,\n",
              " 'Trance': 724,\n",
              " 'Indie Rock/Rock pop': 3260,\n",
              " 'East Coast': 1567,\n",
              " 'Soundtracks': 697,\n",
              " 'Chill Out/Trip-Hop/Lounge': 875,\n",
              " 'TV Soundtracks': 262,\n",
              " 'Contemporary Soul': 1397,\n",
              " 'Tropical': 34,\n",
              " 'Brazilian Music': 261,\n",
              " 'Dub': 227,\n",
              " 'Asian Music': 503,\n",
              " 'Electric Blues': 76,\n",
              " 'Dancehall/Ragga': 701,\n",
              " 'Electro Hip Hop': 86,\n",
              " 'Musicals': 361,\n",
              " 'Spirituality & Religion': 408,\n",
              " 'Opera': 130,\n",
              " 'Ska': 140,\n",
              " 'Bluegrass': 11,\n",
              " 'Sports': 148,\n",
              " 'Instrumental jazz': 389,\n",
              " 'West Coast': 107,\n",
              " 'Chicago Blues': 110,\n",
              " 'Oldschool R&B': 128,\n",
              " 'Country Blues': 15,\n",
              " 'African Music': 107,\n",
              " 'Acoustic Blues': 14,\n",
              " 'Alternative Country': 155,\n",
              " 'Game Scores': 61,\n",
              " 'Bolero': 113,\n",
              " 'Nursery Rhymes': 22,\n",
              " 'Baroque': 20,\n",
              " 'Urban Cowboy': 65,\n",
              " 'Grime': 54,\n",
              " 'Traditional Country': 2,\n",
              " 'Bollywood': 12,\n",
              " 'Ranchera': 8,\n",
              " 'Old School': 57,\n",
              " 'Indian Music': 21,\n",
              " 'Early Music': 5,\n",
              " 'Classical Period': 7,\n",
              " 'Delta Blues': 2,\n",
              " 'Modern': 17,\n",
              " 'TV shows & movies': 2,\n",
              " 'Classic Blues': 2,\n",
              " 'Romantic': 4,\n",
              " 'Kids & Family': 2}"
            ]
          },
          "execution_count": 6,
          "metadata": {},
          "output_type": "execute_result"
        }
      ],
      "source": [
        "  topicsHits"
      ]
    },
    {
      "cell_type": "code",
      "execution_count": null,
      "metadata": {
        "id": "w1s6RhT5KJD7"
      },
      "outputs": [],
      "source": [
        "import networkx as nx\n",
        "# G = nx.Graph()\n",
        "# G.add_node('2')"
      ]
    },
    {
      "cell_type": "code",
      "execution_count": null,
      "metadata": {
        "id": "--TCE1AkLBmh"
      },
      "outputs": [],
      "source": [
        "def readGraph(fileAddress):\n",
        "  G=nx.Graph()\n",
        "  with open(fileAddress) as f:\n",
        "    for line in f:\n",
        "        # print(line.strip())\n",
        "        lineInputs = line.strip().split()\n",
        "        # print(lineInputs)\n",
        "        # print(lineInputs.length)\n",
        "        # (a,b,t1,t2,t3,t4,t5) = (lineInputs[0],lineInputs[1],lineInputs[2],lineInputs[3],lineInputs[4],lineInputs[5],lineInputs[6])\n",
        "        # print(lineInputs[2],t1)\n",
        "        # if(G.has_node(a) and G.has_node(b)):\n",
        "        #   continue\n",
        "        # G.add_node(a)\n",
        "        # G.add_node(b)\n",
        "        G.add_edge(lineInputs[0],lineInputs[1])\n",
        "        # G.add_edges_from([  (a,b,{\"p1\":t1 , \"p2\":t2 , \"p3\":t3 , \"p4\":t4, \"p5\":t5})])\n",
        "  return G"
      ]
    },
    {
      "cell_type": "code",
      "execution_count": null,
      "metadata": {
        "id": "6ecKM1usKS7V"
      },
      "outputs": [],
      "source": [
        "graph = readGraph(\"/content/\"+netowrkName+\"_edges.txt\")\n",
        "# graph.remove_node('node_1')\n",
        "# graph.remove_node('node_2')"
      ]
    },
    {
      "cell_type": "code",
      "execution_count": null,
      "metadata": {
        "colab": {
          "base_uri": "https://localhost:8080/"
        },
        "id": "vm_SpNKeLhDH",
        "outputId": "3a09cbe1-228d-4176-cf83-49314a87c2f9"
      },
      "outputs": [
        {
          "name": "stdout",
          "output_type": "stream",
          "text": [
            "edges: 1079856\n",
            "nodes 90000\n"
          ]
        }
      ],
      "source": [
        "print(\"edges:\", graph.number_of_edges())\n",
        "print(\"nodes\", graph.number_of_nodes())"
      ]
    },
    {
      "cell_type": "code",
      "execution_count": null,
      "metadata": {
        "id": "7WIY6N_eJsqL"
      },
      "outputs": [],
      "source": [
        "with open('/content/'+netowrkName+'_genres.json', 'r') as myfile:\n",
        "    data=myfile.read()\n",
        "obj = json.loads(data)"
      ]
    },
    {
      "cell_type": "code",
      "execution_count": null,
      "metadata": {
        "colab": {
          "base_uri": "https://localhost:8080/"
        },
        "id": "qwOiIB_UN4n2",
        "outputId": "09e2d998-0710-46eb-e03a-635b34679a78"
      },
      "outputs": [
        {
          "name": "stdout",
          "output_type": "stream",
          "text": [
            "['Pop', 'Indie Rock', 'Indie Pop/Folk', 'International Pop', 'Rap/Hip Hop', 'Rock', 'Indie Pop', 'Alternative', 'Dance', 'Jazz', 'Techno/House', 'Electro', 'Singer & Songwriter', 'Films/Games', 'Contemporary R&B', 'R&B', 'Film Scores', 'Reggae', 'Folk', 'Disco', 'Metal', 'Vocal jazz', 'Latin Music', 'Old school soul', 'Dirty South', 'Dancefloor', 'Hard Rock', 'Kids', 'Rock & Roll/Rockabilly', 'Blues', 'Comedy', 'Dubstep', 'Electro Pop/Electro Rock', 'Jazz Hip Hop', 'Soul & Funk', 'Classical', 'Country', 'Trance', 'Indie Rock/Rock pop', 'East Coast', 'Soundtracks', 'Chill Out/Trip-Hop/Lounge', 'TV Soundtracks', 'Contemporary Soul', 'Tropical', 'Brazilian Music', 'Dub', 'Asian Music', 'Electric Blues', 'Dancehall/Ragga', 'Electro Hip Hop', 'Musicals', 'Spirituality & Religion', 'Opera', 'Ska', 'Bluegrass', 'Sports', 'Instrumental jazz', 'West Coast', 'Chicago Blues', 'Oldschool R&B', 'Country Blues', 'African Music', 'Acoustic Blues', 'Alternative Country', 'Game Scores', 'Bolero', 'Nursery Rhymes', 'Baroque', 'Urban Cowboy', 'Grime', 'Traditional Country', 'Bollywood', 'Ranchera', 'Old School', 'Indian Music', 'Early Music', 'Classical Period', 'Delta Blues', 'Modern', 'TV shows & movies', 'Classic Blues', 'Romantic', 'Kids & Family']\n",
            "3\n"
          ]
        }
      ],
      "source": [
        "topics = list(topicsHits.keys())\n",
        "print(topics)\n",
        "print(topics.index('International Pop'))"
      ]
    },
    {
      "cell_type": "code",
      "execution_count": null,
      "metadata": {
        "id": "Xl6H9bzFOcKi"
      },
      "outputs": [],
      "source": [
        "import numpy as np\n"
      ]
    },
    {
      "cell_type": "code",
      "execution_count": null,
      "metadata": {
        "id": "jClg1S569VWN"
      },
      "outputs": [],
      "source": [
        "topicsStash = {}\n"
      ]
    },
    {
      "cell_type": "code",
      "execution_count": null,
      "metadata": {
        "id": "7-vZ60Sj9lBf"
      },
      "outputs": [],
      "source": [
        "#edited\n",
        "for key in obj.keys():  #key is node name\n",
        "  topicPref = np.zeros(len(topics))\n",
        "  for category in obj.get(key):\n",
        "    topicPref[topics.index(category)] = 1\n",
        "  topicsStash[key] = topicPref"
      ]
    },
    {
      "cell_type": "code",
      "execution_count": null,
      "metadata": {
        "id": "t63oWTQ090ik"
      },
      "outputs": [],
      "source": [
        "#edited\n",
        "for node in graph.nodes:\n",
        "   graph.nodes[node][\"topicsVec\"] = topicsStash[str(int(node)%len(obj))]"
      ]
    },
    {
      "cell_type": "code",
      "execution_count": null,
      "metadata": {
        "id": "fP9aAnbaJkeO"
      },
      "outputs": [],
      "source": [
        "#normal\n",
        "for key in obj.keys():  #key is node name\n",
        "  topicPref = np.zeros(len(topics))\n",
        "  for category in obj.get(key):\n",
        "    topicPref[topics.index(category)] = 1\n",
        "  graph.nodes[key][\"topicsVec\"] = topicPref"
      ]
    },
    {
      "cell_type": "code",
      "execution_count": null,
      "metadata": {
        "colab": {
          "base_uri": "https://localhost:8080/"
        },
        "id": "3U8ADKwLSKCV",
        "outputId": "f4e065ee-5af4-4feb-af2e-eb892646d3fb"
      },
      "outputs": [
        {
          "name": "stdout",
          "output_type": "stream",
          "text": [
            "[1. 1. 0. 0. 0. 1. 1. 1. 1. 0. 0. 0. 1. 1. 0. 0. 1. 0. 0. 0. 0. 0. 1. 0.\n",
            " 0. 0. 0. 0. 0. 0. 0. 0. 0. 0. 0. 0. 1. 0. 0. 0. 0. 0. 0. 0. 0. 0. 0. 0.\n",
            " 0. 0. 0. 0. 0. 0. 0. 0. 0. 0. 0. 0. 0. 0. 0. 0. 0. 0. 0. 0. 0. 0. 0. 0.\n",
            " 0. 0. 0. 0. 0. 0. 0. 0. 0. 0. 0. 0.]\n",
            "[1. 0. 0. 1. 0. 0. 0. 0. 0. 1. 0. 0. 0. 0. 0. 0. 0. 0. 0. 0. 0. 0. 0. 0.\n",
            " 0. 0. 0. 0. 0. 0. 0. 0. 0. 0. 0. 1. 0. 0. 0. 0. 0. 0. 0. 0. 0. 0. 0. 0.\n",
            " 0. 0. 0. 0. 0. 0. 0. 0. 0. 0. 0. 0. 0. 0. 0. 0. 0. 0. 0. 0. 0. 0. 0. 0.\n",
            " 0. 0. 0. 0. 0. 0. 0. 0. 0. 0. 0. 0.]\n"
          ]
        }
      ],
      "source": [
        "print(graph.nodes['14'][\"topicsVec\"])\n",
        "print(graph.nodes['12'][\"topicsVec\"])"
      ]
    },
    {
      "cell_type": "code",
      "execution_count": null,
      "metadata": {
        "id": "k8dylUHlRLyL"
      },
      "outputs": [],
      "source": [
        "def likeNess(pref1, pref2):\n",
        "  totalTopics = 0\n",
        "  totalSamePref = 0\n",
        "  for i in range(len(topics)):\n",
        "   if(pref1[i] or pref2[i]):\n",
        "     totalTopics += 1\n",
        "     totalSamePref += pref1[i] == pref2[i]\n",
        "  return totalSamePref/totalTopics\n",
        "def infProb(node, musicPref, network):\n",
        "  userPref = network.nodes[node][\"topicsVec\"]\n",
        "  totalTopics = 0\n",
        "  total = 0\n",
        "  max=0\n",
        "  for i in range(len(topics)):\n",
        "   if(userPref[i]):\n",
        "     if(max<musicPref[i]):\n",
        "       max = musicPref[i]\n",
        "    #  totalTopics += 1\n",
        "    #  total += musicPref[i]\n",
        "  # return (total)/(totalTopics)\n",
        "  return max\n",
        "def nodeLikeness(node1, node2, network):\n",
        "  return likeNess(network.nodes[node1][\"topicsVec\"], network.nodes[node2][\"topicsVec\"])\n",
        "def edgeWeight(edge, network):\n",
        "  (a,b) = edge\n",
        "  return likeNess(network.nodes[a][\"topicsVec\"], network.nodes[b][\"topicsVec\"])"
      ]
    },
    {
      "cell_type": "code",
      "execution_count": null,
      "metadata": {
        "id": "ADwGrZxuc1LG"
      },
      "outputs": [],
      "source": [
        "def setProbs(graph, musicPrefs):\n",
        "  for node in graph.nodes:\n",
        "    graph.nodes[node][\"pInf\"] = infProb(node, musicPrefs ,graph)"
      ]
    },
    {
      "cell_type": "code",
      "execution_count": null,
      "metadata": {
        "colab": {
          "base_uri": "https://localhost:8080/"
        },
        "id": "Wr28vInVXqfe",
        "outputId": "5500eb02-607c-4eee-b739-cbc393defff8"
      },
      "outputs": [
        {
          "data": {
            "text/plain": [
              "0.8"
            ]
          },
          "execution_count": 20,
          "metadata": {},
          "output_type": "execute_result"
        }
      ],
      "source": [
        "musicPref = np.zeros(len(topics))\n",
        "musicPref[3] = 0.5\n",
        "musicPref[2] = 0.8\n",
        "infProb('10', musicPref, graph)"
      ]
    },
    {
      "cell_type": "code",
      "execution_count": null,
      "metadata": {
        "colab": {
          "base_uri": "https://localhost:8080/"
        },
        "id": "KsYPCE2jWkyx",
        "outputId": "db9e0fbd-1791-4b88-9a6d-bc2126a32604"
      },
      "outputs": [
        {
          "data": {
            "text/plain": [
              "{'topicsVec': array([1., 0., 0., 0., 1., 1., 0., 1., 1., 0., 1., 1., 0., 0., 1., 1., 0.,\n",
              "        0., 0., 1., 1., 0., 0., 0., 0., 1., 1., 1., 0., 0., 0., 0., 0., 0.,\n",
              "        0., 0., 0., 0., 0., 0., 0., 0., 0., 0., 0., 0., 0., 0., 0., 0., 0.,\n",
              "        0., 0., 0., 0., 0., 0., 0., 0., 0., 0., 0., 0., 0., 0., 0., 0., 0.,\n",
              "        0., 0., 0., 0., 0., 0., 0., 0., 0., 0., 0., 0., 0., 0., 0., 0.])}"
            ]
          },
          "execution_count": 21,
          "metadata": {},
          "output_type": "execute_result"
        }
      ],
      "source": [
        "graph.nodes['0']"
      ]
    },
    {
      "cell_type": "markdown",
      "metadata": {
        "id": "6KwBD3yXykHe"
      },
      "source": [
        "set edge weights (according to likeness of nodes)"
      ]
    },
    {
      "cell_type": "code",
      "execution_count": null,
      "metadata": {
        "id": "h33AsfY3Qqyg"
      },
      "outputs": [],
      "source": [
        "for edge in graph.edges():\n",
        "  nx.set_edge_attributes(graph, {edge: {\"weight\": edgeWeight(edge,graph)}})"
      ]
    },
    {
      "cell_type": "code",
      "execution_count": null,
      "metadata": {
        "id": "MV_Nx_yAYYx_"
      },
      "outputs": [],
      "source": [
        "# print(graph.edges('10'))\n",
        "# graph.edges['10', '54274'][\"weight\"]"
      ]
    },
    {
      "cell_type": "code",
      "execution_count": null,
      "metadata": {
        "id": "OJ093esKWi2t"
      },
      "outputs": [],
      "source": [
        "# for edge in graph.edges('11'):\n",
        "#   print(graph.edges[edge[0],edge[1]][\"weight\"])"
      ]
    },
    {
      "cell_type": "markdown",
      "metadata": {
        "id": "2swulUsCbGQ3"
      },
      "source": [
        "# influence maximization"
      ]
    },
    {
      "cell_type": "code",
      "execution_count": null,
      "metadata": {
        "id": "2KWWeF_0x4HI"
      },
      "outputs": [],
      "source": [
        "from termcolor import colored\n",
        "class bcolors:\n",
        "    HEADER = '\\033[95m'\n",
        "    OKBLUE = '\\033[94m'\n",
        "    OKCYAN = '\\033[96m'\n",
        "    OKGREEN = '\\033[92m'\n",
        "    WARNING = '\\033[93m'\n",
        "    FAIL = '\\033[91m'\n",
        "    ENDC = '\\033[0m'\n",
        "    BOLD = '\\033[1m'\n",
        "    UNDERLINE = '\\033[4m'"
      ]
    },
    {
      "cell_type": "markdown",
      "metadata": {
        "id": "eFHYEIZ6DxXv"
      },
      "source": [
        "## Imports"
      ]
    },
    {
      "cell_type": "code",
      "execution_count": null,
      "metadata": {
        "id": "QdOVrI-dCy6-"
      },
      "outputs": [],
      "source": [
        "import networkx as nx\n",
        "from matplotlib import pyplot as plt\n",
        "\n",
        "%matplotlib inline"
      ]
    },
    {
      "cell_type": "code",
      "execution_count": null,
      "metadata": {
        "id": "C44LURdgDm5F"
      },
      "outputs": [],
      "source": [
        "# # connecting to google drive\n",
        "# from google.colab import drive\n",
        "# drive.mount('/content/drive')"
      ]
    },
    {
      "cell_type": "code",
      "execution_count": null,
      "metadata": {
        "id": "3QE7ASQwDpPt"
      },
      "outputs": [],
      "source": [
        "# #check gdrive mount state\n",
        "# !ls \"/content/drive/MyDrive\""
      ]
    },
    {
      "cell_type": "code",
      "execution_count": null,
      "metadata": {
        "id": "t8pZXJHKyNne"
      },
      "outputs": [],
      "source": [
        "# pip install stable-baselines3 #Encountered error while generating package metadata."
      ]
    },
    {
      "cell_type": "code",
      "execution_count": null,
      "metadata": {
        "id": "0z_RFxmcITFy"
      },
      "outputs": [],
      "source": [
        "# pip install stable-baselines3[extra] #Encountered error while generating package metadata."
      ]
    },
    {
      "cell_type": "code",
      "execution_count": null,
      "metadata": {
        "id": "FzZmrufJyWk0"
      },
      "outputs": [],
      "source": [
        "# !pip install stable_baselines3 #Encountered error while generating package metadata."
      ]
    },
    {
      "cell_type": "code",
      "execution_count": null,
      "metadata": {
        "colab": {
          "base_uri": "https://localhost:8080/"
        },
        "id": "FcfEE1YRQo14",
        "outputId": "cc0830f8-644a-4228-cb4e-781e78691d5a"
      },
      "outputs": [
        {
          "name": "stdout",
          "output_type": "stream",
          "text": [
            "Collecting git+https://github.com/DLR-RM/stable-baselines3@feat/gymnasium-support\n",
            "  Cloning https://github.com/DLR-RM/stable-baselines3 (to revision feat/gymnasium-support) to /tmp/pip-req-build-igzyddue\n",
            "  Running command git clone --filter=blob:none --quiet https://github.com/DLR-RM/stable-baselines3 /tmp/pip-req-build-igzyddue\n",
            "\u001b[33m  WARNING: Did not find branch or tag 'feat/gymnasium-support', assuming revision or ref.\u001b[0m\u001b[33m\n",
            "\u001b[0m  Running command git checkout -q feat/gymnasium-support\n",
            "  error: pathspec 'feat/gymnasium-support' did not match any file(s) known to git\n",
            "  \u001b[1;31merror\u001b[0m: \u001b[1msubprocess-exited-with-error\u001b[0m\n",
            "  \n",
            "  \u001b[31m×\u001b[0m \u001b[32mgit checkout -q feat/gymnasium-support\u001b[0m did not run successfully.\n",
            "  \u001b[31m│\u001b[0m exit code: \u001b[1;36m1\u001b[0m\n",
            "  \u001b[31m╰─>\u001b[0m See above for output.\n",
            "  \n",
            "  \u001b[1;35mnote\u001b[0m: This error originates from a subprocess, and is likely not a problem with pip.\n",
            "\u001b[1;31merror\u001b[0m: \u001b[1msubprocess-exited-with-error\u001b[0m\n",
            "\n",
            "\u001b[31m×\u001b[0m \u001b[32mgit checkout -q feat/gymnasium-support\u001b[0m did not run successfully.\n",
            "\u001b[31m│\u001b[0m exit code: \u001b[1;36m1\u001b[0m\n",
            "\u001b[31m╰─>\u001b[0m See above for output.\n",
            "\n",
            "\u001b[1;35mnote\u001b[0m: This error originates from a subprocess, and is likely not a problem with pip.\n",
            "Collecting git+https://github.com/Stable-Baselines-Team/stable-baselines3-contrib@feat/gymnasium-support\n",
            "  Cloning https://github.com/Stable-Baselines-Team/stable-baselines3-contrib (to revision feat/gymnasium-support) to /tmp/pip-req-build-qc23j1i4\n",
            "  Running command git clone --filter=blob:none --quiet https://github.com/Stable-Baselines-Team/stable-baselines3-contrib /tmp/pip-req-build-qc23j1i4\n",
            "  Running command git checkout -b feat/gymnasium-support --track origin/feat/gymnasium-support\n",
            "  Switched to a new branch 'feat/gymnasium-support'\n",
            "  Branch 'feat/gymnasium-support' set up to track remote branch 'feat/gymnasium-support' from 'origin'.\n",
            "  Resolved https://github.com/Stable-Baselines-Team/stable-baselines3-contrib to commit d93ca7f1a734436cee59d642fa7d3eb8b4ed0253\n",
            "  Installing build dependencies ... \u001b[?25l\u001b[?25hdone\n",
            "  Getting requirements to build wheel ... \u001b[?25l\u001b[?25hdone\n",
            "  Preparing metadata (pyproject.toml) ... \u001b[?25l\u001b[?25hdone\n",
            "Collecting stable-baselines3>=2.0.0a4 (from sb3-contrib==2.0.0a4)\n",
            "  Downloading stable_baselines3-2.1.0-py3-none-any.whl (178 kB)\n",
            "\u001b[2K     \u001b[90m━━━━━━━━━━━━━━━━━━━━━━━━━━━━━━━━━━━━━━━\u001b[0m \u001b[32m178.7/178.7 kB\u001b[0m \u001b[31m2.4 MB/s\u001b[0m eta \u001b[36m0:00:00\u001b[0m\n",
            "\u001b[?25hCollecting gymnasium<0.30,>=0.28.1 (from stable-baselines3>=2.0.0a4->sb3-contrib==2.0.0a4)\n",
            "  Downloading gymnasium-0.29.1-py3-none-any.whl (953 kB)\n",
            "\u001b[2K     \u001b[90m━━━━━━━━━━━━━━━━━━━━━━━━━━━━━━━━━━━━━━\u001b[0m \u001b[32m953.9/953.9 kB\u001b[0m \u001b[31m10.4 MB/s\u001b[0m eta \u001b[36m0:00:00\u001b[0m\n",
            "\u001b[?25hRequirement already satisfied: numpy>=1.20 in /usr/local/lib/python3.10/dist-packages (from stable-baselines3>=2.0.0a4->sb3-contrib==2.0.0a4) (1.23.5)\n",
            "Requirement already satisfied: torch>=1.13 in /usr/local/lib/python3.10/dist-packages (from stable-baselines3>=2.0.0a4->sb3-contrib==2.0.0a4) (2.0.1+cu118)\n",
            "Requirement already satisfied: cloudpickle in /usr/local/lib/python3.10/dist-packages (from stable-baselines3>=2.0.0a4->sb3-contrib==2.0.0a4) (2.2.1)\n",
            "Requirement already satisfied: pandas in /usr/local/lib/python3.10/dist-packages (from stable-baselines3>=2.0.0a4->sb3-contrib==2.0.0a4) (1.5.3)\n",
            "Requirement already satisfied: matplotlib in /usr/local/lib/python3.10/dist-packages (from stable-baselines3>=2.0.0a4->sb3-contrib==2.0.0a4) (3.7.1)\n",
            "Requirement already satisfied: typing-extensions>=4.3.0 in /usr/local/lib/python3.10/dist-packages (from gymnasium<0.30,>=0.28.1->stable-baselines3>=2.0.0a4->sb3-contrib==2.0.0a4) (4.7.1)\n",
            "Collecting farama-notifications>=0.0.1 (from gymnasium<0.30,>=0.28.1->stable-baselines3>=2.0.0a4->sb3-contrib==2.0.0a4)\n",
            "  Downloading Farama_Notifications-0.0.4-py3-none-any.whl (2.5 kB)\n",
            "Requirement already satisfied: filelock in /usr/local/lib/python3.10/dist-packages (from torch>=1.13->stable-baselines3>=2.0.0a4->sb3-contrib==2.0.0a4) (3.12.2)\n",
            "Requirement already satisfied: sympy in /usr/local/lib/python3.10/dist-packages (from torch>=1.13->stable-baselines3>=2.0.0a4->sb3-contrib==2.0.0a4) (1.12)\n",
            "Requirement already satisfied: networkx in /usr/local/lib/python3.10/dist-packages (from torch>=1.13->stable-baselines3>=2.0.0a4->sb3-contrib==2.0.0a4) (3.1)\n",
            "Requirement already satisfied: jinja2 in /usr/local/lib/python3.10/dist-packages (from torch>=1.13->stable-baselines3>=2.0.0a4->sb3-contrib==2.0.0a4) (3.1.2)\n",
            "Requirement already satisfied: triton==2.0.0 in /usr/local/lib/python3.10/dist-packages (from torch>=1.13->stable-baselines3>=2.0.0a4->sb3-contrib==2.0.0a4) (2.0.0)\n",
            "Requirement already satisfied: cmake in /usr/local/lib/python3.10/dist-packages (from triton==2.0.0->torch>=1.13->stable-baselines3>=2.0.0a4->sb3-contrib==2.0.0a4) (3.27.2)\n",
            "Requirement already satisfied: lit in /usr/local/lib/python3.10/dist-packages (from triton==2.0.0->torch>=1.13->stable-baselines3>=2.0.0a4->sb3-contrib==2.0.0a4) (16.0.6)\n",
            "Requirement already satisfied: contourpy>=1.0.1 in /usr/local/lib/python3.10/dist-packages (from matplotlib->stable-baselines3>=2.0.0a4->sb3-contrib==2.0.0a4) (1.1.0)\n",
            "Requirement already satisfied: cycler>=0.10 in /usr/local/lib/python3.10/dist-packages (from matplotlib->stable-baselines3>=2.0.0a4->sb3-contrib==2.0.0a4) (0.11.0)\n",
            "Requirement already satisfied: fonttools>=4.22.0 in /usr/local/lib/python3.10/dist-packages (from matplotlib->stable-baselines3>=2.0.0a4->sb3-contrib==2.0.0a4) (4.42.1)\n",
            "Requirement already satisfied: kiwisolver>=1.0.1 in /usr/local/lib/python3.10/dist-packages (from matplotlib->stable-baselines3>=2.0.0a4->sb3-contrib==2.0.0a4) (1.4.4)\n",
            "Requirement already satisfied: packaging>=20.0 in /usr/local/lib/python3.10/dist-packages (from matplotlib->stable-baselines3>=2.0.0a4->sb3-contrib==2.0.0a4) (23.1)\n",
            "Requirement already satisfied: pillow>=6.2.0 in /usr/local/lib/python3.10/dist-packages (from matplotlib->stable-baselines3>=2.0.0a4->sb3-contrib==2.0.0a4) (9.4.0)\n",
            "Requirement already satisfied: pyparsing>=2.3.1 in /usr/local/lib/python3.10/dist-packages (from matplotlib->stable-baselines3>=2.0.0a4->sb3-contrib==2.0.0a4) (3.1.1)\n",
            "Requirement already satisfied: python-dateutil>=2.7 in /usr/local/lib/python3.10/dist-packages (from matplotlib->stable-baselines3>=2.0.0a4->sb3-contrib==2.0.0a4) (2.8.2)\n",
            "Requirement already satisfied: pytz>=2020.1 in /usr/local/lib/python3.10/dist-packages (from pandas->stable-baselines3>=2.0.0a4->sb3-contrib==2.0.0a4) (2023.3)\n",
            "Requirement already satisfied: six>=1.5 in /usr/local/lib/python3.10/dist-packages (from python-dateutil>=2.7->matplotlib->stable-baselines3>=2.0.0a4->sb3-contrib==2.0.0a4) (1.16.0)\n",
            "Requirement already satisfied: MarkupSafe>=2.0 in /usr/local/lib/python3.10/dist-packages (from jinja2->torch>=1.13->stable-baselines3>=2.0.0a4->sb3-contrib==2.0.0a4) (2.1.3)\n",
            "Requirement already satisfied: mpmath>=0.19 in /usr/local/lib/python3.10/dist-packages (from sympy->torch>=1.13->stable-baselines3>=2.0.0a4->sb3-contrib==2.0.0a4) (1.3.0)\n",
            "Building wheels for collected packages: sb3-contrib\n",
            "  Building wheel for sb3-contrib (pyproject.toml) ... \u001b[?25l\u001b[?25hdone\n",
            "  Created wheel for sb3-contrib: filename=sb3_contrib-2.0.0a4-py3-none-any.whl size=80145 sha256=a504fed5aadd0d42b5facc7e5fba2d4b04adb0ec35c01ed1f8dedf6642d63dce\n",
            "  Stored in directory: /tmp/pip-ephem-wheel-cache-zjarsexo/wheels/33/dc/48/f1ae1ed19b0e847f127ea69381540e2abd60990bfa3fa51d8e\n",
            "Successfully built sb3-contrib\n",
            "Installing collected packages: farama-notifications, gymnasium, stable-baselines3, sb3-contrib\n",
            "Successfully installed farama-notifications-0.0.4 gymnasium-0.29.1 sb3-contrib-2.0.0a4 stable-baselines3-2.1.0\n"
          ]
        }
      ],
      "source": [
        "!pip install git+https://github.com/DLR-RM/stable-baselines3@feat/gymnasium-support\n",
        "!pip install git+https://github.com/Stable-Baselines-Team/stable-baselines3-contrib@feat/gymnasium-support"
      ]
    },
    {
      "cell_type": "code",
      "execution_count": null,
      "metadata": {
        "colab": {
          "base_uri": "https://localhost:8080/"
        },
        "id": "57CZkHt2bfx1",
        "outputId": "e6ff6425-208c-4bb5-9f6e-eb39f41cd5ec"
      },
      "outputs": [
        {
          "name": "stderr",
          "output_type": "stream",
          "text": [
            "/usr/local/lib/python3.10/dist-packages/torch/utils/tensorboard/__init__.py:4: DeprecationWarning: distutils Version classes are deprecated. Use packaging.version instead.\n",
            "  if not hasattr(tensorboard, \"__version__\") or LooseVersion(\n"
          ]
        }
      ],
      "source": [
        "from stable_baselines3.common.env_checker import check_env"
      ]
    },
    {
      "cell_type": "markdown",
      "metadata": {
        "id": "p5hU77F2bm01"
      },
      "source": [
        "##Environment"
      ]
    },
    {
      "cell_type": "code",
      "execution_count": null,
      "metadata": {
        "id": "2Mt_h7ktbp3f"
      },
      "outputs": [],
      "source": [
        "import gym\n",
        "from gym import Env\n",
        "from gym.spaces import Discrete, Box\n",
        "import numpy as np\n",
        "import random\n",
        "import gym as gym\n",
        "import pickle      #to load dumped dictionaries"
      ]
    },
    {
      "cell_type": "markdown",
      "metadata": {
        "id": "kgwOmnlubxeH"
      },
      "source": [
        "network"
      ]
    },
    {
      "cell_type": "code",
      "execution_count": null,
      "metadata": {
        "id": "R5JcMnvN6jmo"
      },
      "outputs": [],
      "source": [
        "with open('/content/'+'pl-90k'+'_degreeCentralityData', 'rb') as fileHandle:\n",
        "   scoresDegree = pickle.load(fileHandle)"
      ]
    },
    {
      "cell_type": "code",
      "execution_count": null,
      "metadata": {
        "id": "zcBgYcBd7cdo"
      },
      "outputs": [],
      "source": [
        "scoresDegree"
      ]
    },
    {
      "cell_type": "code",
      "execution_count": null,
      "metadata": {
        "id": "CdvF3Nqk9BpA"
      },
      "outputs": [],
      "source": [
        "for i in range(20):\n",
        "  print(i,scoresDegree[str(i)])"
      ]
    },
    {
      "cell_type": "code",
      "execution_count": null,
      "metadata": {
        "id": "4PBBPHXz8ebs"
      },
      "outputs": [],
      "source": [
        "for node in scoresDegree:\n",
        "    scoresDegree[node[0]] = scoresDegree[node[0]]*infProb(node[0],musicPref, graph)\n",
        "    # print( scoresDegree)"
      ]
    },
    {
      "cell_type": "code",
      "execution_count": null,
      "metadata": {
        "id": "lkJEN2H39RKn"
      },
      "outputs": [],
      "source": [
        "for i in range(20):\n",
        "  print(i,scoresDegree[str(i)])"
      ]
    },
    {
      "cell_type": "code",
      "execution_count": null,
      "metadata": {
        "colab": {
          "base_uri": "https://localhost:8080/"
        },
        "id": "qpmixZsS-BOR",
        "outputId": "e5a5b302-177f-44e8-a101-657a7672b32f"
      },
      "outputs": [
        {
          "name": "stderr",
          "output_type": "stream",
          "text": [
            "/usr/local/lib/python3.10/dist-packages/ipykernel/ipkernel.py:283: DeprecationWarning: `should_run_async` will not call `transform_cell` automatically in the future. Please pass the result to `transformed_cell` argument and any exception that happen during thetransform in `preprocessing_exc_tuple` in IPython 7.17 and above.\n",
            "  and should_run_async(code)\n"
          ]
        }
      ],
      "source": [
        "def fixArr(arr):\n",
        "  res = {}\n",
        "  for key in arr.keys():\n",
        "    res[str(key)] = arr[key]\n",
        "  return res\n"
      ]
    },
    {
      "cell_type": "code",
      "execution_count": null,
      "metadata": {
        "id": "SZ79F-LCBJ18"
      },
      "outputs": [],
      "source": [
        "TIM = False"
      ]
    },
    {
      "cell_type": "code",
      "execution_count": null,
      "metadata": {
        "id": "BUKuORhUTxoC"
      },
      "outputs": [],
      "source": [
        "class CoreNetwork ():\n",
        "  def __init__(self,graph, ct1, ct2, ct3, ct4, solCount, musicPrefs):\n",
        "\n",
        "    self.musicPrefs = musicPrefs\n",
        "    self.solutionCount = solCount\n",
        "    self.influenceThreshold = 80\n",
        "    self.network = graph.copy()\n",
        "    self.setProbs()\n",
        "    # self.influencedNodes = []\n",
        "    # print(\"############>\",len(self.network.nodes['10']['topicsVec']))\n",
        "#     self.scoresDegree = nx.algorithms.degree_centrality(self.network)#sorted(env.network.degree, key=lambda x: x[1], reverse=False)\n",
        "    # print(self.scoresDegree)\n",
        "#     self.scoresCloseness = nx.algorithms.closeness_centrality(self.network)\n",
        "    # print(self.scoresCloseness)\n",
        "#     self.scoreBetweenness= nx.algorithms.betweenness_centrality(self.network)\n",
        "    # print(self.scoreBetweenness)\n",
        "#     self.scoreEigenvector= nx.algorithms.eigenvector_centrality(self.network,max_iter=1500)\n",
        "    # print(self.scoreEigenvector)\n",
        "    with open('/content/'+netowrkName+'_degreeCentralityData', 'rb') as fileHandle:\n",
        "        self.scoresDegree = fixArr(pickle.load(fileHandle))\n",
        "    with open('/content/'+netowrkName+'_scoresClosenessData', 'rb') as fileHandle:\n",
        "        self.scoresCloseness = fixArr(pickle.load(fileHandle))\n",
        "    with open('/content/'+netowrkName+'_scoreBetweennessData', 'rb') as fileHandle:\n",
        "        self.scoreBetweenness = fixArr(pickle.load(fileHandle))\n",
        "    with open('/content/'+netowrkName+'_scoreEigenvectorData', 'rb') as fileHandle:\n",
        "        self.scoreEigenvector = fixArr(pickle.load(fileHandle))\n",
        "\n",
        "    self.scoresDegree = self.injectPred(self.scoresDegree)\n",
        "    self.scoresCloseness = self.injectPred(self.scoresCloseness)\n",
        "    self.scoreBetweenness = self.injectPred(self.scoreBetweenness)\n",
        "    self.scoreEigenvector = self.injectPred(self.scoreEigenvector)\n",
        "\n",
        "\n",
        "    self.normalizeScoreVectors()\n",
        "\n",
        "    self.t1 = ct1\n",
        "    self.t2 = ct2\n",
        "    self.t3 = ct3\n",
        "    self.t4 = ct4\n",
        "    self.setWeghts(1,1,1,1)\n",
        "    self.infectedNodesList = []\n",
        "    self.dumpedNodesList = []\n",
        "    self.infectedNodes = self.IC()\n",
        "\n",
        "\n",
        "\n",
        "\n",
        "    self.wDegree = 1\n",
        "    self.wCloseness = 1\n",
        "    self.wBetweenness = 1\n",
        "    self.wEigenvector = 1\n",
        "  def injectPred(self, arr):\n",
        "    if not TIM:\n",
        "      return arr\n",
        "    for node in arr.keys():\n",
        "      arr[node] = arr[node]*infProb(node,self.musicPrefs, graph)\n",
        "    return arr\n",
        "  def normalizeArr(self, arr, t_min, t_max):\n",
        "    maxItem = sorted(arr.items(), key=lambda x: x[1], reverse=True)[0]\n",
        "    # arr = [int(value) for value in sarr]\n",
        "    # norm_arr = [] 40\n",
        "    # print(maxItem)\n",
        "    diff = t_max - t_min\n",
        "    diff_arr = maxItem[1] - 0\n",
        "    for nodeName in self.network.nodes:\n",
        "        temp = (((arr[nodeName])*diff)/diff_arr) + t_min\n",
        "        # norm_arr.append(temp)\n",
        "        arr[nodeName] = temp\n",
        "    # string_arr = [str(number) for number in norm_arr]\n",
        "    return arr#norm_arr\n",
        "  def normalizeScoreVectors(self):\n",
        "    self.scoresDegree = self.normalizeArr(self.scoresDegree,0,2)\n",
        "    self.scoresCloseness = self.normalizeArr(self.scoresCloseness,0,2)\n",
        "    self.scoreBetweenness = self.normalizeArr(self.scoreBetweenness,0,2)\n",
        "    self.scoreEigenvector = self.normalizeArr(self.scoreEigenvector,0,2)\n",
        "    # print(\"Normalized scores\")\n",
        "    # print(self.scoresDegree)\n",
        "    # print(self.scoresCloseness)\n",
        "    # print(self.scoreBetweenness)\n",
        "    # print(self.scoreEigenvector)\n",
        "  def getWeights(self):\n",
        "    return [self.wDegree , self.wCloseness, self.wBetweenness, self.wEigenvector]\n",
        "  def modifyWeghts(self, wd, wc, wb, we):\n",
        "    self.wDegree += wd\n",
        "    self.wCloseness += wc\n",
        "    self.wBetweenness += wb\n",
        "    self.wEigenvector += we\n",
        "\n",
        "    self.wDegree = max(self.wDegree ,0)\n",
        "    self.wCloseness = max(self.wCloseness ,0)\n",
        "    self.wBetweenness = max(self.wBetweenness ,0)\n",
        "    self.wEigenvector = max(self.wEigenvector ,0)\n",
        "\n",
        "    self.wDegree = min(self.wDegree ,99)\n",
        "    self.wCloseness = min(self.wCloseness ,99)\n",
        "    self.wBetweenness = min(self.wBetweenness ,99)\n",
        "    self.wEigenvector = min(self.wEigenvector ,99)\n",
        "    mergedScores={nodeName:self.wDegree*self.scoresDegree[nodeName] + self.wCloseness*self.scoresCloseness[nodeName] + self.wBetweenness*self.scoreBetweenness[nodeName] + self.wEigenvector*self.scoreEigenvector[nodeName]  for nodeName in self.network.nodes}\n",
        "    self.sortedNodesList = sorted(mergedScores.items(), key = lambda item:item[1],reverse=True)\n",
        "  def setWeghts(self, wd, wc, wb, we):\n",
        "    self.wDegree = wd\n",
        "    self.wCloseness = wc\n",
        "    self.wBetweenness = wb\n",
        "    self.wEigenvector = we\n",
        "    mergedScores={nodeName:self.wDegree*self.scoresDegree[nodeName] + self.wCloseness*self.scoresCloseness[nodeName] + self.wBetweenness*self.scoreBetweenness[nodeName] + self.wEigenvector*self.scoreEigenvector[nodeName]  for nodeName in self.network.nodes}\n",
        "    self.sortedNodesList = sorted(mergedScores.items(), key = lambda item:item[1],reverse=True)\n",
        "  def reset(self):\n",
        "    self.setWeghts(1,1,1,1)\n",
        "    self.infectedNodesList = []\n",
        "    self.dumpedNodesList = []\n",
        "    self.infectedNodes = self.IC()\n",
        "\n",
        "  # def readGraph(self, fileAddress):\n",
        "  #   G=nx.Graph()\n",
        "  #   with open(fileAddress) as f:\n",
        "  #     for line in f:\n",
        "  #         # print(line.strip())\n",
        "  #         lineInputs = line.strip().split()\n",
        "  #         # print(lineInputs)\n",
        "  #         # print(lineInputs.length)\n",
        "  #         (a,b,t1,t2,t3,t4,t5) = (lineInputs[0],lineInputs[1],lineInputs[2],lineInputs[3],lineInputs[4],lineInputs[5],lineInputs[6])\n",
        "  #         # print(lineInputs[2],t1)\n",
        "  #         if(G.has_node(a) and G.has_node(b)):\n",
        "  #           continue\n",
        "  #         G.add_node(a)\n",
        "  #         G.add_node(b)\n",
        "  #         G.add_edges_from([  (a,b,{\"p1\":t1 , \"p2\":t2 , \"p3\":t3 , \"p4\":t4, \"p5\":t5})])\n",
        "\n",
        "  #   return G\n",
        "  def propagate(self, new_active):\n",
        "      targets = []\n",
        "      for node in new_active:\n",
        "          targets += self.network.neighbors(node)\n",
        "\n",
        "      return(list(set(targets)))\n",
        "  def setProbs(self):\n",
        "    for node in self.network.nodes:\n",
        "      self.network.nodes[node][\"pInf\"] = infProb(node, self.musicPrefs ,self.network)\n",
        "  def IC(self,mc=1,randomSelection = False):\n",
        "      it = self.influenceThreshold\n",
        "      solutionCount = self.solutionCount\n",
        "      \"\"\"\n",
        "      Inputs:\n",
        "                  - Networkx object\n",
        "                  - E x 2 Pandas dataframe of directed edges. Columns: ['source','target']\n",
        "                  - dictionary with key=source node & values=out-neighbors\n",
        "              S:  List of seed nodes\n",
        "              mc: Number of Monte-Carlo simulations,\n",
        "      Output: Average number of nodes influenced by seed nodes in S\n",
        "      \"\"\"\n",
        "\n",
        "      # Loop over the Monte-Carlo Simulations\n",
        "      spread = []\n",
        "\n",
        "      # Simulate propagation process\n",
        "      new_active, A = self.getTopNodes(solutionCount),[]#S[:], S[:]\n",
        "      # new_active, A = self.getTopNodes(1),self.infectedNodesList#S[:], S[:] #choose one new node\n",
        "      self.infectedNodesList = list(set( self.infectedNodesList + new_active))\n",
        "      if randomSelection:\n",
        "        new_active = random.sample(self.network.nodes, 3)\n",
        "      # new_active=S\n",
        "      # A=S\n",
        "      while new_active:\n",
        "\n",
        "          # 1. Find out-neighbors for each newly active node\n",
        "          targets = self.propagate(new_active)\n",
        "\n",
        "          # 2. Determine newly activated neighbors\n",
        "          new_ones = list()\n",
        "          for influencer in new_active:\n",
        "            neighbors =  self.network.neighbors(influencer)\n",
        "            # print(list(neighbors))\n",
        "            for neighbor in list(neighbors):\n",
        "              topicPs = self.network.get_edge_data(influencer,neighbor)\n",
        "              ### the method below is ok for base=line solution reconstruciton\n",
        "              # influenceSuccessT5 = np.random.uniform(0,10000) < (int(self.network[influencer][neighbor][\"p5\"])*self.t5)\n",
        "              # (100-it)\n",
        "              influenceSuccess = np.random.uniform(0,100) < 0.25*100*(self.network[influencer][neighbor][\"weight\"]*self.network.nodes[str(influencer)][\"pInf\"])#infProb(str(influencer), self.musicPrefs, self.network))\n",
        "              # print(influenceSuccess)\n",
        "              # print(100*(self.network[influencer][neighbor][\"weight\"]*infProb(str(influencer), self.musicPrefs, self.network)))\n",
        "              if(influenceSuccess):\n",
        "                new_ones.append(neighbor)\n",
        "\n",
        "          # 3. Find newly activated nodes and add to the set of activated nodes\n",
        "\n",
        "          new_active = list(set(new_ones) - set(A))\n",
        "          A = list(set(A + new_ones))\n",
        "          # self.dumpedNodesList = list(set( self.dumpedNodesList + self.propagate(new_ones)))\n",
        "\n",
        "      spread.append(len(A))\n",
        "      # self.infectedNodesList = list(set( self.infectedNodesList + A))\n",
        "      # self.dumpedNodesList = list(set(self.dumpedNodesList + self.infectedNodesList))\n",
        "      # print(self.infectedNodesList)\n",
        "      # print(new_ones)\n",
        "      return np.mean(spread)\n",
        "      # return(np.mean(spread),A)\n",
        "\n",
        "  def getTopNodes(self, count):\n",
        "    #combine all 4 scores for each node\n",
        "    # print(self.sortedNodesList)\n",
        "    #sort the nodes with newly calculated scores\n",
        "    result = []\n",
        "    i = 0\n",
        "    for (node,score) in self.sortedNodesList:\n",
        "      if(i>=count):\n",
        "        break\n",
        "      if(node not in self.dumpedNodesList):\n",
        "        result.append(node)\n",
        "        i += 1\n",
        "    # print(self.sortedNodesList)\n",
        "    # print(result)\n",
        "    if(len(result)==0):\n",
        "      print(\"bad top node\", count)\n",
        "    return result\n",
        "  def spreadInfluence(self):\n",
        "    previousInfection = len(self.infectedNodesList)\n",
        "    self.IC()\n",
        "    # self.infectedNodes = self.IC()\n",
        "    return len(self.infectedNodesList) - previousInfection   #amount of increase in infected nodes\n",
        "  def resetWeights(self):\n",
        "    self.setWeghts(1,1,1,1)\n"
      ]
    },
    {
      "cell_type": "code",
      "execution_count": null,
      "metadata": {
        "id": "IZTglMz5cAM3"
      },
      "outputs": [],
      "source": [
        "musicPref = np.zeros(len(topics))\n",
        "musicPref[3] = 0.5\n",
        "musicPref[2] = 0.8\n",
        "# musicPref[5] = 0.2\n",
        "# musicPref[7] = 0.5"
      ]
    },
    {
      "cell_type": "code",
      "execution_count": null,
      "metadata": {
        "id": "RSPuaxsR-f8m"
      },
      "outputs": [],
      "source": [
        "coreNetwork = CoreNetwork(graph, 50,50,50,0, 50,musicPref)"
      ]
    },
    {
      "cell_type": "markdown",
      "metadata": {
        "id": "hry4-kw9cI79"
      },
      "source": [
        "envClass"
      ]
    },
    {
      "cell_type": "code",
      "execution_count": null,
      "metadata": {
        "id": "Os7l5SQPlBz_"
      },
      "outputs": [],
      "source": [
        "import numpy as np\n",
        "import gym\n",
        "from gym import spaces\n",
        "\n",
        "class EnvClass(gym.Env):\n",
        "    \"\"\"Custom Environment that follows gym interface\"\"\"\n",
        "    metadata = {'render.modes': ['human']}\n",
        "\n",
        "    def __init__(self, graph, tw1, tw2, tw3, tw4, type, count, musicPref):\n",
        "        # super(CustomEnv, self).__init__()\n",
        "        self.stepSizeBase = 12\n",
        "        self.baseCount = count\n",
        "        self.itterations = 100\n",
        "        self.coreNetwork = CoreNetwork(graph, tw1, tw2, tw3, tw4, count, musicPref)\n",
        "        self.baseScore = self.coreNetwork.IC()\n",
        "        self.currentScore = 0\n",
        "        self.bestScore = 0\n",
        "        self.bestSol = self.getSolution()\n",
        "        # self.setTopicWeights(tw1, tw2, tw3, tw4)\n",
        "        self.setWeghts(25,25,25,25)\n",
        "        self.bestReward=0\n",
        "        self.itCountWithNoSigReward = 0\n",
        "        self.lastItReward = 0\n",
        "\n",
        "        self.count = self.itterations\n",
        "        # Define action and observation space\n",
        "        # They must be gym.spaces objects\n",
        "        # Example when using discrete actions:\n",
        "        # self.n_actions = (5, 5, 5, 5)\n",
        "        self.n_actions = (100, 100, 100, 100)\n",
        "        # 0 -> -10\n",
        "        # 1 -> -5\n",
        "        # 2 -> 0\n",
        "        # 3 -> +5\n",
        "        # 4 -> + 10\n",
        "        # if(type == \"single\"):\n",
        "        self.action_space =  gym.spaces.MultiDiscrete([ 4, 5 ])\n",
        "        # else:\n",
        "        # self.action_space =  gym.spaces.MultiDiscrete([ 5, 5, 5, 5 ])\n",
        "        print(colored(\"action space:\",\"yellow\"), colored(self.action_space,\"yellow\"))\n",
        "        # self.action_space = spaces.Discrete(1)#N_DISCRETE_ACTIONS\n",
        "        # Example for using image as input (channel-first; channel-last also works):\n",
        "        self.observation_space = gym.spaces.MultiDiscrete(self.n_actions)#spaces.Box(low=0, high=10, shape=(1,), dtype=np.float32)#N_CHANNELS, HEIGHT, WIDTH\n",
        "\n",
        "    def step(self, action):\n",
        "      ### method 1 ([4,5])\n",
        "        # self.stepSizeBase = 12\n",
        "        delta = (action[1] - 2)*self.stepSizeBase/2\n",
        "        if(action[0] == 0):\n",
        "          self.coreNetwork.modifyWeghts(delta, -delta/3, -delta/3, -delta/3)\n",
        "        if(action[0] == 1):\n",
        "          self.coreNetwork.modifyWeghts(-delta/3, delta, -delta/3, -delta/3)\n",
        "        if(action[0] == 2):\n",
        "          self.coreNetwork.modifyWeghts(-delta/3, -delta/3, delta, -delta/3)\n",
        "        if(action[0] == 3):\n",
        "          self.coreNetwork.modifyWeghts(-delta/3, -delta/3, -delta/3, delta)\n",
        "\n",
        "        ### method 2 ([5,5,5,5])\n",
        "        # m1 = action[0]\n",
        "        # m2 = action[1]\n",
        "        # m3 = action[2]\n",
        "        # m4 = action[3]\n",
        "        # self.coreNetwork.modifyWeghts(m1*5 - 10, m2*5 - 10, m3*5 - 10, m4*5 -10)\n",
        "\n",
        "  ##################################\n",
        "        observation = self.getCurrentObs()\n",
        "\n",
        "        reward = self.coreNetwork.spreadInfluence()\n",
        "        self.currentScore += reward\n",
        "        if(self.currentScore > self.bestScore):\n",
        "          self.bestSol = self.getSolution()\n",
        "          self.bestScore = self.currentScore\n",
        "        self.bestReward = max(reward,self.bestReward)\n",
        "        self.count -=1\n",
        "        done = self.count < 0\n",
        "\n",
        "\n",
        "        if(abs(reward - self.lastItReward) < 30):\n",
        "          self.itCountWithNoSigReward += 1\n",
        "          if(self.itCountWithNoSigReward > 10):\n",
        "            done = True\n",
        "        else:\n",
        "          self.itCountWithNoSigReward = 0\n",
        "        info = {}\n",
        "        return observation, reward, done, info\n",
        "    def getCurrentObs(self):\n",
        "        return np.array(self.coreNetwork.getWeights())\n",
        "    def reset(self):\n",
        "        self.count = self.itterations\n",
        "        self.coreNetwork.reset()\n",
        "        self.setWeghts(25,25,25,25)\n",
        "        self.bestReward = 0\n",
        "        self.bestScore = 0\n",
        "        self.currentScore = 0\n",
        "        self.itCountWithNoSigReward = 0\n",
        "        self.lastItReward = 0\n",
        "        observation =  self.getCurrentObs()#spaces.MultiDiscrete.sample(self.observation_space)#np.array([8]).astype(np.float32)\n",
        "        # ...\n",
        "        return observation  # reward, done, info can't be included\n",
        "    def render(self, mode='human'):\n",
        "        print(self.getCurrentObs(), self.bestReward)\n",
        "        pass\n",
        "    def close (self):\n",
        "        # ...\n",
        "        pass\n",
        "    def getSolution(self):\n",
        "      return self.coreNetwork.getTopNodes(self.baseCount)\n",
        "    def getBestInfluence(self):\n",
        "      return self.baseScore + self.bestScore\n",
        "    def getAnswer(self):\n",
        "      return self.bestSol\n",
        "    def setWeghts(self, wd, wc, wb, we):\n",
        "      self.currentWeghts = [wd,wc,wb,we]\n",
        "      self.coreNetwork.setWeghts(wd,wc,wb,we)\n",
        "      # self.wDegree = wd\n",
        "      # self.wCloseness = wc\n",
        "      # self.wBetweenness = wb\n",
        "      # self.wEigenvector = we\n",
        "    def setTopicWeights(self, tw1, tw2, tw3, tw4):\n",
        "      pass\n",
        "      # self.tw1 = tw1\n",
        "      # self.tw2 = tw2\n",
        "      # self.tw3 = tw3\n",
        "      # self.tw4 = tw4"
      ]
    },
    {
      "cell_type": "code",
      "execution_count": null,
      "metadata": {
        "id": "J6MvbTumtLKl"
      },
      "outputs": [],
      "source": [
        "# musicPref = np.zeros(len(topics))\n",
        "# musicPref[3] = 0.5\n",
        "# musicPref[2] = 0.8\n",
        "\n"
      ]
    },
    {
      "cell_type": "code",
      "execution_count": null,
      "metadata": {
        "colab": {
          "base_uri": "https://localhost:8080/"
        },
        "id": "CmEu_OKAR6zN",
        "outputId": "3ca89709-25c9-4bcd-9c34-92b179e88b50"
      },
      "outputs": [
        {
          "name": "stdout",
          "output_type": "stream",
          "text": [
            "Collecting shimmy>=0.2.1\n",
            "  Downloading Shimmy-1.2.1-py3-none-any.whl (37 kB)\n",
            "Requirement already satisfied: numpy>=1.18.0 in /usr/local/lib/python3.10/dist-packages (from shimmy>=0.2.1) (1.23.5)\n",
            "Requirement already satisfied: gymnasium>=0.27.0 in /usr/local/lib/python3.10/dist-packages (from shimmy>=0.2.1) (0.29.1)\n",
            "Requirement already satisfied: cloudpickle>=1.2.0 in /usr/local/lib/python3.10/dist-packages (from gymnasium>=0.27.0->shimmy>=0.2.1) (2.2.1)\n",
            "Requirement already satisfied: typing-extensions>=4.3.0 in /usr/local/lib/python3.10/dist-packages (from gymnasium>=0.27.0->shimmy>=0.2.1) (4.7.1)\n",
            "Requirement already satisfied: farama-notifications>=0.0.1 in /usr/local/lib/python3.10/dist-packages (from gymnasium>=0.27.0->shimmy>=0.2.1) (0.0.4)\n",
            "Installing collected packages: shimmy\n",
            "Successfully installed shimmy-1.2.1\n"
          ]
        }
      ],
      "source": [
        "!pip install 'shimmy>=0.2.1'"
      ]
    },
    {
      "cell_type": "code",
      "execution_count": null,
      "metadata": {
        "colab": {
          "background_save": true
        },
        "id": "A9xtb4akzUnq"
      },
      "outputs": [],
      "source": [
        "# !pip install git+https://github.com/carlosluis/stable-baselines3@fix_tests"
      ]
    },
    {
      "cell_type": "code",
      "execution_count": null,
      "metadata": {
        "id": "jIc45EBq4k52"
      },
      "outputs": [],
      "source": [
        "solCount = 20"
      ]
    },
    {
      "cell_type": "code",
      "execution_count": null,
      "metadata": {
        "colab": {
          "base_uri": "https://localhost:8080/"
        },
        "id": "na2DANPhcPHe",
        "outputId": "e36546ec-44b3-441b-995d-679be0d1ec9f"
      },
      "outputs": [
        {
          "name": "stdout",
          "output_type": "stream",
          "text": [
            "action space: MultiDiscrete([4 5])\n"
          ]
        }
      ],
      "source": [
        "env = EnvClass(graph,25,25,25,25,\"single\", 10, musicPref)"
      ]
    },
    {
      "cell_type": "code",
      "execution_count": null,
      "metadata": {
        "colab": {
          "base_uri": "https://localhost:8080/"
        },
        "id": "Pxhu0pNdDWVi",
        "outputId": "22d08f9b-3401-4b06-9159-762fc9897b94"
      },
      "outputs": [
        {
          "name": "stderr",
          "output_type": "stream",
          "text": [
            "/usr/local/lib/python3.10/dist-packages/ipykernel/ipkernel.py:283: DeprecationWarning: `should_run_async` will not call `transform_cell` automatically in the future. Please pass the result to `transformed_cell` argument and any exception that happen during thetransform in `preprocessing_exc_tuple` in IPython 7.17 and above.\n",
            "  and should_run_async(code)\n"
          ]
        },
        {
          "name": "stdout",
          "output_type": "stream",
          "text": [
            "action space: MultiDiscrete([4 5])\n"
          ]
        }
      ],
      "source": [
        "env = EnvClass(graph,25,25,25,25,\"single\", solCount, musicPref)"
      ]
    },
    {
      "cell_type": "code",
      "execution_count": null,
      "metadata": {
        "colab": {
          "background_save": true
        },
        "id": "8DICLSJAa_tY",
        "outputId": "01c767b1-b29c-46fa-d7b8-debc0cb35908"
      },
      "outputs": [
        {
          "ename": "AssertionError",
          "evalue": "ignored",
          "output_type": "error",
          "traceback": [
            "\u001b[0;31m---------------------------------------------------------------------------\u001b[0m",
            "\u001b[0;31mAssertionError\u001b[0m                            Traceback (most recent call last)",
            "\u001b[0;32m<ipython-input-40-0f6792f977ee>\u001b[0m in \u001b[0;36m<cell line: 1>\u001b[0;34m()\u001b[0m\n\u001b[0;32m----> 1\u001b[0;31m \u001b[0mcheck_env\u001b[0m\u001b[0;34m(\u001b[0m\u001b[0menv\u001b[0m\u001b[0;34m)\u001b[0m\u001b[0;34m\u001b[0m\u001b[0;34m\u001b[0m\u001b[0m\n\u001b[0m",
            "\u001b[0;32m/usr/local/lib/python3.10/dist-packages/stable_baselines3/common/env_checker.py\u001b[0m in \u001b[0;36mcheck_env\u001b[0;34m(env, warn, skip_render_check)\u001b[0m\n\u001b[1;32m    388\u001b[0m         \u001b[0;32mTrue\u001b[0m \u001b[0mby\u001b[0m \u001b[0mdefault\u001b[0m \u001b[0;34m(\u001b[0m\u001b[0museful\u001b[0m \u001b[0;32mfor\u001b[0m \u001b[0mthe\u001b[0m \u001b[0mCI\u001b[0m\u001b[0;34m)\u001b[0m\u001b[0;34m\u001b[0m\u001b[0;34m\u001b[0m\u001b[0m\n\u001b[1;32m    389\u001b[0m     \"\"\"\n\u001b[0;32m--> 390\u001b[0;31m     assert isinstance(\n\u001b[0m\u001b[1;32m    391\u001b[0m         \u001b[0menv\u001b[0m\u001b[0;34m,\u001b[0m \u001b[0mgym\u001b[0m\u001b[0;34m.\u001b[0m\u001b[0mEnv\u001b[0m\u001b[0;34m\u001b[0m\u001b[0;34m\u001b[0m\u001b[0m\n\u001b[1;32m    392\u001b[0m     ), \"Your environment must inherit from the gym.Env class cf https://github.com/openai/gym/blob/master/gym/core.py\"\n",
            "\u001b[0;31mAssertionError\u001b[0m: Your environment must inherit from the gym.Env class cf https://github.com/openai/gym/blob/master/gym/core.py"
          ]
        }
      ],
      "source": [
        "check_env(env)"
      ]
    },
    {
      "cell_type": "code",
      "execution_count": null,
      "metadata": {
        "id": "3kWphw-OPNRJ"
      },
      "outputs": [],
      "source": [
        "# 5, 10, 15, 20, 25, 30, 40, 50, 100\n",
        "solcount = 20"
      ]
    },
    {
      "cell_type": "code",
      "execution_count": null,
      "metadata": {
        "colab": {
          "base_uri": "https://localhost:8080/"
        },
        "id": "if8FW9RZCyor",
        "outputId": "ab737a68-663d-422a-dada-68c1cacc26d6"
      },
      "outputs": [
        {
          "output_type": "stream",
          "name": "stdout",
          "text": [
            "action space: MultiDiscrete([4 5])\n"
          ]
        }
      ],
      "source": [
        "musicPref = np.zeros(len(topics))\n",
        "musicPref[3] = 0.5\n",
        "musicPref[2] = 0.8\n",
        "musicPref[4] = 0.8\n",
        "musicPref[5] = 0.8\n",
        "musicPref[6] = 0.8\n",
        "env = EnvClass(graph,25,25,25,25,\"single\", solcount, musicPref)"
      ]
    },
    {
      "cell_type": "code",
      "execution_count": null,
      "metadata": {
        "colab": {
          "base_uri": "https://localhost:8080/"
        },
        "id": "y7dLuoZJPLI1",
        "outputId": "11c2034f-a228-4725-c4c7-3629f2ee35fd"
      },
      "outputs": [
        {
          "output_type": "stream",
          "name": "stdout",
          "text": [
            "action space: MultiDiscrete([4 5])\n"
          ]
        }
      ],
      "source": [
        "musicPref = np.zeros(len(topics))\n",
        "musicPref[3] = 0.5\n",
        "musicPref[2] = 0.8\n",
        "env = EnvClass(graph,25,25,25,25,\"single\", solcount, musicPref)"
      ]
    },
    {
      "cell_type": "code",
      "execution_count": null,
      "metadata": {
        "colab": {
          "base_uri": "https://localhost:8080/",
          "height": 98
        },
        "id": "-e_cKWM2fg4x",
        "outputId": "26af56ec-a09c-4a97-e427-23748d7d9570"
      },
      "outputs": [
        {
          "data": {
            "text/html": [
              "<pre style=\"white-space:pre;overflow-x:auto;line-height:normal;font-family:Menlo,'DejaVu Sans Mono',consolas,'Courier New',monospace\">/usr/local/lib/python3.10/dist-packages/ipykernel/ipkernel.py:283: DeprecationWarning: `should_run_async` will not \n",
              "call `transform_cell` automatically in the future. Please pass the result to `transformed_cell` argument and any \n",
              "exception that happen during thetransform in `preprocessing_exc_tuple` in IPython 7.17 and above.\n",
              "  and should_run_async(code)\n",
              "</pre>\n"
            ],
            "text/plain": [
              "/usr/local/lib/python3.10/dist-packages/ipykernel/ipkernel.py:283: DeprecationWarning: `should_run_async` will not \n",
              "call `transform_cell` automatically in the future. Please pass the result to `transformed_cell` argument and any \n",
              "exception that happen during thetransform in `preprocessing_exc_tuple` in IPython 7.17 and above.\n",
              "  and should_run_async(code)\n"
            ]
          },
          "metadata": {},
          "output_type": "display_data"
        },
        {
          "data": {
            "text/html": [
              "<pre style=\"white-space:pre;overflow-x:auto;line-height:normal;font-family:Menlo,'DejaVu Sans Mono',consolas,'Courier New',monospace\">4\n",
              "</pre>\n"
            ],
            "text/plain": [
              "4\n"
            ]
          },
          "metadata": {},
          "output_type": "display_data"
        }
      ],
      "source": []
    },
    {
      "cell_type": "code",
      "execution_count": null,
      "metadata": {
        "id": "A4pSsu_TcSPg",
        "colab": {
          "base_uri": "https://localhost:8080/"
        },
        "outputId": "6f88f923-b191-407b-abda-6150c635705a"
      },
      "outputs": [
        {
          "output_type": "stream",
          "name": "stderr",
          "text": [
            "/usr/local/lib/python3.10/dist-packages/stable_baselines3/common/vec_env/patch_gym.py:49: UserWarning: You provided an OpenAI Gym environment. We strongly recommend transitioning to Gymnasium environments. Stable-Baselines3 is automatically wrapping your environments in a compatibility layer, which could potentially cause issues.\n",
            "  warnings.warn(\n"
          ]
        }
      ],
      "source": [
        "from stable_baselines3 import A2C\n",
        "from stable_baselines3.a2c import MlpPolicy\n",
        "# from stable_baselines3.common.cmd_util import make_vec_env\n",
        "# Define and Train the agent\n",
        "model = A2C('MlpPolicy', env, learning_rate = 0.003, gamma = 0.9).learn(total_timesteps=500)#, progress_bar = True)"
      ]
    },
    {
      "cell_type": "code",
      "execution_count": null,
      "metadata": {
        "id": "LfZf2E2AT7vF"
      },
      "outputs": [],
      "source": [
        "model.save(\"a2c_pl-90k_003LR_9G_500IT_\"+str(solcount)+\"K\")"
      ]
    },
    {
      "cell_type": "code",
      "execution_count": null,
      "metadata": {
        "id": "lTyiP7irYy8J"
      },
      "outputs": [],
      "source": [
        "from stable_baselines3 import A2C\n",
        "from stable_baselines3.a2c import MlpPolicy\n",
        "model = A2C('MlpPolicy', env, learning_rate = 0.003, gamma = 0.9).learn(total_timesteps=1, progress_bar = True)\n",
        "# model.load(\"a2c_pl-20k_003LR_9G_1000IT_\"+str(solcount)+\"K\")\n",
        "model.load(\"a2c_pl-20k_003LR_9G_1000IT_\"+str(solcount)+\"K\")"
      ]
    },
    {
      "cell_type": "code",
      "execution_count": null,
      "metadata": {
        "colab": {
          "base_uri": "https://localhost:8080/"
        },
        "id": "ZpTMIi7FZa07",
        "outputId": "7a5bdac6-570d-4068-a692-209dba592cf3"
      },
      "outputs": [
        {
          "data": {
            "text/plain": [
              "<stable_baselines3.a2c.a2c.A2C at 0x7aac52507b80>"
            ]
          },
          "execution_count": 141,
          "metadata": {},
          "output_type": "execute_result"
        }
      ],
      "source": [
        "model.load(\"a2c_pl-20k_003LR_9G_1000IT_\"+str(solcount)+\"K\")"
      ]
    },
    {
      "cell_type": "code",
      "execution_count": null,
      "metadata": {
        "colab": {
          "background_save": true
        },
        "id": "1V7IyVuMzj1q"
      },
      "outputs": [],
      "source": [
        "model1 = model"
      ]
    },
    {
      "cell_type": "code",
      "execution_count": null,
      "metadata": {
        "colab": {
          "background_save": true
        },
        "id": "692ICCQv5ANH"
      },
      "outputs": [],
      "source": [
        "model2 = model"
      ]
    },
    {
      "cell_type": "code",
      "execution_count": null,
      "metadata": {
        "colab": {
          "base_uri": "https://localhost:8080/"
        },
        "id": "NjR8jJKocUrz",
        "outputId": "ad11ae70-aa12-43ba-8e61-ae990000a175"
      },
      "outputs": [
        {
          "output_type": "stream",
          "name": "stdout",
          "text": [
            "starting for solution length: 20\n",
            "answer solution ['0', '15', '16', '13', '14', '20', '17', '18', '31', '19', '23', '26', '8', '25', '28', '21', '34', '44', '24', '22']\n",
            "attempt# 0 influence 4755.0\n",
            "[37.0, 16.0, 0.0, 99.0]\n",
            "answer solution ['0', '15', '16', '13', '14', '20', '17', '18', '31', '19', '23', '26', '8', '25', '28', '21', '34', '24', '22', '2']\n",
            "attempt# 1 influence 4755.0\n",
            "[55.0, 60.0, 79.0, 29.0]\n",
            "answer solution ['0', '15', '16', '13', '14', '20', '17', '18', '19', '31', '23', '26', '8', '25', '21', '28', '24', '22', '2', '30']\n",
            "attempt# 2 influence 4756.0\n",
            "[47.0, 22.0, 56.0, 57.0]\n",
            "answer solution ['0', '15', '16', '13', '14', '20', '17', '18', '19', '31', '23', '26', '8', '25', '21', '28', '24', '2', '22', '30']\n",
            "attempt# 3 influence 4756.0\n",
            "[79.0, 28.0, 85.0, 24.0]\n",
            "answer solution ['0', '15', '16', '13', '14', '20', '17', '18', '19', '31', '23', '26', '8', '25', '21', '28', '24', '2', '22', '30']\n",
            "attempt# 4 influence 4756.0\n",
            "[68.0, 89.0, 20.0, 17.0]\n",
            "avg result( 5 atempts) 4755.6\n",
            "solution length: 20\n"
          ]
        }
      ],
      "source": [
        "# model.learn(total_timesteps=1000)\n",
        "result = 0\n",
        "count = 5\n",
        "print(\"starting for solution length:\",env.baseCount)\n",
        "for atempt in range(count):\n",
        "  obs = env.reset()\n",
        "  i=0\n",
        "  done = False\n",
        "  while i<300:#env.itterations:\n",
        "  # while not done:\n",
        "      i+=1\n",
        "      action, _states = model.predict(obs)\n",
        "\n",
        "      obs, rewards, done, info = env.step(action)\n",
        "      # env.render()\n",
        "  print(\"answer solution\",env.getAnswer())\n",
        "  print(\"attempt#\",atempt,\"influence\",env.getBestInfluence())\n",
        "  print(env.coreNetwork.getWeights())\n",
        "  result += env.getBestInfluence()\n",
        "print(\"avg result(\",count,\"atempts)\", result/count)\n",
        "print(\"solution length:\",env.baseCount)"
      ]
    },
    {
      "cell_type": "code",
      "execution_count": null,
      "metadata": {
        "id": "YpZcpJL72O3M"
      },
      "outputs": [],
      "source": []
    },
    {
      "cell_type": "code",
      "execution_count": null,
      "metadata": {
        "colab": {
          "base_uri": "https://localhost:8080/",
          "height": 748
        },
        "id": "5rCGBJyGSGYI",
        "outputId": "fe660eea-0ae4-493e-de39-d034d8f20525"
      },
      "outputs": [
        {
          "name": "stdout",
          "output_type": "stream",
          "text": [
            "answer solution ['42470', '12907', '14900', '15851', '31974', '47048', '18632', '8641', '40491', '43585', '5293', '4338', '19533', '32941', '7425', '8323', '24218', '33131', '14597', '38301']\n",
            "attempt# 0 influence 93.0\n",
            "[29.0, 29.0, 29.0, 24.0]\n"
          ]
        },
        {
          "name": "stderr",
          "output_type": "stream",
          "text": [
            "Exception ignored in: <function _xla_gc_callback at 0x7fa53209bbe0>\n",
            "Traceback (most recent call last):\n",
            "  File \"/usr/local/lib/python3.10/dist-packages/jax/_src/lib/__init__.py\", line 103, in _xla_gc_callback\n",
            "    def _xla_gc_callback(*args):\n",
            "KeyboardInterrupt: \n"
          ]
        },
        {
          "name": "stdout",
          "output_type": "stream",
          "text": [
            "answer solution ['42470', '12907', '31974', '15851', '14900', '47048', '18632', '8641', '5293', '43585', '19533', '32941', '8323', '40491', '7425', '4338', '33131', '9893', '1114', '24218']\n",
            "attempt# 1 influence 94.0\n",
            "[29.0, 29.0, 29.0, 13.0]\n",
            "answer solution ['14900', '40491', '24218', '14597', '38301', '15724', '7471', '19081', '45838', '42899', '40956', '15851', '14082', '25336', '24061', '33363', '4338', '18877', '32792', '43585']\n",
            "attempt# 2 influence 89.0\n",
            "[29.0, 29.0, 29.0, 13.0]\n",
            "answer solution ['14900', '40491', '24218', '14597', '38301', '15724', '7471', '19081', '45838', '42899', '40956', '15851', '14082', '25336', '24061', '33363', '4338', '18877', '32792', '43585']\n",
            "attempt# 3 influence 98.0\n",
            "[29.0, 29.0, 29.0, 13.0]\n"
          ]
        },
        {
          "ename": "KeyboardInterrupt",
          "evalue": "ignored",
          "output_type": "error",
          "traceback": [
            "\u001b[0;31m---------------------------------------------------------------------------\u001b[0m",
            "\u001b[0;31mKeyboardInterrupt\u001b[0m                         Traceback (most recent call last)",
            "\u001b[0;32m<ipython-input-55-07b2a1405947>\u001b[0m in \u001b[0;36m<cell line: 5>\u001b[0;34m()\u001b[0m\n\u001b[1;32m     12\u001b[0m       \u001b[0maction\u001b[0m\u001b[0;34m,\u001b[0m \u001b[0m_states\u001b[0m \u001b[0;34m=\u001b[0m \u001b[0mmodel\u001b[0m\u001b[0;34m.\u001b[0m\u001b[0mpredict\u001b[0m\u001b[0;34m(\u001b[0m\u001b[0mobs\u001b[0m\u001b[0;34m)\u001b[0m\u001b[0;34m\u001b[0m\u001b[0;34m\u001b[0m\u001b[0m\n\u001b[1;32m     13\u001b[0m \u001b[0;34m\u001b[0m\u001b[0m\n\u001b[0;32m---> 14\u001b[0;31m       \u001b[0mobs\u001b[0m\u001b[0;34m,\u001b[0m \u001b[0mrewards\u001b[0m\u001b[0;34m,\u001b[0m \u001b[0mdone\u001b[0m\u001b[0;34m,\u001b[0m \u001b[0minfo\u001b[0m \u001b[0;34m=\u001b[0m \u001b[0menv\u001b[0m\u001b[0;34m.\u001b[0m\u001b[0mstep\u001b[0m\u001b[0;34m(\u001b[0m\u001b[0maction\u001b[0m\u001b[0;34m)\u001b[0m\u001b[0;34m\u001b[0m\u001b[0;34m\u001b[0m\u001b[0m\n\u001b[0m\u001b[1;32m     15\u001b[0m       \u001b[0;31m# env.render()\u001b[0m\u001b[0;34m\u001b[0m\u001b[0;34m\u001b[0m\u001b[0m\n\u001b[1;32m     16\u001b[0m   \u001b[0mprint\u001b[0m\u001b[0;34m(\u001b[0m\u001b[0;34m\"answer solution\"\u001b[0m\u001b[0;34m,\u001b[0m\u001b[0menv\u001b[0m\u001b[0;34m.\u001b[0m\u001b[0mgetAnswer\u001b[0m\u001b[0;34m(\u001b[0m\u001b[0;34m)\u001b[0m\u001b[0;34m)\u001b[0m\u001b[0;34m\u001b[0m\u001b[0;34m\u001b[0m\u001b[0m\n",
            "\u001b[0;32m<ipython-input-27-08e70ce460cd>\u001b[0m in \u001b[0;36mstep\u001b[0;34m(self, action)\u001b[0m\n\u001b[1;32m     54\u001b[0m           \u001b[0mself\u001b[0m\u001b[0;34m.\u001b[0m\u001b[0mcoreNetwork\u001b[0m\u001b[0;34m.\u001b[0m\u001b[0mmodifyWeghts\u001b[0m\u001b[0;34m(\u001b[0m\u001b[0;34m-\u001b[0m\u001b[0mdelta\u001b[0m\u001b[0;34m/\u001b[0m\u001b[0;36m3\u001b[0m\u001b[0;34m,\u001b[0m \u001b[0;34m-\u001b[0m\u001b[0mdelta\u001b[0m\u001b[0;34m/\u001b[0m\u001b[0;36m3\u001b[0m\u001b[0;34m,\u001b[0m \u001b[0mdelta\u001b[0m\u001b[0;34m,\u001b[0m \u001b[0;34m-\u001b[0m\u001b[0mdelta\u001b[0m\u001b[0;34m/\u001b[0m\u001b[0;36m3\u001b[0m\u001b[0;34m)\u001b[0m\u001b[0;34m\u001b[0m\u001b[0;34m\u001b[0m\u001b[0m\n\u001b[1;32m     55\u001b[0m         \u001b[0;32mif\u001b[0m\u001b[0;34m(\u001b[0m\u001b[0maction\u001b[0m\u001b[0;34m[\u001b[0m\u001b[0;36m0\u001b[0m\u001b[0;34m]\u001b[0m \u001b[0;34m==\u001b[0m \u001b[0;36m3\u001b[0m\u001b[0;34m)\u001b[0m\u001b[0;34m:\u001b[0m\u001b[0;34m\u001b[0m\u001b[0;34m\u001b[0m\u001b[0m\n\u001b[0;32m---> 56\u001b[0;31m           \u001b[0mself\u001b[0m\u001b[0;34m.\u001b[0m\u001b[0mcoreNetwork\u001b[0m\u001b[0;34m.\u001b[0m\u001b[0mmodifyWeghts\u001b[0m\u001b[0;34m(\u001b[0m\u001b[0;34m-\u001b[0m\u001b[0mdelta\u001b[0m\u001b[0;34m/\u001b[0m\u001b[0;36m3\u001b[0m\u001b[0;34m,\u001b[0m \u001b[0;34m-\u001b[0m\u001b[0mdelta\u001b[0m\u001b[0;34m/\u001b[0m\u001b[0;36m3\u001b[0m\u001b[0;34m,\u001b[0m \u001b[0;34m-\u001b[0m\u001b[0mdelta\u001b[0m\u001b[0;34m/\u001b[0m\u001b[0;36m3\u001b[0m\u001b[0;34m,\u001b[0m \u001b[0mdelta\u001b[0m\u001b[0;34m)\u001b[0m\u001b[0;34m\u001b[0m\u001b[0;34m\u001b[0m\u001b[0m\n\u001b[0m\u001b[1;32m     57\u001b[0m \u001b[0;34m\u001b[0m\u001b[0m\n\u001b[1;32m     58\u001b[0m         \u001b[0;31m### method 2 ([5,5,5,5])\u001b[0m\u001b[0;34m\u001b[0m\u001b[0;34m\u001b[0m\u001b[0m\n",
            "\u001b[0;32m<ipython-input-25-b48f634a0ec1>\u001b[0m in \u001b[0;36mmodifyWeghts\u001b[0;34m(self, wd, wc, wb, we)\u001b[0m\n\u001b[1;32m     93\u001b[0m     \u001b[0mself\u001b[0m\u001b[0;34m.\u001b[0m\u001b[0mwBetweenness\u001b[0m \u001b[0;34m=\u001b[0m \u001b[0mmin\u001b[0m\u001b[0;34m(\u001b[0m\u001b[0mself\u001b[0m\u001b[0;34m.\u001b[0m\u001b[0mwBetweenness\u001b[0m \u001b[0;34m,\u001b[0m\u001b[0;36m99\u001b[0m\u001b[0;34m)\u001b[0m\u001b[0;34m\u001b[0m\u001b[0;34m\u001b[0m\u001b[0m\n\u001b[1;32m     94\u001b[0m     \u001b[0mself\u001b[0m\u001b[0;34m.\u001b[0m\u001b[0mwEigenvector\u001b[0m \u001b[0;34m=\u001b[0m \u001b[0mmin\u001b[0m\u001b[0;34m(\u001b[0m\u001b[0mself\u001b[0m\u001b[0;34m.\u001b[0m\u001b[0mwEigenvector\u001b[0m \u001b[0;34m,\u001b[0m\u001b[0;36m99\u001b[0m\u001b[0;34m)\u001b[0m\u001b[0;34m\u001b[0m\u001b[0;34m\u001b[0m\u001b[0m\n\u001b[0;32m---> 95\u001b[0;31m     \u001b[0mmergedScores\u001b[0m\u001b[0;34m=\u001b[0m\u001b[0;34m{\u001b[0m\u001b[0mnodeName\u001b[0m\u001b[0;34m:\u001b[0m\u001b[0mself\u001b[0m\u001b[0;34m.\u001b[0m\u001b[0mwDegree\u001b[0m\u001b[0;34m*\u001b[0m\u001b[0mself\u001b[0m\u001b[0;34m.\u001b[0m\u001b[0mscoresDegree\u001b[0m\u001b[0;34m[\u001b[0m\u001b[0mnodeName\u001b[0m\u001b[0;34m]\u001b[0m \u001b[0;34m+\u001b[0m \u001b[0mself\u001b[0m\u001b[0;34m.\u001b[0m\u001b[0mwCloseness\u001b[0m\u001b[0;34m*\u001b[0m\u001b[0mself\u001b[0m\u001b[0;34m.\u001b[0m\u001b[0mscoresCloseness\u001b[0m\u001b[0;34m[\u001b[0m\u001b[0mnodeName\u001b[0m\u001b[0;34m]\u001b[0m \u001b[0;34m+\u001b[0m \u001b[0mself\u001b[0m\u001b[0;34m.\u001b[0m\u001b[0mwBetweenness\u001b[0m\u001b[0;34m*\u001b[0m\u001b[0mself\u001b[0m\u001b[0;34m.\u001b[0m\u001b[0mscoreBetweenness\u001b[0m\u001b[0;34m[\u001b[0m\u001b[0mnodeName\u001b[0m\u001b[0;34m]\u001b[0m \u001b[0;34m+\u001b[0m \u001b[0mself\u001b[0m\u001b[0;34m.\u001b[0m\u001b[0mwEigenvector\u001b[0m\u001b[0;34m*\u001b[0m\u001b[0mself\u001b[0m\u001b[0;34m.\u001b[0m\u001b[0mscoreEigenvector\u001b[0m\u001b[0;34m[\u001b[0m\u001b[0mnodeName\u001b[0m\u001b[0;34m]\u001b[0m  \u001b[0;32mfor\u001b[0m \u001b[0mnodeName\u001b[0m \u001b[0;32min\u001b[0m \u001b[0mself\u001b[0m\u001b[0;34m.\u001b[0m\u001b[0mnetwork\u001b[0m\u001b[0;34m.\u001b[0m\u001b[0mnodes\u001b[0m\u001b[0;34m}\u001b[0m\u001b[0;34m\u001b[0m\u001b[0;34m\u001b[0m\u001b[0m\n\u001b[0m\u001b[1;32m     96\u001b[0m     \u001b[0mself\u001b[0m\u001b[0;34m.\u001b[0m\u001b[0msortedNodesList\u001b[0m \u001b[0;34m=\u001b[0m \u001b[0msorted\u001b[0m\u001b[0;34m(\u001b[0m\u001b[0mmergedScores\u001b[0m\u001b[0;34m.\u001b[0m\u001b[0mitems\u001b[0m\u001b[0;34m(\u001b[0m\u001b[0;34m)\u001b[0m\u001b[0;34m,\u001b[0m \u001b[0mkey\u001b[0m \u001b[0;34m=\u001b[0m \u001b[0;32mlambda\u001b[0m \u001b[0mitem\u001b[0m\u001b[0;34m:\u001b[0m\u001b[0mitem\u001b[0m\u001b[0;34m[\u001b[0m\u001b[0;36m1\u001b[0m\u001b[0;34m]\u001b[0m\u001b[0;34m,\u001b[0m\u001b[0mreverse\u001b[0m\u001b[0;34m=\u001b[0m\u001b[0;32mTrue\u001b[0m\u001b[0;34m)\u001b[0m\u001b[0;34m\u001b[0m\u001b[0;34m\u001b[0m\u001b[0m\n\u001b[1;32m     97\u001b[0m   \u001b[0;32mdef\u001b[0m \u001b[0msetWeghts\u001b[0m\u001b[0;34m(\u001b[0m\u001b[0mself\u001b[0m\u001b[0;34m,\u001b[0m \u001b[0mwd\u001b[0m\u001b[0;34m,\u001b[0m \u001b[0mwc\u001b[0m\u001b[0;34m,\u001b[0m \u001b[0mwb\u001b[0m\u001b[0;34m,\u001b[0m \u001b[0mwe\u001b[0m\u001b[0;34m)\u001b[0m\u001b[0;34m:\u001b[0m\u001b[0;34m\u001b[0m\u001b[0;34m\u001b[0m\u001b[0m\n",
            "\u001b[0;32m<ipython-input-25-b48f634a0ec1>\u001b[0m in \u001b[0;36m<dictcomp>\u001b[0;34m(.0)\u001b[0m\n\u001b[1;32m     93\u001b[0m     \u001b[0mself\u001b[0m\u001b[0;34m.\u001b[0m\u001b[0mwBetweenness\u001b[0m \u001b[0;34m=\u001b[0m \u001b[0mmin\u001b[0m\u001b[0;34m(\u001b[0m\u001b[0mself\u001b[0m\u001b[0;34m.\u001b[0m\u001b[0mwBetweenness\u001b[0m \u001b[0;34m,\u001b[0m\u001b[0;36m99\u001b[0m\u001b[0;34m)\u001b[0m\u001b[0;34m\u001b[0m\u001b[0;34m\u001b[0m\u001b[0m\n\u001b[1;32m     94\u001b[0m     \u001b[0mself\u001b[0m\u001b[0;34m.\u001b[0m\u001b[0mwEigenvector\u001b[0m \u001b[0;34m=\u001b[0m \u001b[0mmin\u001b[0m\u001b[0;34m(\u001b[0m\u001b[0mself\u001b[0m\u001b[0;34m.\u001b[0m\u001b[0mwEigenvector\u001b[0m \u001b[0;34m,\u001b[0m\u001b[0;36m99\u001b[0m\u001b[0;34m)\u001b[0m\u001b[0;34m\u001b[0m\u001b[0;34m\u001b[0m\u001b[0m\n\u001b[0;32m---> 95\u001b[0;31m     \u001b[0mmergedScores\u001b[0m\u001b[0;34m=\u001b[0m\u001b[0;34m{\u001b[0m\u001b[0mnodeName\u001b[0m\u001b[0;34m:\u001b[0m\u001b[0mself\u001b[0m\u001b[0;34m.\u001b[0m\u001b[0mwDegree\u001b[0m\u001b[0;34m*\u001b[0m\u001b[0mself\u001b[0m\u001b[0;34m.\u001b[0m\u001b[0mscoresDegree\u001b[0m\u001b[0;34m[\u001b[0m\u001b[0mnodeName\u001b[0m\u001b[0;34m]\u001b[0m \u001b[0;34m+\u001b[0m \u001b[0mself\u001b[0m\u001b[0;34m.\u001b[0m\u001b[0mwCloseness\u001b[0m\u001b[0;34m*\u001b[0m\u001b[0mself\u001b[0m\u001b[0;34m.\u001b[0m\u001b[0mscoresCloseness\u001b[0m\u001b[0;34m[\u001b[0m\u001b[0mnodeName\u001b[0m\u001b[0;34m]\u001b[0m \u001b[0;34m+\u001b[0m \u001b[0mself\u001b[0m\u001b[0;34m.\u001b[0m\u001b[0mwBetweenness\u001b[0m\u001b[0;34m*\u001b[0m\u001b[0mself\u001b[0m\u001b[0;34m.\u001b[0m\u001b[0mscoreBetweenness\u001b[0m\u001b[0;34m[\u001b[0m\u001b[0mnodeName\u001b[0m\u001b[0;34m]\u001b[0m \u001b[0;34m+\u001b[0m \u001b[0mself\u001b[0m\u001b[0;34m.\u001b[0m\u001b[0mwEigenvector\u001b[0m\u001b[0;34m*\u001b[0m\u001b[0mself\u001b[0m\u001b[0;34m.\u001b[0m\u001b[0mscoreEigenvector\u001b[0m\u001b[0;34m[\u001b[0m\u001b[0mnodeName\u001b[0m\u001b[0;34m]\u001b[0m  \u001b[0;32mfor\u001b[0m \u001b[0mnodeName\u001b[0m \u001b[0;32min\u001b[0m \u001b[0mself\u001b[0m\u001b[0;34m.\u001b[0m\u001b[0mnetwork\u001b[0m\u001b[0;34m.\u001b[0m\u001b[0mnodes\u001b[0m\u001b[0;34m}\u001b[0m\u001b[0;34m\u001b[0m\u001b[0;34m\u001b[0m\u001b[0m\n\u001b[0m\u001b[1;32m     96\u001b[0m     \u001b[0mself\u001b[0m\u001b[0;34m.\u001b[0m\u001b[0msortedNodesList\u001b[0m \u001b[0;34m=\u001b[0m \u001b[0msorted\u001b[0m\u001b[0;34m(\u001b[0m\u001b[0mmergedScores\u001b[0m\u001b[0;34m.\u001b[0m\u001b[0mitems\u001b[0m\u001b[0;34m(\u001b[0m\u001b[0;34m)\u001b[0m\u001b[0;34m,\u001b[0m \u001b[0mkey\u001b[0m \u001b[0;34m=\u001b[0m \u001b[0;32mlambda\u001b[0m \u001b[0mitem\u001b[0m\u001b[0;34m:\u001b[0m\u001b[0mitem\u001b[0m\u001b[0;34m[\u001b[0m\u001b[0;36m1\u001b[0m\u001b[0;34m]\u001b[0m\u001b[0;34m,\u001b[0m\u001b[0mreverse\u001b[0m\u001b[0;34m=\u001b[0m\u001b[0;32mTrue\u001b[0m\u001b[0;34m)\u001b[0m\u001b[0;34m\u001b[0m\u001b[0;34m\u001b[0m\u001b[0m\n\u001b[1;32m     97\u001b[0m   \u001b[0;32mdef\u001b[0m \u001b[0msetWeghts\u001b[0m\u001b[0;34m(\u001b[0m\u001b[0mself\u001b[0m\u001b[0;34m,\u001b[0m \u001b[0mwd\u001b[0m\u001b[0;34m,\u001b[0m \u001b[0mwc\u001b[0m\u001b[0;34m,\u001b[0m \u001b[0mwb\u001b[0m\u001b[0;34m,\u001b[0m \u001b[0mwe\u001b[0m\u001b[0;34m)\u001b[0m\u001b[0;34m:\u001b[0m\u001b[0;34m\u001b[0m\u001b[0;34m\u001b[0m\u001b[0m\n",
            "\u001b[0;31mKeyboardInterrupt\u001b[0m: "
          ]
        }
      ],
      "source": [
        "# model.learn(total_timesteps=1000)\n",
        "result = 0\n",
        "count = 10\n",
        "\n",
        "for atempt in range(count):\n",
        "  obs = env.reset()\n",
        "  i=0\n",
        "  done = False\n",
        "  # while i<100:#env.itterations:\n",
        "  while not done: #bad idea\n",
        "      i+=1\n",
        "      action, _states = model.predict(obs)\n",
        "\n",
        "      obs, rewards, done, info = env.step(action)\n",
        "      # env.render()\n",
        "  print(\"answer solution\",env.getAnswer())\n",
        "  print(\"attempt#\",atempt,\"influence\",env.getBestInfluence())\n",
        "  print(env.coreNetwork.getWeights())\n",
        "  result += env.getBestInfluence()\n",
        "print(\"avg result(\",count,\"atempts)\", result/count)\n",
        "print(\"solution length:\",env.baseCount)"
      ]
    },
    {
      "cell_type": "code",
      "execution_count": null,
      "metadata": {
        "colab": {
          "background_save": true
        },
        "id": "ruzpOJg8TUDe"
      },
      "outputs": [],
      "source": [
        "# get heuristic result\n"
      ]
    },
    {
      "cell_type": "code",
      "execution_count": null,
      "metadata": {
        "colab": {
          "background_save": true
        },
        "id": "6kSLan8JcXvi"
      },
      "outputs": [],
      "source": [
        "# model.learn(total_timesteps=1000)\n",
        "avg = 0\n",
        "for j in range(10):\n",
        "  obs = env.reset()\n",
        "  i=0\n",
        "  done = False\n",
        "\n",
        "  while i<50:\n",
        "      i+=1\n",
        "      action, _states = model.predict(obs)\n",
        "\n",
        "      obs, rewards, done, info = env.step(action)\n",
        "      # print(colored(\"==================================================================\",\"blue\"))\n",
        "      # print(colored(\"step#\",\"green\"),colored(i,\"green\"),\"action:\",action,\"reward\",colored(rewards,\"red\"))\n",
        "      # print(env.coreNetwork.IC())\n",
        "\n",
        "      # print(colored(\"sol\",\"yellow\"),colored(env.getSolution(),\"yellow\"))\n",
        "      env.render()\n",
        "  print(\"attempt #\",j+1)\n",
        "  print(\"answer solution\",env.getAnswer())\n",
        "  answ = env.getBestInfluence()\n",
        "  avg += answ\n",
        "  print(\"influence\",answ)\n",
        "print(colored(\"==================================================================\",\"blue\"))\n",
        "print(\"avg result\", avg/10)"
      ]
    },
    {
      "cell_type": "markdown",
      "metadata": {
        "id": "pm-sizMPcuVY"
      },
      "source": [
        "##huristics"
      ]
    },
    {
      "cell_type": "code",
      "execution_count": null,
      "metadata": {
        "id": "hlP0qXKlPo-z"
      },
      "outputs": [],
      "source": [
        "def getHeuristicResultsBackUp(mode, verbose = False):\n",
        "  env.reset()\n",
        "  avg = 0\n",
        "  for j in range(10):\n",
        "    obs = env.reset()\n",
        "    if(mode ==0):\n",
        "      env.coreNetwork.setWeghts(100,0,0,0)\n",
        "    if(mode ==1):\n",
        "      env.coreNetwork.setWeghts(0,100,0,0)\n",
        "    if(mode ==2):\n",
        "      env.coreNetwork.setWeghts(0,0,100,0)\n",
        "    if(mode ==3):\n",
        "      env.coreNetwork.setWeghts(0,0,0,100)\n",
        "    env.step([2,2])\n",
        "    answ = env.baseScore+env.currentScore\n",
        "    if(verbose):\n",
        "      print(\"answer solution\",env.getSolution())\n",
        "      print(\"influence (#\",j,\")\",answ)\n",
        "    avg += answ\n",
        "  print(\"====================MODE:\",mode)\n",
        "  print(\"avg influence:\", avg/10)"
      ]
    },
    {
      "cell_type": "code",
      "execution_count": null,
      "metadata": {
        "id": "jUssiD8FTqkZ"
      },
      "outputs": [],
      "source": [
        "def getHeuristicResults(mode, verbose = False):\n",
        "  env.reset()\n",
        "  avg = 0\n",
        "  for j in range(10):\n",
        "    obs = env.reset()\n",
        "    if(mode ==0):\n",
        "      env.coreNetwork.setWeghts(100,0,0,0)\n",
        "    if(mode ==1):\n",
        "      env.coreNetwork.setWeghts(0,100,0,0)\n",
        "    if(mode ==2):\n",
        "      env.coreNetwork.setWeghts(0,0,100,0)\n",
        "    if(mode ==3):\n",
        "      env.coreNetwork.setWeghts(0,0,0,100)\n",
        "    answ = env.coreNetwork.IC()\n",
        "    # env.step([2,2])\n",
        "    # answ = env.baseScore+env.currentScore\n",
        "    if(verbose):\n",
        "      print(\"answer solution\",env.getSolution())\n",
        "      print(\"influence (#\",j,\")\",answ)\n",
        "    avg += answ\n",
        "  print(\"====================MODE:\",mode)\n",
        "  print(\"avg influence:\", avg/10)"
      ]
    },
    {
      "cell_type": "code",
      "execution_count": null,
      "metadata": {
        "id": "Kxc9-2DJf3sU"
      },
      "outputs": [],
      "source": [
        "#wd, wc, wb, we"
      ]
    },
    {
      "cell_type": "code",
      "execution_count": null,
      "metadata": {
        "colab": {
          "base_uri": "https://localhost:8080/",
          "height": 403
        },
        "id": "OmS8UQ19WkN1",
        "outputId": "3935326c-81ec-4c7b-a3fc-827a0ef4ba23"
      },
      "outputs": [
        {
          "ename": "KeyboardInterrupt",
          "evalue": "ignored",
          "output_type": "error",
          "traceback": [
            "\u001b[0;31m---------------------------------------------------------------------------\u001b[0m",
            "\u001b[0;31mKeyboardInterrupt\u001b[0m                         Traceback (most recent call last)",
            "\u001b[0;32m<ipython-input-119-76746e27e6d0>\u001b[0m in \u001b[0;36m<cell line: 1>\u001b[0;34m()\u001b[0m\n\u001b[0;32m----> 1\u001b[0;31m \u001b[0mgetHeuristicResults\u001b[0m\u001b[0;34m(\u001b[0m\u001b[0;36m0\u001b[0m\u001b[0;34m)\u001b[0m\u001b[0;34m\u001b[0m\u001b[0;34m\u001b[0m\u001b[0m\n\u001b[0m\u001b[1;32m      2\u001b[0m \u001b[0mprint\u001b[0m\u001b[0;34m(\u001b[0m\u001b[0;34m\":::::::::::::::::::::::::::::::::::::::::\"\u001b[0m\u001b[0;34m)\u001b[0m\u001b[0;34m\u001b[0m\u001b[0;34m\u001b[0m\u001b[0m\n\u001b[1;32m      3\u001b[0m \u001b[0mgetHeuristicResults\u001b[0m\u001b[0;34m(\u001b[0m\u001b[0;36m1\u001b[0m\u001b[0;34m)\u001b[0m\u001b[0;34m\u001b[0m\u001b[0;34m\u001b[0m\u001b[0m\n\u001b[1;32m      4\u001b[0m \u001b[0mprint\u001b[0m\u001b[0;34m(\u001b[0m\u001b[0;34m\":::::::::::::::::::::::::::::::::::::::::\"\u001b[0m\u001b[0;34m)\u001b[0m\u001b[0;34m\u001b[0m\u001b[0;34m\u001b[0m\u001b[0m\n\u001b[1;32m      5\u001b[0m \u001b[0mgetHeuristicResults\u001b[0m\u001b[0;34m(\u001b[0m\u001b[0;36m2\u001b[0m\u001b[0;34m)\u001b[0m\u001b[0;34m\u001b[0m\u001b[0;34m\u001b[0m\u001b[0m\n",
            "\u001b[0;32m<ipython-input-116-0700e2a89676>\u001b[0m in \u001b[0;36mgetHeuristicResults\u001b[0;34m(mode, verbose)\u001b[0m\n\u001b[1;32m      1\u001b[0m \u001b[0;32mdef\u001b[0m \u001b[0mgetHeuristicResults\u001b[0m\u001b[0;34m(\u001b[0m\u001b[0mmode\u001b[0m\u001b[0;34m,\u001b[0m \u001b[0mverbose\u001b[0m \u001b[0;34m=\u001b[0m \u001b[0;32mFalse\u001b[0m\u001b[0;34m)\u001b[0m\u001b[0;34m:\u001b[0m\u001b[0;34m\u001b[0m\u001b[0;34m\u001b[0m\u001b[0m\n\u001b[0;32m----> 2\u001b[0;31m   \u001b[0menv\u001b[0m\u001b[0;34m.\u001b[0m\u001b[0mreset\u001b[0m\u001b[0;34m(\u001b[0m\u001b[0;34m)\u001b[0m\u001b[0;34m\u001b[0m\u001b[0;34m\u001b[0m\u001b[0m\n\u001b[0m\u001b[1;32m      3\u001b[0m   \u001b[0mavg\u001b[0m \u001b[0;34m=\u001b[0m \u001b[0;36m0\u001b[0m\u001b[0;34m\u001b[0m\u001b[0;34m\u001b[0m\u001b[0m\n\u001b[1;32m      4\u001b[0m   \u001b[0;32mfor\u001b[0m \u001b[0mj\u001b[0m \u001b[0;32min\u001b[0m \u001b[0mrange\u001b[0m\u001b[0;34m(\u001b[0m\u001b[0;36m10\u001b[0m\u001b[0;34m)\u001b[0m\u001b[0;34m:\u001b[0m\u001b[0;34m\u001b[0m\u001b[0;34m\u001b[0m\u001b[0m\n\u001b[1;32m      5\u001b[0m     \u001b[0mobs\u001b[0m \u001b[0;34m=\u001b[0m \u001b[0menv\u001b[0m\u001b[0;34m.\u001b[0m\u001b[0mreset\u001b[0m\u001b[0;34m(\u001b[0m\u001b[0;34m)\u001b[0m\u001b[0;34m\u001b[0m\u001b[0;34m\u001b[0m\u001b[0m\n",
            "\u001b[0;32m<ipython-input-114-08e70ce460cd>\u001b[0m in \u001b[0;36mreset\u001b[0;34m(self)\u001b[0m\n\u001b[1;32m     88\u001b[0m     \u001b[0;32mdef\u001b[0m \u001b[0mreset\u001b[0m\u001b[0;34m(\u001b[0m\u001b[0mself\u001b[0m\u001b[0;34m)\u001b[0m\u001b[0;34m:\u001b[0m\u001b[0;34m\u001b[0m\u001b[0;34m\u001b[0m\u001b[0m\n\u001b[1;32m     89\u001b[0m         \u001b[0mself\u001b[0m\u001b[0;34m.\u001b[0m\u001b[0mcount\u001b[0m \u001b[0;34m=\u001b[0m \u001b[0mself\u001b[0m\u001b[0;34m.\u001b[0m\u001b[0mitterations\u001b[0m\u001b[0;34m\u001b[0m\u001b[0;34m\u001b[0m\u001b[0m\n\u001b[0;32m---> 90\u001b[0;31m         \u001b[0mself\u001b[0m\u001b[0;34m.\u001b[0m\u001b[0mcoreNetwork\u001b[0m\u001b[0;34m.\u001b[0m\u001b[0mreset\u001b[0m\u001b[0;34m(\u001b[0m\u001b[0;34m)\u001b[0m\u001b[0;34m\u001b[0m\u001b[0;34m\u001b[0m\u001b[0m\n\u001b[0m\u001b[1;32m     91\u001b[0m         \u001b[0mself\u001b[0m\u001b[0;34m.\u001b[0m\u001b[0msetWeghts\u001b[0m\u001b[0;34m(\u001b[0m\u001b[0;36m25\u001b[0m\u001b[0;34m,\u001b[0m\u001b[0;36m25\u001b[0m\u001b[0;34m,\u001b[0m\u001b[0;36m25\u001b[0m\u001b[0;34m,\u001b[0m\u001b[0;36m25\u001b[0m\u001b[0;34m)\u001b[0m\u001b[0;34m\u001b[0m\u001b[0;34m\u001b[0m\u001b[0m\n\u001b[1;32m     92\u001b[0m         \u001b[0mself\u001b[0m\u001b[0;34m.\u001b[0m\u001b[0mbestReward\u001b[0m \u001b[0;34m=\u001b[0m \u001b[0;36m0\u001b[0m\u001b[0;34m\u001b[0m\u001b[0;34m\u001b[0m\u001b[0m\n",
            "\u001b[0;32m<ipython-input-112-3f991d30f115>\u001b[0m in \u001b[0;36mreset\u001b[0;34m(self)\u001b[0m\n\u001b[1;32m    106\u001b[0m     \u001b[0mself\u001b[0m\u001b[0;34m.\u001b[0m\u001b[0minfectedNodesList\u001b[0m \u001b[0;34m=\u001b[0m \u001b[0;34m[\u001b[0m\u001b[0;34m]\u001b[0m\u001b[0;34m\u001b[0m\u001b[0;34m\u001b[0m\u001b[0m\n\u001b[1;32m    107\u001b[0m     \u001b[0mself\u001b[0m\u001b[0;34m.\u001b[0m\u001b[0mdumpedNodesList\u001b[0m \u001b[0;34m=\u001b[0m \u001b[0;34m[\u001b[0m\u001b[0;34m]\u001b[0m\u001b[0;34m\u001b[0m\u001b[0;34m\u001b[0m\u001b[0m\n\u001b[0;32m--> 108\u001b[0;31m     \u001b[0mself\u001b[0m\u001b[0;34m.\u001b[0m\u001b[0minfectedNodes\u001b[0m \u001b[0;34m=\u001b[0m \u001b[0mself\u001b[0m\u001b[0;34m.\u001b[0m\u001b[0mIC\u001b[0m\u001b[0;34m(\u001b[0m\u001b[0;34m)\u001b[0m\u001b[0;34m\u001b[0m\u001b[0;34m\u001b[0m\u001b[0m\n\u001b[0m\u001b[1;32m    109\u001b[0m \u001b[0;34m\u001b[0m\u001b[0m\n\u001b[1;32m    110\u001b[0m   \u001b[0;31m# def readGraph(self, fileAddress):\u001b[0m\u001b[0;34m\u001b[0m\u001b[0;34m\u001b[0m\u001b[0m\n",
            "\u001b[0;32m<ipython-input-112-3f991d30f115>\u001b[0m in \u001b[0;36mIC\u001b[0;34m(self, mc, randomSelection)\u001b[0m\n\u001b[1;32m    170\u001b[0m               \u001b[0;31m# influenceSuccessT5 = np.random.uniform(0,10000) < (int(self.network[influencer][neighbor][\"p5\"])*self.t5)\u001b[0m\u001b[0;34m\u001b[0m\u001b[0;34m\u001b[0m\u001b[0m\n\u001b[1;32m    171\u001b[0m               \u001b[0;31m# (100-it)\u001b[0m\u001b[0;34m\u001b[0m\u001b[0;34m\u001b[0m\u001b[0m\n\u001b[0;32m--> 172\u001b[0;31m               \u001b[0minfluenceSuccess\u001b[0m \u001b[0;34m=\u001b[0m \u001b[0mnp\u001b[0m\u001b[0;34m.\u001b[0m\u001b[0mrandom\u001b[0m\u001b[0;34m.\u001b[0m\u001b[0muniform\u001b[0m\u001b[0;34m(\u001b[0m\u001b[0;36m0\u001b[0m\u001b[0;34m,\u001b[0m\u001b[0;36m100\u001b[0m\u001b[0;34m)\u001b[0m \u001b[0;34m<\u001b[0m \u001b[0;36m0.25\u001b[0m\u001b[0;34m*\u001b[0m\u001b[0;36m100\u001b[0m\u001b[0;34m*\u001b[0m\u001b[0;34m(\u001b[0m\u001b[0mself\u001b[0m\u001b[0;34m.\u001b[0m\u001b[0mnetwork\u001b[0m\u001b[0;34m[\u001b[0m\u001b[0minfluencer\u001b[0m\u001b[0;34m]\u001b[0m\u001b[0;34m[\u001b[0m\u001b[0mneighbor\u001b[0m\u001b[0;34m]\u001b[0m\u001b[0;34m[\u001b[0m\u001b[0;34m\"weight\"\u001b[0m\u001b[0;34m]\u001b[0m\u001b[0;34m*\u001b[0m\u001b[0minfProb\u001b[0m\u001b[0;34m(\u001b[0m\u001b[0mstr\u001b[0m\u001b[0;34m(\u001b[0m\u001b[0minfluencer\u001b[0m\u001b[0;34m)\u001b[0m\u001b[0;34m,\u001b[0m \u001b[0mself\u001b[0m\u001b[0;34m.\u001b[0m\u001b[0mmusicPrefs\u001b[0m\u001b[0;34m,\u001b[0m \u001b[0mself\u001b[0m\u001b[0;34m.\u001b[0m\u001b[0mnetwork\u001b[0m\u001b[0;34m)\u001b[0m\u001b[0;34m)\u001b[0m\u001b[0;34m\u001b[0m\u001b[0;34m\u001b[0m\u001b[0m\n\u001b[0m\u001b[1;32m    173\u001b[0m               \u001b[0;31m# print(influenceSuccess)\u001b[0m\u001b[0;34m\u001b[0m\u001b[0;34m\u001b[0m\u001b[0m\n\u001b[1;32m    174\u001b[0m               \u001b[0;31m# print(100*(self.network[influencer][neighbor][\"weight\"]*infProb(str(influencer), self.musicPrefs, self.network)))\u001b[0m\u001b[0;34m\u001b[0m\u001b[0;34m\u001b[0m\u001b[0m\n",
            "\u001b[0;32m<ipython-input-30-60f869aff07c>\u001b[0m in \u001b[0;36minfProb\u001b[0;34m(node, musicPref, network)\u001b[0m\n\u001b[1;32m     13\u001b[0m   \u001b[0mmax\u001b[0m\u001b[0;34m=\u001b[0m\u001b[0;36m0\u001b[0m\u001b[0;34m\u001b[0m\u001b[0;34m\u001b[0m\u001b[0m\n\u001b[1;32m     14\u001b[0m   \u001b[0;32mfor\u001b[0m \u001b[0mi\u001b[0m \u001b[0;32min\u001b[0m \u001b[0mrange\u001b[0m\u001b[0;34m(\u001b[0m\u001b[0mlen\u001b[0m\u001b[0;34m(\u001b[0m\u001b[0mtopics\u001b[0m\u001b[0;34m)\u001b[0m\u001b[0;34m)\u001b[0m\u001b[0;34m:\u001b[0m\u001b[0;34m\u001b[0m\u001b[0;34m\u001b[0m\u001b[0m\n\u001b[0;32m---> 15\u001b[0;31m    \u001b[0;32mif\u001b[0m\u001b[0;34m(\u001b[0m\u001b[0muserPref\u001b[0m\u001b[0;34m[\u001b[0m\u001b[0mi\u001b[0m\u001b[0;34m]\u001b[0m\u001b[0;34m)\u001b[0m\u001b[0;34m:\u001b[0m\u001b[0;34m\u001b[0m\u001b[0;34m\u001b[0m\u001b[0m\n\u001b[0m\u001b[1;32m     16\u001b[0m      \u001b[0;32mif\u001b[0m\u001b[0;34m(\u001b[0m\u001b[0mmax\u001b[0m\u001b[0;34m<\u001b[0m\u001b[0mmusicPref\u001b[0m\u001b[0;34m[\u001b[0m\u001b[0mi\u001b[0m\u001b[0;34m]\u001b[0m\u001b[0;34m)\u001b[0m\u001b[0;34m:\u001b[0m\u001b[0;34m\u001b[0m\u001b[0;34m\u001b[0m\u001b[0m\n\u001b[1;32m     17\u001b[0m        \u001b[0mmax\u001b[0m \u001b[0;34m=\u001b[0m \u001b[0mmusicPref\u001b[0m\u001b[0;34m[\u001b[0m\u001b[0mi\u001b[0m\u001b[0;34m]\u001b[0m\u001b[0;34m\u001b[0m\u001b[0;34m\u001b[0m\u001b[0m\n",
            "\u001b[0;31mKeyboardInterrupt\u001b[0m: "
          ]
        }
      ],
      "source": [
        "# getHeuristicResults(0)\n",
        "# print(\":::::::::::::::::::::::::::::::::::::::::\")\n",
        "# getHeuristicResults(1)\n",
        "# print(\":::::::::::::::::::::::::::::::::::::::::\")\n",
        "# getHeuristicResults(2)\n",
        "# print(\":::::::::::::::::::::::::::::::::::::::::\")\n",
        "# getHeuristicResults(3)"
      ]
    },
    {
      "cell_type": "code",
      "execution_count": null,
      "metadata": {
        "id": "m-WGc4u-AuF1"
      },
      "outputs": [],
      "source": [
        "import datetime\n",
        "def currentTime():\n",
        "    ct = datetime.datetime.now()\n",
        "    print(\"current time:-\", ct)"
      ]
    },
    {
      "cell_type": "code",
      "execution_count": null,
      "metadata": {
        "id": "Z1rYQgBTgpmp"
      },
      "outputs": [],
      "source": [
        "def getHeuResults(title):\n",
        "  print(\"[[[:::::::::::::]]]\"+title+\"[[[[::::::::::::::::::]]]]\")\n",
        "  currentTime()\n",
        "  getHeuristicResults(0)\n",
        "  print(\":::::::::::::::::::::::::::::::::::::::::\")\n",
        "  currentTime()\n",
        "  getHeuristicResults(1)\n",
        "  print(\":::::::::::::::::::::::::::::::::::::::::\")\n",
        "  currentTime()\n",
        "  getHeuristicResults(2)\n",
        "  print(\":::::::::::::::::::::::::::::::::::::::::\")\n",
        "  currentTime()\n",
        "  getHeuristicResults(3)\n",
        "  currentTime()"
      ]
    },
    {
      "cell_type": "code",
      "execution_count": null,
      "metadata": {
        "id": "s1wPzVhxCRBe"
      },
      "outputs": [],
      "source": [
        "musicPref = np.zeros(len(topics))\n",
        "musicPref[3] = 0.5\n",
        "musicPref[2] = 0.8"
      ]
    },
    {
      "cell_type": "code",
      "execution_count": null,
      "metadata": {
        "colab": {
          "base_uri": "https://localhost:8080/"
        },
        "id": "g42ou8nfgmOM",
        "outputId": "aa12fcac-af40-48a3-cc29-d3c84902035c"
      },
      "outputs": [
        {
          "name": "stdout",
          "output_type": "stream",
          "text": [
            "action space: MultiDiscrete([4 5])\n",
            "[[[:::::::::::::]]]sol length 5[[[[::::::::::::::::::]]]]\n",
            "current time:- 2023-08-28 21:21:36.497566\n",
            "====================MODE: 0\n",
            "avg influence: 3897.2\n",
            ":::::::::::::::::::::::::::::::::::::::::\n",
            "current time:- 2023-08-28 21:23:17.243696\n",
            "====================MODE: 1\n",
            "avg influence: 3966.7\n",
            ":::::::::::::::::::::::::::::::::::::::::\n",
            "current time:- 2023-08-28 21:24:59.286404\n",
            "====================MODE: 2\n",
            "avg influence: 3863.7\n",
            ":::::::::::::::::::::::::::::::::::::::::\n",
            "current time:- 2023-08-28 21:26:38.386950\n",
            "====================MODE: 3\n",
            "avg influence: 3881.9\n",
            "current time:- 2023-08-28 21:28:18.679523\n",
            "action space: MultiDiscrete([4 5])\n",
            "[[[:::::::::::::]]]sol length 10[[[[::::::::::::::::::]]]]\n",
            "current time:- 2023-08-28 21:28:39.173523\n",
            "====================MODE: 0\n",
            "avg influence: 4390.1\n",
            ":::::::::::::::::::::::::::::::::::::::::\n",
            "current time:- 2023-08-28 21:30:34.978327\n",
            "====================MODE: 1\n",
            "avg influence: 4418.3\n",
            ":::::::::::::::::::::::::::::::::::::::::\n",
            "current time:- 2023-08-28 21:32:23.931942\n",
            "====================MODE: 2\n",
            "avg influence: 4389.9\n",
            ":::::::::::::::::::::::::::::::::::::::::\n",
            "current time:- 2023-08-28 21:34:14.875913\n",
            "====================MODE: 3\n",
            "avg influence: 4263.5\n",
            "current time:- 2023-08-28 21:36:07.601070\n",
            "action space: MultiDiscrete([4 5])\n",
            "[[[:::::::::::::]]]sol length 15[[[[::::::::::::::::::]]]]\n",
            "current time:- 2023-08-28 21:36:35.570697\n",
            "====================MODE: 0\n",
            "avg influence: 4159.5\n",
            ":::::::::::::::::::::::::::::::::::::::::\n",
            "current time:- 2023-08-28 21:38:25.845183\n",
            "====================MODE: 1\n",
            "avg influence: 4524.0\n",
            ":::::::::::::::::::::::::::::::::::::::::\n",
            "current time:- 2023-08-28 21:40:21.608504\n",
            "====================MODE: 2\n",
            "avg influence: 4383.3\n",
            ":::::::::::::::::::::::::::::::::::::::::\n",
            "current time:- 2023-08-28 21:42:17.747565\n",
            "====================MODE: 3\n",
            "avg influence: 4345.8\n",
            "current time:- 2023-08-28 21:44:11.893476\n",
            "action space: MultiDiscrete([4 5])\n",
            "[[[:::::::::::::]]]sol length 20[[[[::::::::::::::::::]]]]\n",
            "current time:- 2023-08-28 21:44:34.198199\n",
            "====================MODE: 0\n",
            "avg influence: 4704.5\n",
            ":::::::::::::::::::::::::::::::::::::::::\n",
            "current time:- 2023-08-28 21:46:38.649653\n",
            "====================MODE: 1\n",
            "avg influence: 4460.8\n",
            ":::::::::::::::::::::::::::::::::::::::::\n",
            "current time:- 2023-08-28 21:48:37.281001\n",
            "====================MODE: 2\n",
            "avg influence: 4712.5\n",
            ":::::::::::::::::::::::::::::::::::::::::\n",
            "current time:- 2023-08-28 21:50:34.831248\n",
            "====================MODE: 3\n",
            "avg influence: 4599.0\n",
            "current time:- 2023-08-28 21:52:35.222749\n",
            "action space: MultiDiscrete([4 5])\n",
            "[[[:::::::::::::]]]sol length 25[[[[::::::::::::::::::]]]]\n",
            "current time:- 2023-08-28 21:52:59.704413\n",
            "====================MODE: 0\n",
            "avg influence: 5046.5\n",
            ":::::::::::::::::::::::::::::::::::::::::\n",
            "current time:- 2023-08-28 21:55:09.445649\n",
            "====================MODE: 1\n",
            "avg influence: 4887.4\n",
            ":::::::::::::::::::::::::::::::::::::::::\n",
            "current time:- 2023-08-28 21:57:18.532379\n",
            "====================MODE: 2\n",
            "avg influence: 5180.8\n",
            ":::::::::::::::::::::::::::::::::::::::::\n",
            "current time:- 2023-08-28 21:59:27.220113\n",
            "====================MODE: 3\n",
            "avg influence: 5015.7\n",
            "current time:- 2023-08-28 22:01:35.640918\n",
            "action space: MultiDiscrete([4 5])\n",
            "[[[:::::::::::::]]]sol length 30[[[[::::::::::::::::::]]]]\n",
            "current time:- 2023-08-28 22:01:59.140559\n",
            "====================MODE: 0\n",
            "avg influence: 5134.1\n",
            ":::::::::::::::::::::::::::::::::::::::::\n",
            "current time:- 2023-08-28 22:04:11.263843\n",
            "====================MODE: 1\n",
            "avg influence: 5257.4\n",
            ":::::::::::::::::::::::::::::::::::::::::\n",
            "current time:- 2023-08-28 22:06:28.817406\n",
            "====================MODE: 2\n",
            "avg influence: 5211.7\n",
            ":::::::::::::::::::::::::::::::::::::::::\n",
            "current time:- 2023-08-28 22:08:41.287164\n",
            "====================MODE: 3\n",
            "avg influence: 5058.7\n",
            "current time:- 2023-08-28 22:10:49.627772\n",
            "action space: MultiDiscrete([4 5])\n",
            "[[[:::::::::::::]]]sol length 40[[[[::::::::::::::::::]]]]\n",
            "current time:- 2023-08-28 22:11:13.087963\n",
            "====================MODE: 0\n",
            "avg influence: 5481.9\n",
            ":::::::::::::::::::::::::::::::::::::::::\n",
            "current time:- 2023-08-28 22:13:33.106063\n",
            "====================MODE: 1\n",
            "avg influence: 5350.4\n",
            ":::::::::::::::::::::::::::::::::::::::::\n",
            "current time:- 2023-08-28 22:15:49.717916\n",
            "====================MODE: 2\n",
            "avg influence: 5351.7\n",
            ":::::::::::::::::::::::::::::::::::::::::\n",
            "current time:- 2023-08-28 22:18:08.101838\n",
            "====================MODE: 3\n",
            "avg influence: 5511.4\n",
            "current time:- 2023-08-28 22:20:30.025891\n",
            "action space: MultiDiscrete([4 5])\n",
            "[[[:::::::::::::]]]sol length 50[[[[::::::::::::::::::]]]]\n",
            "current time:- 2023-08-28 22:20:55.818869\n",
            "====================MODE: 0\n",
            "avg influence: 5564.9\n",
            ":::::::::::::::::::::::::::::::::::::::::\n",
            "current time:- 2023-08-28 22:23:20.673690\n",
            "====================MODE: 1\n",
            "avg influence: 5418.7\n",
            ":::::::::::::::::::::::::::::::::::::::::\n",
            "current time:- 2023-08-28 22:25:45.360402\n",
            "====================MODE: 2\n",
            "avg influence: 5574.7\n",
            ":::::::::::::::::::::::::::::::::::::::::\n",
            "current time:- 2023-08-28 22:28:12.137594\n",
            "====================MODE: 3\n",
            "avg influence: 5464.3\n",
            "current time:- 2023-08-28 22:30:36.289412\n",
            "action space: MultiDiscrete([4 5])\n",
            "[[[:::::::::::::]]]sol length 100[[[[::::::::::::::::::]]]]\n",
            "current time:- 2023-08-28 22:31:02.552548\n",
            "====================MODE: 0\n",
            "avg influence: 6335.1\n",
            ":::::::::::::::::::::::::::::::::::::::::\n",
            "current time:- 2023-08-28 22:33:48.452827\n",
            "====================MODE: 1\n",
            "avg influence: 6342.5\n",
            ":::::::::::::::::::::::::::::::::::::::::\n",
            "current time:- 2023-08-28 22:36:37.106669\n",
            "====================MODE: 2\n",
            "avg influence: 6397.2\n",
            ":::::::::::::::::::::::::::::::::::::::::\n",
            "current time:- 2023-08-28 22:39:31.156154\n",
            "====================MODE: 3\n",
            "avg influence: 6528.8\n",
            "current time:- 2023-08-28 22:42:21.224634\n"
          ]
        }
      ],
      "source": [
        "env = EnvClass(graph,50,50,0,0,\"single\", 5, musicPref)\n",
        "getHeuResults(\"sol length 5\")\n",
        "env = EnvClass(graph,50,50,0,0,\"single\", 10, musicPref)\n",
        "getHeuResults(\"sol length 10\")\n",
        "env = EnvClass(graph,50,50,0,0,\"single\", 15, musicPref)\n",
        "getHeuResults(\"sol length 15\")\n",
        "env = EnvClass(graph,50,50,0,0,\"single\", 20, musicPref)\n",
        "getHeuResults(\"sol length 20\")\n",
        "env = EnvClass(graph,50,50,0,0,\"single\", 25, musicPref)\n",
        "getHeuResults(\"sol length 25\")\n",
        "env = EnvClass(graph,50,50,0,0,\"single\", 30, musicPref)\n",
        "getHeuResults(\"sol length 30\")\n",
        "env = EnvClass(graph,50,50,0,0,\"single\", 40, musicPref)\n",
        "getHeuResults(\"sol length 40\")\n",
        "env = EnvClass(graph,50,50,0,0,\"single\", 50, musicPref)\n",
        "getHeuResults(\"sol length 50\")\n",
        "env = EnvClass(graph,50,50,0,0,\"single\", 100, musicPref)\n",
        "getHeuResults(\"sol length 100\")\n"
      ]
    },
    {
      "cell_type": "code",
      "execution_count": null,
      "metadata": {
        "colab": {
          "background_save": true
        },
        "id": "WT7RfuEzaht8"
      },
      "outputs": [],
      "source": [
        "env.baseCount = 40\n",
        "env.reset()"
      ]
    },
    {
      "cell_type": "code",
      "execution_count": null,
      "metadata": {
        "colab": {
          "background_save": true
        },
        "id": "_RPVm9XlXkza"
      },
      "outputs": [],
      "source": [
        "# result = 0\n",
        "# count = 10\n",
        "# for i in range(count):\n",
        "#   obs = env.reset()\n",
        "#   env.coreNetwork.setWeghts(100,0,0,0)\n",
        "#   env.step([2,2])\n",
        "#   result += env.baseScore+env.currentScore\n",
        "# print(\"influence(avg of\",count,\"):\",env.baseScore+env.currentScore)"
      ]
    },
    {
      "cell_type": "code",
      "execution_count": null,
      "metadata": {
        "colab": {
          "background_save": true
        },
        "id": "3XrEGyddQMVS"
      },
      "outputs": [],
      "source": [
        "avg = 0\n",
        "for j in range(10):\n",
        "  obs = env.reset()\n",
        "  env.coreNetwork.setWeghts(100,0,0,0)\n",
        "  for z in range(50):\n",
        "    env.step([2,2])\n",
        "  i=0\n",
        "  done = False\n",
        "  answ = env.baseScore+env.currentScore\n",
        "  print(\"answer solution\",env.getSolution())\n",
        "  print(\"influence (#\",j,\")\",answ)\n",
        "  avg += answ\n",
        "print(\"====================\")\n",
        "print(\"avg influence:\", avg/10)"
      ]
    },
    {
      "cell_type": "code",
      "execution_count": null,
      "metadata": {
        "colab": {
          "background_save": true
        },
        "id": "bB9ghjjmQZKU"
      },
      "outputs": [],
      "source": [
        "avg = 0\n",
        "for j in range(10):\n",
        "  obs = env.reset()\n",
        "  env.coreNetwork.setWeghts(0,100,0,0)\n",
        "  for z in range(50):\n",
        "    env.step([2,2])\n",
        "  i=0\n",
        "  done = False\n",
        "  answ = env.baseScore+env.currentScore\n",
        "  print(\"answer solution\",env.getSolution())\n",
        "  print(\"influence (#\",j,\")\",answ)\n",
        "  avg += answ\n",
        "print(\"====================\")\n",
        "print(\"avg influence:\", avg/10)"
      ]
    },
    {
      "cell_type": "code",
      "execution_count": null,
      "metadata": {
        "colab": {
          "background_save": true
        },
        "id": "qNTmm8J4Qdbe"
      },
      "outputs": [],
      "source": [
        "avg = 0\n",
        "for j in range(10):\n",
        "  obs = env.reset()\n",
        "  env.coreNetwork.setWeghts(0,0,100,0)\n",
        "  for z in range(50):\n",
        "    env.step([2,2])\n",
        "  i=0\n",
        "  done = False\n",
        "  answ = env.baseScore+env.currentScore\n",
        "  print(\"answer solution\",env.getSolution())\n",
        "  print(\"influence (#\",j,\")\",answ)\n",
        "  avg += answ\n",
        "print(\"====================\")\n",
        "print(\"avg influence:\", avg/10)"
      ]
    },
    {
      "cell_type": "code",
      "execution_count": null,
      "metadata": {
        "colab": {
          "background_save": true
        },
        "id": "-KW8p0h2Qf3s"
      },
      "outputs": [],
      "source": [
        "avg = 0\n",
        "for j in range(10):\n",
        "  obs = env.reset()\n",
        "  env.coreNetwork.setWeghts(0,0,0,100)\n",
        "  for z in range(50):\n",
        "    env.step([2,2])\n",
        "  i=0\n",
        "  done = False\n",
        "  answ = env.baseScore+env.currentScore\n",
        "  print(\"answer solution\",env.getSolution())\n",
        "  print(\"influence (#\",j,\")\",answ)\n",
        "  avg += answ\n",
        "print(\"====================\")\n",
        "print(\"avg influence:\", avg/10)"
      ]
    },
    {
      "cell_type": "code",
      "execution_count": null,
      "metadata": {
        "colab": {
          "background_save": true
        },
        "id": "AWmiV0s8ghCs"
      },
      "outputs": [],
      "source": [
        "G = readGraph(fileAddress)\n",
        "nx.info(G)"
      ]
    },
    {
      "cell_type": "code",
      "execution_count": null,
      "metadata": {
        "colab": {
          "background_save": true
        },
        "id": "wKJ8lpZniMO6"
      },
      "outputs": [],
      "source": [
        "env.reset()\n",
        "print(\"solution\",env.getSolution())\n",
        "print(\"influence\",env.getBestInfluence())"
      ]
    },
    {
      "cell_type": "code",
      "execution_count": null,
      "metadata": {
        "colab": {
          "background_save": true
        },
        "id": "_iyKLeEx0Ugf"
      },
      "outputs": [],
      "source": [
        "codeSol = env.bestSol\n",
        "env.reset()\n",
        "defSol = env.getSolution()\n",
        "print(set(codeSol) - set(defSol))"
      ]
    },
    {
      "cell_type": "markdown",
      "metadata": {
        "id": "x1BQPRvsUYEj"
      },
      "source": [
        "#Random"
      ]
    },
    {
      "cell_type": "code",
      "execution_count": null,
      "metadata": {
        "id": "O1iQUXPlVcZd"
      },
      "outputs": [],
      "source": [
        "from random import sample"
      ]
    },
    {
      "cell_type": "code",
      "execution_count": null,
      "metadata": {
        "colab": {
          "base_uri": "https://localhost:8080/"
        },
        "id": "dNaXoFUjUaVr",
        "outputId": "cc07821b-b9b6-4df2-9826-c70f71f74866"
      },
      "outputs": [
        {
          "name": "stderr",
          "output_type": "stream",
          "text": [
            "/usr/local/lib/python3.10/dist-packages/ipykernel/ipkernel.py:283: DeprecationWarning: `should_run_async` will not call `transform_cell` automatically in the future. Please pass the result to `transformed_cell` argument and any exception that happen during thetransform in `preprocessing_exc_tuple` in IPython 7.17 and above.\n",
            "  and should_run_async(code)\n"
          ]
        }
      ],
      "source": [
        "class CoreNetworkRand ():\n",
        "  def __init__(self,graph, ct1, ct2, ct3, ct4, solCount, musicPrefs):\n",
        "\n",
        "    self.musicPrefs = musicPrefs\n",
        "    self.solutionCount = solCount\n",
        "    self.influenceThreshold = 80\n",
        "    self.network = graph.copy()\n",
        "    # print(\"############>\",len(self.network.nodes['10']['topicsVec']))\n",
        "#     self.scoresDegree = nx.algorithms.degree_centrality(self.network)#sorted(env.network.degree, key=lambda x: x[1], reverse=False)\n",
        "    # print(self.scoresDegree)\n",
        "#     self.scoresCloseness = nx.algorithms.closeness_centrality(self.network)\n",
        "    # print(self.scoresCloseness)\n",
        "#     self.scoreBetweenness= nx.algorithms.betweenness_centrality(self.network)\n",
        "    # print(self.scoreBetweenness)\n",
        "#     self.scoreEigenvector= nx.algorithms.eigenvector_centrality(self.network,max_iter=1500)\n",
        "    # print(self.scoreEigenvector)\n",
        "    with open('/content/'+netowrkName+'_degreeCentralityData', 'rb') as fileHandle:\n",
        "        self.scoresDegree = fixArr(pickle.load(fileHandle))\n",
        "    with open('/content/'+netowrkName+'_scoresClosenessData', 'rb') as fileHandle:\n",
        "        self.scoresCloseness = fixArr(pickle.load(fileHandle))\n",
        "    with open('/content/'+netowrkName+'_scoreBetweennessData', 'rb') as fileHandle:\n",
        "        self.scoreBetweenness = fixArr(pickle.load(fileHandle))\n",
        "    with open('/content/'+netowrkName+'_scoreEigenvectorData', 'rb') as fileHandle:\n",
        "        self.scoreEigenvector = fixArr(pickle.load(fileHandle))\n",
        "    self.normalizeScoreVectors()\n",
        "\n",
        "    self.t1 = ct1\n",
        "    self.t2 = ct2\n",
        "    self.t3 = ct3\n",
        "    self.t4 = ct4\n",
        "    self.setWeghts(1,1,1,1)\n",
        "    self.infectedNodes = self.IC()\n",
        "\n",
        "\n",
        "    self.wDegree = 1\n",
        "    self.wCloseness = 1\n",
        "    self.wBetweenness = 1\n",
        "    self.wEigenvector = 1\n",
        "  def normalizeArr(self, arr, t_min, t_max):\n",
        "    maxItem = sorted(arr.items(), key=lambda x: x[1], reverse=True)[0]\n",
        "    # arr = [int(value) for value in sarr]\n",
        "    # norm_arr = [] 40\n",
        "    # print(maxItem)\n",
        "    diff = t_max - t_min\n",
        "    diff_arr = maxItem[1] - 0\n",
        "    for nodeName in self.network.nodes:\n",
        "        temp = (((arr[nodeName])*diff)/diff_arr) + t_min\n",
        "        # norm_arr.append(temp)\n",
        "        arr[nodeName] = temp\n",
        "    # string_arr = [str(number) for number in norm_arr]\n",
        "    return arr#norm_arr\n",
        "  def normalizeScoreVectors(self):\n",
        "    self.scoresDegree = self.normalizeArr(self.scoresDegree,0,2)\n",
        "    self.scoresCloseness = self.normalizeArr(self.scoresCloseness,0,2)\n",
        "    self.scoreBetweenness = self.normalizeArr(self.scoreBetweenness,0,2)\n",
        "    self.scoreEigenvector = self.normalizeArr(self.scoreEigenvector,0,2)\n",
        "    # print(\"Normalized scores\")\n",
        "    # print(self.scoresDegree)\n",
        "    # print(self.scoresCloseness)\n",
        "    # print(self.scoreBetweenness)\n",
        "    # print(self.scoreEigenvector)\n",
        "  def getWeights(self):\n",
        "    return [self.wDegree , self.wCloseness, self.wBetweenness, self.wEigenvector]\n",
        "  def modifyWeghts(self, wd, wc, wb, we):\n",
        "    self.wDegree += wd\n",
        "    self.wCloseness += wc\n",
        "    self.wBetweenness += wb\n",
        "    self.wEigenvector += we\n",
        "\n",
        "    self.wDegree = max(self.wDegree ,0)\n",
        "    self.wCloseness = max(self.wCloseness ,0)\n",
        "    self.wBetweenness = max(self.wBetweenness ,0)\n",
        "    self.wEigenvector = max(self.wEigenvector ,0)\n",
        "\n",
        "    self.wDegree = min(self.wDegree ,99)\n",
        "    self.wCloseness = min(self.wCloseness ,99)\n",
        "    self.wBetweenness = min(self.wBetweenness ,99)\n",
        "    self.wEigenvector = min(self.wEigenvector ,99)\n",
        "    mergedScores={nodeName:self.wDegree*self.scoresDegree[nodeName] + self.wCloseness*self.scoresCloseness[nodeName] + self.wBetweenness*self.scoreBetweenness[nodeName] + self.wEigenvector*self.scoreEigenvector[nodeName]  for nodeName in self.network.nodes}\n",
        "    self.sortedNodesList = sorted(mergedScores.items(), key = lambda item:item[1],reverse=True)\n",
        "  def setWeghts(self, wd, wc, wb, we):\n",
        "    self.wDegree = wd\n",
        "    self.wCloseness = wc\n",
        "    self.wBetweenness = wb\n",
        "    self.wEigenvector = we\n",
        "    mergedScores={nodeName:self.wDegree*self.scoresDegree[nodeName] + self.wCloseness*self.scoresCloseness[nodeName] + self.wBetweenness*self.scoreBetweenness[nodeName] + self.wEigenvector*self.scoreEigenvector[nodeName]  for nodeName in self.network.nodes}\n",
        "    self.sortedNodesList = sorted(mergedScores.items(), key = lambda item:item[1],reverse=True)\n",
        "  def reset(self):\n",
        "    self.setWeghts(1,1,1,1)\n",
        "    self.infectedNodes = self.IC()\n",
        "  # def readGraph(self, fileAddress):\n",
        "  #   G=nx.Graph()\n",
        "  #   with open(fileAddress) as f:\n",
        "  #     for line in f:\n",
        "  #         # print(line.strip())\n",
        "  #         lineInputs = line.strip().split()\n",
        "  #         # print(lineInputs)\n",
        "  #         # print(lineInputs.length)\n",
        "  #         (a,b,t1,t2,t3,t4,t5) = (lineInputs[0],lineInputs[1],lineInputs[2],lineInputs[3],lineInputs[4],lineInputs[5],lineInputs[6])\n",
        "  #         # print(lineInputs[2],t1)\n",
        "  #         if(G.has_node(a) and G.has_node(b)):\n",
        "  #           continue\n",
        "  #         G.add_node(a)\n",
        "  #         G.add_node(b)\n",
        "  #         G.add_edges_from([  (a,b,{\"p1\":t1 , \"p2\":t2 , \"p3\":t3 , \"p4\":t4, \"p5\":t5})])\n",
        "\n",
        "  #   return G\n",
        "  def propagate(self, new_active):\n",
        "      targets = []\n",
        "      for node in new_active:\n",
        "          targets += self.network.neighbors(node)\n",
        "\n",
        "      return(targets)\n",
        "  def IC(self,mc=1,randomSelection = False):\n",
        "      it = self.influenceThreshold\n",
        "      solutionCount = self.solutionCount\n",
        "      \"\"\"\n",
        "      Inputs:\n",
        "                  - Networkx object\n",
        "                  - E x 2 Pandas dataframe of directed edges. Columns: ['source','target']\n",
        "                  - dictionary with key=source node & values=out-neighbors\n",
        "              S:  List of seed nodes\n",
        "              mc: Number of Monte-Carlo simulations,\n",
        "      Output: Average number of nodes influenced by seed nodes in S\n",
        "      \"\"\"\n",
        "\n",
        "      # Loop over the Monte-Carlo Simulations\n",
        "      spread = []\n",
        "\n",
        "      # Simulate propagation process\n",
        "      A = []\n",
        "      new_active = self.getTopNodes(solutionCount)#S[:], S[:]\n",
        "      if randomSelection:\n",
        "        new_active = random.sample(self.network.nodes, solutionCount)\n",
        "      # new_active=S\n",
        "      # A=S\n",
        "      while new_active:\n",
        "\n",
        "          # 1. Find out-neighbors for each newly active node\n",
        "          targets = self.propagate(new_active)\n",
        "\n",
        "          # 2. Determine newly activated neighbors\n",
        "          new_ones = list()\n",
        "          for influencer in new_active:\n",
        "            neighbors =  self.network.neighbors(influencer)\n",
        "            # print(list(neighbors))\n",
        "            for neighbor in list(neighbors):\n",
        "              topicPs = self.network.get_edge_data(influencer,neighbor)\n",
        "              ### the method below is ok for base=line solution reconstruciton\n",
        "              # influenceSuccessT5 = np.random.uniform(0,10000) < (int(self.network[influencer][neighbor][\"p5\"])*self.t5)\n",
        "              # (100-it)\n",
        "              influenceSuccess = np.random.uniform(0,100) < 0.25*100*(self.network[influencer][neighbor][\"weight\"]*infProb(str(influencer), self.musicPrefs, self.network))\n",
        "              # print(influenceSuccess)\n",
        "              # print(100*(self.network[influencer][neighbor][\"weight\"]*infProb(str(influencer), self.musicPrefs, self.network)))\n",
        "              if(influenceSuccess):\n",
        "                new_ones.append(neighbor)\n",
        "\n",
        "          # 3. Find newly activated nodes and add to the set of activated nodes\n",
        "          new_active = list(set(new_ones) - set(A))\n",
        "          A += new_active\n",
        "\n",
        "      spread.append(len(A))\n",
        "      # print(new_ones)\n",
        "      return np.mean(spread)\n",
        "      # return(np.mean(spread),A)\n",
        "\n",
        "  def getTopNodes(self, count):\n",
        "    #combine all 4 scores for each node\n",
        "    # print(self.sortedNodesList)\n",
        "    #sort the nodes with newly calculated scores\n",
        "    result = []\n",
        "    i = 0\n",
        "    for (node,score) in self.sortedNodesList:\n",
        "      if(i>=count):\n",
        "        break\n",
        "      result.append(node)\n",
        "      i += 1\n",
        "    # print(self.sortedNodesList)\n",
        "    # print(result)\n",
        "    return result\n",
        "  def spreadInfluence(self):\n",
        "    previousInfection = self.infectedNodes\n",
        "    self.infectedNodes = self.IC()\n",
        "    return self.infectedNodes - previousInfection   #amount of increase in infected nodes\n",
        "  def resetWeights(self):\n",
        "    self.setWeghts(1,1,1,1)"
      ]
    },
    {
      "cell_type": "code",
      "execution_count": null,
      "metadata": {
        "id": "OFSZNcBLUsdm"
      },
      "outputs": [],
      "source": [
        "# musicPref = np.zeros(len(topics))\n",
        "# musicPref[3] = 0.5\n",
        "# musicPref[2] = 0.8\n",
        "coreNetworkRand = CoreNetworkRand(graph, 50,50,50,0, 100,musicPref)"
      ]
    },
    {
      "cell_type": "code",
      "execution_count": null,
      "metadata": {
        "id": "YfD-iFh9kuOF"
      },
      "outputs": [],
      "source": [
        "def getRandomSelectionResults(count,verbose = False):\n",
        "  coreNetworkRand = CoreNetworkRand(graph, 50,50,50,0, count ,musicPref)\n",
        "  print(\"-------- random#\", count, \" ----------\")\n",
        "  sum = 0\n",
        "  for i in range(10):\n",
        "    current = coreNetworkRand.IC(randomSelection=True)\n",
        "    sum += current\n",
        "    coreNetworkRand.reset()\n",
        "    if(verbose):\n",
        "      print(current)\n",
        "  if(verbose):\n",
        "    print(\"==========================\")\n",
        "  print(sum/10)"
      ]
    },
    {
      "cell_type": "code",
      "execution_count": null,
      "metadata": {
        "colab": {
          "base_uri": "https://localhost:8080/"
        },
        "id": "CMmN4J52bznx",
        "outputId": "61757d42-981b-443c-fe04-8bdb6d680099"
      },
      "outputs": [
        {
          "name": "stdout",
          "output_type": "stream",
          "text": [
            "-------- random# 5  ----------\n"
          ]
        },
        {
          "name": "stderr",
          "output_type": "stream",
          "text": [
            "<ipython-input-131-5a6af4498035>:134: DeprecationWarning: Sampling from a set deprecated\n",
            "since Python 3.9 and will be removed in a subsequent version.\n",
            "  new_active = random.sample(self.network.nodes, solutionCount)\n"
          ]
        },
        {
          "name": "stdout",
          "output_type": "stream",
          "text": [
            "729.6\n",
            "-------- random# 10  ----------\n",
            "1494.9\n",
            "-------- random# 15  ----------\n",
            "682.5\n",
            "-------- random# 20  ----------\n",
            "1472.1\n",
            "-------- random# 25  ----------\n",
            "1469.2\n",
            "-------- random# 30  ----------\n",
            "1876.2\n",
            "-------- random# 40  ----------\n",
            "1176.5\n",
            "-------- random# 50  ----------\n",
            "2802.4\n",
            "-------- random# 100  ----------\n",
            "2653.9\n"
          ]
        }
      ],
      "source": [
        "getRandomSelectionResults(5)\n",
        "getRandomSelectionResults(10)\n",
        "getRandomSelectionResults(15)\n",
        "getRandomSelectionResults(20)\n",
        "getRandomSelectionResults(25)\n",
        "getRandomSelectionResults(30)\n",
        "getRandomSelectionResults(40)\n",
        "getRandomSelectionResults(50)\n",
        "getRandomSelectionResults(100)"
      ]
    },
    {
      "cell_type": "markdown",
      "metadata": {
        "id": "8oLzimiI4jfy"
      },
      "source": [
        "setWeghts(self, wd, wc, wb, we)"
      ]
    },
    {
      "cell_type": "code",
      "execution_count": null,
      "metadata": {
        "colab": {
          "background_save": true
        },
        "id": "bEAOB3vDZSJ_"
      },
      "outputs": [],
      "source": [
        "sum = 0\n",
        "for i in range(10):\n",
        "  coreNetworkRand.setWeghts(100,0,0,0)\n",
        "  current = coreNetworkRand.IC()\n",
        "  sum += current\n",
        "  coreNetworkRand.reset()\n",
        "  print(current)\n",
        "print(\"==========================\")\n",
        "print(sum/10)"
      ]
    },
    {
      "cell_type": "code",
      "execution_count": null,
      "metadata": {
        "colab": {
          "background_save": true
        },
        "id": "t5C_ZX5u5WVH"
      },
      "outputs": [],
      "source": [
        "sum = 0\n",
        "for i in range(10):\n",
        "  coreNetworkRand.setWeghts(0,100,0,0)\n",
        "  current = coreNetworkRand.IC()\n",
        "  sum += current\n",
        "  coreNetworkRand.reset()\n",
        "  print(current)\n",
        "print(\"==========================\")\n",
        "print(sum/10)"
      ]
    },
    {
      "cell_type": "code",
      "execution_count": null,
      "metadata": {
        "colab": {
          "background_save": true
        },
        "id": "_C7MIaaP5Xn6"
      },
      "outputs": [],
      "source": [
        "sum = 0\n",
        "for i in range(10):\n",
        "  coreNetworkRand.setWeghts(0,0,100,0)\n",
        "  current = coreNetworkRand.IC()\n",
        "  sum += current\n",
        "  coreNetworkRand.reset()\n",
        "  print(current)\n",
        "print(\"==========================\")\n",
        "print(sum/10)"
      ]
    },
    {
      "cell_type": "code",
      "execution_count": null,
      "metadata": {
        "colab": {
          "background_save": true
        },
        "id": "FzElwLPT5ZX5"
      },
      "outputs": [],
      "source": [
        "sum = 0\n",
        "for i in range(10):\n",
        "  coreNetworkRand.setWeghts(0,0,0,100)\n",
        "  current = coreNetworkRand.IC()\n",
        "  sum += current\n",
        "  coreNetworkRand.reset()\n",
        "  print(current)\n",
        "print(\"==========================\")\n",
        "print(sum/10)"
      ]
    },
    {
      "cell_type": "code",
      "execution_count": null,
      "metadata": {
        "colab": {
          "background_save": true
        },
        "id": "54mgdbydWa7y"
      },
      "outputs": [],
      "source": [
        "sum = 0\n",
        "for i in range(10):\n",
        "  current = coreNetworkRand.IC(randomSelection=True)\n",
        "  sum += current\n",
        "  coreNetworkRand.reset()\n",
        "  print(current)\n",
        "print(\"==========================\")\n",
        "print(sum/10)"
      ]
    },
    {
      "cell_type": "code",
      "execution_count": null,
      "metadata": {
        "colab": {
          "background_save": true
        },
        "id": "_tpf0SEwVwfP"
      },
      "outputs": [],
      "source": [
        "print(coreNetworkRand.IC(randomSelection=True))"
      ]
    }
  ],
  "metadata": {
    "colab": {
      "provenance": []
    },
    "gpuClass": "standard",
    "kernelspec": {
      "display_name": "Python 3 (ipykernel)",
      "language": "python",
      "name": "python3"
    },
    "language_info": {
      "codemirror_mode": {
        "name": "ipython",
        "version": 3
      },
      "file_extension": ".py",
      "mimetype": "text/x-python",
      "name": "python",
      "nbconvert_exporter": "python",
      "pygments_lexer": "ipython3",
      "version": "3.9.12"
    }
  },
  "nbformat": 4,
  "nbformat_minor": 0
}